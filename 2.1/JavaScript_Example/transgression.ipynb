{
 "cells": [
  {
   "cell_type": "markdown",
   "id": "b918dc2e",
   "metadata": {},
   "source": [
    "Eventhough the whole concept is to learn python. Here in this example were we are going to make a transgression and we will use JavaScript instead"
   ]
  },
  {
   "cell_type": "markdown",
   "id": "525c02ce",
   "metadata": {},
   "source": [
    "We will see the library Bokeh. - dynamic plots\n",
    "\n",
    "What it does , is that it takes Python code and translates it into JavaScript\n",
    "\n",
    "We will create a diagram which displays all the necessary graphs through Gapminder  (https://www.gapminder.org/ )\n",
    "\n",
    "More information can be found in the folder\n",
    "\n",
    "https://mathesis.cup.gr/asset-v1:ComputerScience+CS5.1+22A+type@asset+block/gdp_life_expectancy_gapminder.html\n"
   ]
  },
  {
   "cell_type": "markdown",
   "id": "0bd38306",
   "metadata": {},
   "source": [
    "We will also see another dynamic plot for the USA tv shows\n",
    "\n",
    "https://www.economist.com/graphic-detail/2018/11/24/tvs-golden-age-is-real"
   ]
  },
  {
   "cell_type": "code",
   "execution_count": 6,
   "id": "a3155bb2",
   "metadata": {},
   "outputs": [
    {
     "ename": "SyntaxError",
     "evalue": "invalid syntax (Temp/ipykernel_66460/2401711575.py, line 1)",
     "output_type": "error",
     "traceback": [
      "\u001b[1;36m  File \u001b[1;32m\"C:\\Users\\Pelop\\AppData\\Local\\Temp/ipykernel_66460/2401711575.py\"\u001b[1;36m, line \u001b[1;32m1\u001b[0m\n\u001b[1;33m    python3 -m http.server8000\u001b[0m\n\u001b[1;37m               ^\u001b[0m\n\u001b[1;31mSyntaxError\u001b[0m\u001b[1;31m:\u001b[0m invalid syntax\n"
     ]
    }
   ],
   "source": [
    "python3 -m http.server8000"
   ]
  },
  {
   "cell_type": "code",
   "execution_count": null,
   "id": "b0a59e74",
   "metadata": {},
   "outputs": [],
   "source": []
  }
 ],
 "metadata": {
  "kernelspec": {
   "display_name": "Python 3 (ipykernel)",
   "language": "python",
   "name": "python3"
  },
  "language_info": {
   "codemirror_mode": {
    "name": "ipython",
    "version": 3
   },
   "file_extension": ".py",
   "mimetype": "text/x-python",
   "name": "python",
   "nbconvert_exporter": "python",
   "pygments_lexer": "ipython3",
   "version": "3.9.7"
  }
 },
 "nbformat": 4,
 "nbformat_minor": 5
}
