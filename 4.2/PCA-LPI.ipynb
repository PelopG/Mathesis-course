{
 "cells": [
  {
   "cell_type": "markdown",
   "id": "2abcf843",
   "metadata": {},
   "source": [
    "In this exerice we will use the method PCA\n",
    "\n",
    "moeba (https://stats.stackexchange.com/users/28666/amoeba), Making sense of principal component analysis, eigenvectors & eigenvalues, URL (version: 2021-12-03): https://stats.stackexchange.com/q/140579.\n",
    "\n",
    "EXAMPLE:\n",
    "\n",
    "We have a collection of wines.\n",
    "The wines can be described by their color , alchool percentage and many more.\n",
    "\n",
    "Lets see if we can describe the wine with  less characteristics\n",
    "\n",
    "We want to find some characteristics which will diffirentiate the wines\n",
    "\n",
    "Also each characterestics which we will find need to have a large diffrence between the starting characteristics\n",
    "\n",
    "We are not intersted in getting a subdivision of the standard characterestics but rather create new ones which are correlated with the standard ones\n",
    "\n",
    "Lets imagine that we have only 2 characterestics.\n",
    "\n",
    "Each characterestics have different dimensions hence (x,y)\n",
    "\n",
    "If we wanted to describe them with only 1 dimension (z) what would it be?\n",
    "\n",
    "https://stats.stackexchange.com/a/140579\n",
    "\n",
    "\n",
    "Solution:\n",
    "\n",
    "The new dimension which we will find need to have a large variance\n",
    "\n",
    "But the difference should be kept minimal\n",
    "\n",
    " https://stats.stackexchange.com/a/140579\n",
    " \n",
    " ( see animation above )\n",
    " \n",
    "The above process is named: Principal Component Analysis\n",
    "Falls under the category of un-supervised Machine learning - no solutions for the training model\n",
    " \n",
    "Hence: dimensionality reduction\n"
   ]
  },
  {
   "cell_type": "markdown",
   "id": "91fba3da",
   "metadata": {},
   "source": [
    "Lets see now an example that we have seen before from the world bank LPI\n",
    "\n",
    "https://lpi.worldbank.org/\n",
    "\n",
    "WORLD BANK measures 6 variables:\n",
    "\n",
    "1) Competence and quality of logistics services\n",
    "\n",
    "2) Frequency with which shipments reach consignee within scheduled or expected time\n",
    "\n",
    "3) Ease of arranging competitively priced shipments\n",
    "\n",
    "4) Quality of trade and transport-related infrastructure\n",
    "\n",
    "5) Ability to track and trace consignments\n",
    "\n",
    "6) Efficiency of customs clearance process\n",
    "\n",
    "Lets see how we will use PCA"
   ]
  },
  {
   "cell_type": "code",
   "execution_count": 1,
   "id": "70b983c4",
   "metadata": {},
   "outputs": [
    {
     "data": {
      "text/html": [
       "<div>\n",
       "<style scoped>\n",
       "    .dataframe tbody tr th:only-of-type {\n",
       "        vertical-align: middle;\n",
       "    }\n",
       "\n",
       "    .dataframe tbody tr th {\n",
       "        vertical-align: top;\n",
       "    }\n",
       "\n",
       "    .dataframe thead th {\n",
       "        text-align: right;\n",
       "    }\n",
       "</style>\n",
       "<table border=\"1\" class=\"dataframe\">\n",
       "  <thead>\n",
       "    <tr style=\"text-align: right;\">\n",
       "      <th></th>\n",
       "      <th>Country</th>\n",
       "      <th>LPI</th>\n",
       "      <th>Customs</th>\n",
       "      <th>Infrastructure</th>\n",
       "      <th>International shipments</th>\n",
       "      <th>Logistics quality and competence</th>\n",
       "      <th>Tracking and tracing</th>\n",
       "      <th>Timeliness</th>\n",
       "    </tr>\n",
       "  </thead>\n",
       "  <tbody>\n",
       "    <tr>\n",
       "      <th>0</th>\n",
       "      <td>Germany</td>\n",
       "      <td>4.20</td>\n",
       "      <td>4.09</td>\n",
       "      <td>4.37</td>\n",
       "      <td>3.86</td>\n",
       "      <td>4.31</td>\n",
       "      <td>4.24</td>\n",
       "      <td>4.39</td>\n",
       "    </tr>\n",
       "    <tr>\n",
       "      <th>1</th>\n",
       "      <td>Sweden</td>\n",
       "      <td>4.05</td>\n",
       "      <td>4.05</td>\n",
       "      <td>4.24</td>\n",
       "      <td>3.92</td>\n",
       "      <td>3.98</td>\n",
       "      <td>3.88</td>\n",
       "      <td>4.28</td>\n",
       "    </tr>\n",
       "    <tr>\n",
       "      <th>2</th>\n",
       "      <td>Belgium</td>\n",
       "      <td>4.04</td>\n",
       "      <td>3.66</td>\n",
       "      <td>3.98</td>\n",
       "      <td>3.99</td>\n",
       "      <td>4.13</td>\n",
       "      <td>4.05</td>\n",
       "      <td>4.41</td>\n",
       "    </tr>\n",
       "    <tr>\n",
       "      <th>3</th>\n",
       "      <td>Austria</td>\n",
       "      <td>4.03</td>\n",
       "      <td>3.71</td>\n",
       "      <td>4.18</td>\n",
       "      <td>3.88</td>\n",
       "      <td>4.08</td>\n",
       "      <td>4.09</td>\n",
       "      <td>4.25</td>\n",
       "    </tr>\n",
       "    <tr>\n",
       "      <th>4</th>\n",
       "      <td>Japan</td>\n",
       "      <td>4.03</td>\n",
       "      <td>3.99</td>\n",
       "      <td>4.25</td>\n",
       "      <td>3.59</td>\n",
       "      <td>4.09</td>\n",
       "      <td>4.05</td>\n",
       "      <td>4.25</td>\n",
       "    </tr>\n",
       "    <tr>\n",
       "      <th>...</th>\n",
       "      <td>...</td>\n",
       "      <td>...</td>\n",
       "      <td>...</td>\n",
       "      <td>...</td>\n",
       "      <td>...</td>\n",
       "      <td>...</td>\n",
       "      <td>...</td>\n",
       "      <td>...</td>\n",
       "    </tr>\n",
       "    <tr>\n",
       "      <th>155</th>\n",
       "      <td>Sierra Leone</td>\n",
       "      <td>2.08</td>\n",
       "      <td>1.82</td>\n",
       "      <td>1.82</td>\n",
       "      <td>2.18</td>\n",
       "      <td>2.00</td>\n",
       "      <td>2.27</td>\n",
       "      <td>2.34</td>\n",
       "    </tr>\n",
       "    <tr>\n",
       "      <th>156</th>\n",
       "      <td>Niger</td>\n",
       "      <td>2.07</td>\n",
       "      <td>1.77</td>\n",
       "      <td>2.00</td>\n",
       "      <td>2.00</td>\n",
       "      <td>2.10</td>\n",
       "      <td>2.22</td>\n",
       "      <td>2.33</td>\n",
       "    </tr>\n",
       "    <tr>\n",
       "      <th>157</th>\n",
       "      <td>Burundi</td>\n",
       "      <td>2.06</td>\n",
       "      <td>1.69</td>\n",
       "      <td>1.95</td>\n",
       "      <td>2.21</td>\n",
       "      <td>2.33</td>\n",
       "      <td>2.01</td>\n",
       "      <td>2.17</td>\n",
       "    </tr>\n",
       "    <tr>\n",
       "      <th>158</th>\n",
       "      <td>Angola</td>\n",
       "      <td>2.05</td>\n",
       "      <td>1.57</td>\n",
       "      <td>1.86</td>\n",
       "      <td>2.20</td>\n",
       "      <td>2.00</td>\n",
       "      <td>2.00</td>\n",
       "      <td>2.59</td>\n",
       "    </tr>\n",
       "    <tr>\n",
       "      <th>159</th>\n",
       "      <td>Afghanistan</td>\n",
       "      <td>1.95</td>\n",
       "      <td>1.73</td>\n",
       "      <td>1.81</td>\n",
       "      <td>2.10</td>\n",
       "      <td>1.92</td>\n",
       "      <td>1.70</td>\n",
       "      <td>2.38</td>\n",
       "    </tr>\n",
       "  </tbody>\n",
       "</table>\n",
       "<p>160 rows × 8 columns</p>\n",
       "</div>"
      ],
      "text/plain": [
       "          Country   LPI  Customs  Infrastructure  International shipments  \\\n",
       "0         Germany  4.20     4.09            4.37                     3.86   \n",
       "1          Sweden  4.05     4.05            4.24                     3.92   \n",
       "2         Belgium  4.04     3.66            3.98                     3.99   \n",
       "3         Austria  4.03     3.71            4.18                     3.88   \n",
       "4           Japan  4.03     3.99            4.25                     3.59   \n",
       "..            ...   ...      ...             ...                      ...   \n",
       "155  Sierra Leone  2.08     1.82            1.82                     2.18   \n",
       "156         Niger  2.07     1.77            2.00                     2.00   \n",
       "157       Burundi  2.06     1.69            1.95                     2.21   \n",
       "158        Angola  2.05     1.57            1.86                     2.20   \n",
       "159   Afghanistan  1.95     1.73            1.81                     2.10   \n",
       "\n",
       "     Logistics quality and competence  Tracking and tracing  Timeliness  \n",
       "0                                4.31                  4.24        4.39  \n",
       "1                                3.98                  3.88        4.28  \n",
       "2                                4.13                  4.05        4.41  \n",
       "3                                4.08                  4.09        4.25  \n",
       "4                                4.09                  4.05        4.25  \n",
       "..                                ...                   ...         ...  \n",
       "155                              2.00                  2.27        2.34  \n",
       "156                              2.10                  2.22        2.33  \n",
       "157                              2.33                  2.01        2.17  \n",
       "158                              2.00                  2.00        2.59  \n",
       "159                              1.92                  1.70        2.38  \n",
       "\n",
       "[160 rows x 8 columns]"
      ]
     },
     "execution_count": 1,
     "metadata": {},
     "output_type": "execute_result"
    }
   ],
   "source": [
    "# Lets read out data\n",
    "import pandas as pd\n",
    "\n",
    "lpi_df = pd.read_csv(\"International_LPI_2018.csv\")\n",
    "lpi_df"
   ]
  },
  {
   "cell_type": "code",
   "execution_count": 2,
   "id": "17f822d7",
   "metadata": {},
   "outputs": [
    {
     "data": {
      "text/html": [
       "<div>\n",
       "<style scoped>\n",
       "    .dataframe tbody tr th:only-of-type {\n",
       "        vertical-align: middle;\n",
       "    }\n",
       "\n",
       "    .dataframe tbody tr th {\n",
       "        vertical-align: top;\n",
       "    }\n",
       "\n",
       "    .dataframe thead th {\n",
       "        text-align: right;\n",
       "    }\n",
       "</style>\n",
       "<table border=\"1\" class=\"dataframe\">\n",
       "  <thead>\n",
       "    <tr style=\"text-align: right;\">\n",
       "      <th></th>\n",
       "      <th>Customs</th>\n",
       "      <th>Infrastructure</th>\n",
       "      <th>International shipments</th>\n",
       "      <th>Logistics quality and competence</th>\n",
       "      <th>Tracking and tracing</th>\n",
       "      <th>Timeliness</th>\n",
       "    </tr>\n",
       "  </thead>\n",
       "  <tbody>\n",
       "    <tr>\n",
       "      <th>0</th>\n",
       "      <td>4.09</td>\n",
       "      <td>4.37</td>\n",
       "      <td>3.86</td>\n",
       "      <td>4.31</td>\n",
       "      <td>4.24</td>\n",
       "      <td>4.39</td>\n",
       "    </tr>\n",
       "    <tr>\n",
       "      <th>1</th>\n",
       "      <td>4.05</td>\n",
       "      <td>4.24</td>\n",
       "      <td>3.92</td>\n",
       "      <td>3.98</td>\n",
       "      <td>3.88</td>\n",
       "      <td>4.28</td>\n",
       "    </tr>\n",
       "    <tr>\n",
       "      <th>2</th>\n",
       "      <td>3.66</td>\n",
       "      <td>3.98</td>\n",
       "      <td>3.99</td>\n",
       "      <td>4.13</td>\n",
       "      <td>4.05</td>\n",
       "      <td>4.41</td>\n",
       "    </tr>\n",
       "    <tr>\n",
       "      <th>3</th>\n",
       "      <td>3.71</td>\n",
       "      <td>4.18</td>\n",
       "      <td>3.88</td>\n",
       "      <td>4.08</td>\n",
       "      <td>4.09</td>\n",
       "      <td>4.25</td>\n",
       "    </tr>\n",
       "    <tr>\n",
       "      <th>4</th>\n",
       "      <td>3.99</td>\n",
       "      <td>4.25</td>\n",
       "      <td>3.59</td>\n",
       "      <td>4.09</td>\n",
       "      <td>4.05</td>\n",
       "      <td>4.25</td>\n",
       "    </tr>\n",
       "    <tr>\n",
       "      <th>...</th>\n",
       "      <td>...</td>\n",
       "      <td>...</td>\n",
       "      <td>...</td>\n",
       "      <td>...</td>\n",
       "      <td>...</td>\n",
       "      <td>...</td>\n",
       "    </tr>\n",
       "    <tr>\n",
       "      <th>155</th>\n",
       "      <td>1.82</td>\n",
       "      <td>1.82</td>\n",
       "      <td>2.18</td>\n",
       "      <td>2.00</td>\n",
       "      <td>2.27</td>\n",
       "      <td>2.34</td>\n",
       "    </tr>\n",
       "    <tr>\n",
       "      <th>156</th>\n",
       "      <td>1.77</td>\n",
       "      <td>2.00</td>\n",
       "      <td>2.00</td>\n",
       "      <td>2.10</td>\n",
       "      <td>2.22</td>\n",
       "      <td>2.33</td>\n",
       "    </tr>\n",
       "    <tr>\n",
       "      <th>157</th>\n",
       "      <td>1.69</td>\n",
       "      <td>1.95</td>\n",
       "      <td>2.21</td>\n",
       "      <td>2.33</td>\n",
       "      <td>2.01</td>\n",
       "      <td>2.17</td>\n",
       "    </tr>\n",
       "    <tr>\n",
       "      <th>158</th>\n",
       "      <td>1.57</td>\n",
       "      <td>1.86</td>\n",
       "      <td>2.20</td>\n",
       "      <td>2.00</td>\n",
       "      <td>2.00</td>\n",
       "      <td>2.59</td>\n",
       "    </tr>\n",
       "    <tr>\n",
       "      <th>159</th>\n",
       "      <td>1.73</td>\n",
       "      <td>1.81</td>\n",
       "      <td>2.10</td>\n",
       "      <td>1.92</td>\n",
       "      <td>1.70</td>\n",
       "      <td>2.38</td>\n",
       "    </tr>\n",
       "  </tbody>\n",
       "</table>\n",
       "<p>160 rows × 6 columns</p>\n",
       "</div>"
      ],
      "text/plain": [
       "     Customs  Infrastructure  International shipments  \\\n",
       "0       4.09            4.37                     3.86   \n",
       "1       4.05            4.24                     3.92   \n",
       "2       3.66            3.98                     3.99   \n",
       "3       3.71            4.18                     3.88   \n",
       "4       3.99            4.25                     3.59   \n",
       "..       ...             ...                      ...   \n",
       "155     1.82            1.82                     2.18   \n",
       "156     1.77            2.00                     2.00   \n",
       "157     1.69            1.95                     2.21   \n",
       "158     1.57            1.86                     2.20   \n",
       "159     1.73            1.81                     2.10   \n",
       "\n",
       "     Logistics quality and competence  Tracking and tracing  Timeliness  \n",
       "0                                4.31                  4.24        4.39  \n",
       "1                                3.98                  3.88        4.28  \n",
       "2                                4.13                  4.05        4.41  \n",
       "3                                4.08                  4.09        4.25  \n",
       "4                                4.09                  4.05        4.25  \n",
       "..                                ...                   ...         ...  \n",
       "155                              2.00                  2.27        2.34  \n",
       "156                              2.10                  2.22        2.33  \n",
       "157                              2.33                  2.01        2.17  \n",
       "158                              2.00                  2.00        2.59  \n",
       "159                              1.92                  1.70        2.38  \n",
       "\n",
       "[160 rows x 6 columns]"
      ]
     },
     "execution_count": 2,
     "metadata": {},
     "output_type": "execute_result"
    }
   ],
   "source": [
    "# Using the following variables:\n",
    "\n",
    "lpi_components = [\n",
    "    'Customs',\n",
    "    'Infrastructure',\n",
    "    'International shipments',\n",
    "    'Logistics quality and competence',\n",
    "    'Tracking and tracing',\n",
    "    'Timeliness'\n",
    "]\n",
    "\n",
    "lpi_components = lpi_df[lpi_components]\n",
    "lpi_components"
   ]
  },
  {
   "cell_type": "markdown",
   "id": "45d94e61",
   "metadata": {},
   "source": [
    "We have mentioned that PCA uses the variance of the variables .\n",
    "\n",
    "Hence we have to standardised our data"
   ]
  },
  {
   "cell_type": "code",
   "execution_count": 3,
   "id": "02775d02",
   "metadata": {},
   "outputs": [],
   "source": [
    "from sklearn.preprocessing import StandardScaler\n",
    "\n",
    "standard_scaler = StandardScaler()\n",
    "lpi_components_standard_scaled = standard_scaler.fit_transform(lpi_components)"
   ]
  },
  {
   "cell_type": "code",
   "execution_count": 4,
   "id": "8cf59130",
   "metadata": {},
   "outputs": [],
   "source": [
    "from sklearn.decomposition import PCA\n",
    "\n",
    "pca = PCA(n_components=1)"
   ]
  },
  {
   "cell_type": "code",
   "execution_count": 5,
   "id": "2520d4cc",
   "metadata": {},
   "outputs": [
    {
     "data": {
      "text/plain": [
       "PCA(n_components=1)"
      ]
     },
     "execution_count": 5,
     "metadata": {},
     "output_type": "execute_result"
    }
   ],
   "source": [
    "pca.fit(lpi_components_standard_scaled)"
   ]
  },
  {
   "cell_type": "code",
   "execution_count": 6,
   "id": "392aaee2",
   "metadata": {},
   "outputs": [
    {
     "data": {
      "text/plain": [
       "array([0.92257629])"
      ]
     },
     "execution_count": 6,
     "metadata": {},
     "output_type": "execute_result"
    }
   ],
   "source": [
    "# explained_variance_ratio calculated the variance\n",
    "pca.explained_variance_ratio_"
   ]
  },
  {
   "cell_type": "code",
   "execution_count": 7,
   "id": "62a5f5f3",
   "metadata": {},
   "outputs": [
    {
     "data": {
      "text/plain": [
       "array([[5.54547364],\n",
       "       [4.93808946],\n",
       "       [4.86533482],\n",
       "       [4.81834623],\n",
       "       [4.81569261],\n",
       "       [4.79085083],\n",
       "       [4.69701109],\n",
       "       [4.68746366],\n",
       "       [4.65614658],\n",
       "       [4.58455542]])"
      ]
     },
     "execution_count": 7,
     "metadata": {},
     "output_type": "execute_result"
    }
   ],
   "source": [
    "# Using transform we can display the new data onto the dimension ( red dots found in the animation )\n",
    "transformed = pca.transform(lpi_components_standard_scaled)\n",
    "transformed[:10]"
   ]
  },
  {
   "cell_type": "markdown",
   "id": "15d431f5",
   "metadata": {},
   "source": [
    "What did PCA found out:\n",
    "\n",
    "The new dimension is a new linear collection of the already present ones\n",
    "\n",
    "The components of this dimension are called: components_\n",
    "\n",
    "Οι συντελεστές των κυρίων συνιστωσών ονομάζονται φορτία (loadings)"
   ]
  },
  {
   "cell_type": "code",
   "execution_count": 8,
   "id": "fbbe8252",
   "metadata": {},
   "outputs": [
    {
     "data": {
      "text/plain": [
       "array([[0.40728498, 0.41303479, 0.39604297, 0.41660675, 0.41067906,\n",
       "        0.40552768]])"
      ]
     },
     "execution_count": 8,
     "metadata": {},
     "output_type": "execute_result"
    }
   ],
   "source": [
    "pca.components_"
   ]
  },
  {
   "cell_type": "markdown",
   "id": "aa47df76",
   "metadata": {},
   "source": [
    "Lets see it mathematically:\n",
    "\n",
    "   0,40728498x1+0,41303479x2+0,39604297x3+0,41660675x4+0,41067906x5+0,40552768x6"
   ]
  },
  {
   "cell_type": "code",
   "execution_count": 9,
   "id": "e1ef19b1",
   "metadata": {},
   "outputs": [
    {
     "name": "stdout",
     "output_type": "stream",
     "text": [
      "-3.816178904589358 5.545473639886474\n"
     ]
    }
   ],
   "source": [
    "print(transformed.min(), transformed.max())"
   ]
  },
  {
   "cell_type": "code",
   "execution_count": 11,
   "id": "13655ac6",
   "metadata": {},
   "outputs": [
    {
     "data": {
      "text/plain": [
       "array([4.2122752 , 4.05869046, 4.03685368, 4.03281921, 4.03928615,\n",
       "       4.03042283, 4.00731942, 4.00371973, 3.99503935, 3.98022523])"
      ]
     },
     "execution_count": 11,
     "metadata": {},
     "output_type": "execute_result"
    }
   ],
   "source": [
    "# Bypass the problem of the range of values above ( -3 to 5) \n",
    "#if we use the loadings to calculate the weighted average of the components\n",
    "\n",
    "import numpy as np\n",
    "\n",
    "np.average(lpi_components, axis=1, weights=pca.components_[0])[:10]"
   ]
  },
  {
   "cell_type": "markdown",
   "id": "ab9f91f3",
   "metadata": {},
   "source": [
    "What did we managed to find out\n",
    "\n",
    "By taking the 6 variables we were able to create a single 1 dimension!\n",
    "\n",
    "We use this method for example when the dimensions are too many for us to hangle\n",
    "\n",
    "Or dimensions contain noise\n",
    "\n",
    "Hence with less dimensions we are able to understand our problems much better\n",
    "\n",
    "NOTE:\n",
    "\n",
    "ITS OUR JOB TO FIGURE OUT THE DIMENSIONS AND UNDERSTAND THEM!"
   ]
  }
 ],
 "metadata": {
  "kernelspec": {
   "display_name": "Python 3 (ipykernel)",
   "language": "python",
   "name": "python3"
  },
  "language_info": {
   "codemirror_mode": {
    "name": "ipython",
    "version": 3
   },
   "file_extension": ".py",
   "mimetype": "text/x-python",
   "name": "python",
   "nbconvert_exporter": "python",
   "pygments_lexer": "ipython3",
   "version": "3.9.7"
  }
 },
 "nbformat": 4,
 "nbformat_minor": 5
}
