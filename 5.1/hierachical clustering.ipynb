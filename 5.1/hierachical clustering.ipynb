{
 "cells": [
  {
   "cell_type": "markdown",
   "id": "bf21762a",
   "metadata": {},
   "source": [
    "Taken from the book: An Introduction to Statistical Learning: with Applications in R"
   ]
  },
  {
   "cell_type": "code",
   "execution_count": 1,
   "id": "6bdb1e5f",
   "metadata": {},
   "outputs": [
    {
     "data": {
      "text/html": [
       "<div>\n",
       "<style scoped>\n",
       "    .dataframe tbody tr th:only-of-type {\n",
       "        vertical-align: middle;\n",
       "    }\n",
       "\n",
       "    .dataframe tbody tr th {\n",
       "        vertical-align: top;\n",
       "    }\n",
       "\n",
       "    .dataframe thead th {\n",
       "        text-align: right;\n",
       "    }\n",
       "</style>\n",
       "<table border=\"1\" class=\"dataframe\">\n",
       "  <thead>\n",
       "    <tr style=\"text-align: right;\">\n",
       "      <th></th>\n",
       "      <th>data.1</th>\n",
       "      <th>data.2</th>\n",
       "      <th>data.3</th>\n",
       "      <th>data.4</th>\n",
       "      <th>data.5</th>\n",
       "      <th>data.6</th>\n",
       "      <th>data.7</th>\n",
       "      <th>data.8</th>\n",
       "      <th>data.9</th>\n",
       "      <th>data.10</th>\n",
       "      <th>...</th>\n",
       "      <th>data.6822</th>\n",
       "      <th>data.6823</th>\n",
       "      <th>data.6824</th>\n",
       "      <th>data.6825</th>\n",
       "      <th>data.6826</th>\n",
       "      <th>data.6827</th>\n",
       "      <th>data.6828</th>\n",
       "      <th>data.6829</th>\n",
       "      <th>data.6830</th>\n",
       "      <th>labs</th>\n",
       "    </tr>\n",
       "  </thead>\n",
       "  <tbody>\n",
       "    <tr>\n",
       "      <th>V1</th>\n",
       "      <td>0.300000</td>\n",
       "      <td>1.180000</td>\n",
       "      <td>0.550000</td>\n",
       "      <td>1.140000</td>\n",
       "      <td>-0.265000</td>\n",
       "      <td>-7.000000e-02</td>\n",
       "      <td>0.350000</td>\n",
       "      <td>-0.315000</td>\n",
       "      <td>-0.450000</td>\n",
       "      <td>-0.654980</td>\n",
       "      <td>...</td>\n",
       "      <td>0.000000</td>\n",
       "      <td>0.030000</td>\n",
       "      <td>-0.175000</td>\n",
       "      <td>0.629981</td>\n",
       "      <td>-0.030000</td>\n",
       "      <td>0.000000</td>\n",
       "      <td>0.280000</td>\n",
       "      <td>-0.340000</td>\n",
       "      <td>-1.930000</td>\n",
       "      <td>CNS</td>\n",
       "    </tr>\n",
       "    <tr>\n",
       "      <th>V2</th>\n",
       "      <td>0.679961</td>\n",
       "      <td>1.289961</td>\n",
       "      <td>0.169961</td>\n",
       "      <td>0.379961</td>\n",
       "      <td>0.464961</td>\n",
       "      <td>5.799610e-01</td>\n",
       "      <td>0.699961</td>\n",
       "      <td>0.724961</td>\n",
       "      <td>-0.040039</td>\n",
       "      <td>-0.285019</td>\n",
       "      <td>...</td>\n",
       "      <td>-0.300039</td>\n",
       "      <td>-0.250039</td>\n",
       "      <td>-0.535039</td>\n",
       "      <td>0.109941</td>\n",
       "      <td>-0.860039</td>\n",
       "      <td>-1.250049</td>\n",
       "      <td>-0.770039</td>\n",
       "      <td>-0.390039</td>\n",
       "      <td>-2.000039</td>\n",
       "      <td>CNS</td>\n",
       "    </tr>\n",
       "    <tr>\n",
       "      <th>V3</th>\n",
       "      <td>0.940000</td>\n",
       "      <td>-0.040000</td>\n",
       "      <td>-0.170000</td>\n",
       "      <td>-0.040000</td>\n",
       "      <td>-0.605000</td>\n",
       "      <td>0.000000e+00</td>\n",
       "      <td>0.090000</td>\n",
       "      <td>0.645000</td>\n",
       "      <td>0.430000</td>\n",
       "      <td>0.475019</td>\n",
       "      <td>...</td>\n",
       "      <td>0.120000</td>\n",
       "      <td>-0.740000</td>\n",
       "      <td>-0.595000</td>\n",
       "      <td>-0.270020</td>\n",
       "      <td>-0.150000</td>\n",
       "      <td>0.000000</td>\n",
       "      <td>-0.120000</td>\n",
       "      <td>-0.410000</td>\n",
       "      <td>0.000000</td>\n",
       "      <td>CNS</td>\n",
       "    </tr>\n",
       "    <tr>\n",
       "      <th>V4</th>\n",
       "      <td>0.280000</td>\n",
       "      <td>-0.310000</td>\n",
       "      <td>0.680000</td>\n",
       "      <td>-0.810000</td>\n",
       "      <td>0.625000</td>\n",
       "      <td>-1.387779e-17</td>\n",
       "      <td>0.170000</td>\n",
       "      <td>0.245000</td>\n",
       "      <td>0.020000</td>\n",
       "      <td>0.095019</td>\n",
       "      <td>...</td>\n",
       "      <td>-0.110000</td>\n",
       "      <td>-0.160000</td>\n",
       "      <td>0.095000</td>\n",
       "      <td>-0.350019</td>\n",
       "      <td>-0.300000</td>\n",
       "      <td>-1.150010</td>\n",
       "      <td>1.090000</td>\n",
       "      <td>-0.260000</td>\n",
       "      <td>-1.100000</td>\n",
       "      <td>RENAL</td>\n",
       "    </tr>\n",
       "    <tr>\n",
       "      <th>V5</th>\n",
       "      <td>0.485000</td>\n",
       "      <td>-0.465000</td>\n",
       "      <td>0.395000</td>\n",
       "      <td>0.905000</td>\n",
       "      <td>0.200000</td>\n",
       "      <td>-5.000000e-03</td>\n",
       "      <td>0.085000</td>\n",
       "      <td>0.110000</td>\n",
       "      <td>0.235000</td>\n",
       "      <td>1.490019</td>\n",
       "      <td>...</td>\n",
       "      <td>-0.775000</td>\n",
       "      <td>-0.515000</td>\n",
       "      <td>-0.320000</td>\n",
       "      <td>0.634980</td>\n",
       "      <td>0.605000</td>\n",
       "      <td>0.000000</td>\n",
       "      <td>0.745000</td>\n",
       "      <td>0.425000</td>\n",
       "      <td>0.145000</td>\n",
       "      <td>BREAST</td>\n",
       "    </tr>\n",
       "    <tr>\n",
       "      <th>...</th>\n",
       "      <td>...</td>\n",
       "      <td>...</td>\n",
       "      <td>...</td>\n",
       "      <td>...</td>\n",
       "      <td>...</td>\n",
       "      <td>...</td>\n",
       "      <td>...</td>\n",
       "      <td>...</td>\n",
       "      <td>...</td>\n",
       "      <td>...</td>\n",
       "      <td>...</td>\n",
       "      <td>...</td>\n",
       "      <td>...</td>\n",
       "      <td>...</td>\n",
       "      <td>...</td>\n",
       "      <td>...</td>\n",
       "      <td>...</td>\n",
       "      <td>...</td>\n",
       "      <td>...</td>\n",
       "      <td>...</td>\n",
       "      <td>...</td>\n",
       "    </tr>\n",
       "    <tr>\n",
       "      <th>V60</th>\n",
       "      <td>-0.030000</td>\n",
       "      <td>-0.480000</td>\n",
       "      <td>0.070000</td>\n",
       "      <td>-0.700000</td>\n",
       "      <td>-0.195000</td>\n",
       "      <td>4.100000e-01</td>\n",
       "      <td>-0.240000</td>\n",
       "      <td>0.105000</td>\n",
       "      <td>-0.410000</td>\n",
       "      <td>0.875019</td>\n",
       "      <td>...</td>\n",
       "      <td>0.150000</td>\n",
       "      <td>-0.430000</td>\n",
       "      <td>0.145000</td>\n",
       "      <td>-0.090020</td>\n",
       "      <td>-0.020000</td>\n",
       "      <td>-1.390010</td>\n",
       "      <td>-1.150000</td>\n",
       "      <td>0.290000</td>\n",
       "      <td>1.190000</td>\n",
       "      <td>MELANOMA</td>\n",
       "    </tr>\n",
       "    <tr>\n",
       "      <th>V61</th>\n",
       "      <td>-0.270000</td>\n",
       "      <td>0.630000</td>\n",
       "      <td>-0.100000</td>\n",
       "      <td>1.100000</td>\n",
       "      <td>1.045000</td>\n",
       "      <td>8.000000e-02</td>\n",
       "      <td>-0.090000</td>\n",
       "      <td>-0.675000</td>\n",
       "      <td>-0.310000</td>\n",
       "      <td>0.275019</td>\n",
       "      <td>...</td>\n",
       "      <td>0.200000</td>\n",
       "      <td>0.290000</td>\n",
       "      <td>-0.035000</td>\n",
       "      <td>0.279981</td>\n",
       "      <td>-0.160000</td>\n",
       "      <td>-0.020010</td>\n",
       "      <td>-0.640000</td>\n",
       "      <td>-0.370000</td>\n",
       "      <td>-0.430000</td>\n",
       "      <td>MELANOMA</td>\n",
       "    </tr>\n",
       "    <tr>\n",
       "      <th>V62</th>\n",
       "      <td>0.210000</td>\n",
       "      <td>-0.620000</td>\n",
       "      <td>-0.150000</td>\n",
       "      <td>-1.330000</td>\n",
       "      <td>0.045000</td>\n",
       "      <td>-4.000000e-01</td>\n",
       "      <td>-0.390000</td>\n",
       "      <td>-0.675000</td>\n",
       "      <td>-0.360000</td>\n",
       "      <td>0.945020</td>\n",
       "      <td>...</td>\n",
       "      <td>-0.120000</td>\n",
       "      <td>0.850000</td>\n",
       "      <td>-0.125000</td>\n",
       "      <td>0.779980</td>\n",
       "      <td>0.390000</td>\n",
       "      <td>0.000000</td>\n",
       "      <td>0.160000</td>\n",
       "      <td>2.030000</td>\n",
       "      <td>3.940000</td>\n",
       "      <td>MELANOMA</td>\n",
       "    </tr>\n",
       "    <tr>\n",
       "      <th>V63</th>\n",
       "      <td>-0.050000</td>\n",
       "      <td>0.140000</td>\n",
       "      <td>-0.090000</td>\n",
       "      <td>-1.260000</td>\n",
       "      <td>0.045000</td>\n",
       "      <td>-2.710505e-20</td>\n",
       "      <td>0.420000</td>\n",
       "      <td>-0.305000</td>\n",
       "      <td>0.310000</td>\n",
       "      <td>0.065019</td>\n",
       "      <td>...</td>\n",
       "      <td>-0.420000</td>\n",
       "      <td>-0.460000</td>\n",
       "      <td>-0.855000</td>\n",
       "      <td>-0.160020</td>\n",
       "      <td>-0.350000</td>\n",
       "      <td>-0.360010</td>\n",
       "      <td>-0.490000</td>\n",
       "      <td>0.010000</td>\n",
       "      <td>-1.720000</td>\n",
       "      <td>MELANOMA</td>\n",
       "    </tr>\n",
       "    <tr>\n",
       "      <th>V64</th>\n",
       "      <td>0.350000</td>\n",
       "      <td>-0.270000</td>\n",
       "      <td>0.020000</td>\n",
       "      <td>-1.230000</td>\n",
       "      <td>-0.715000</td>\n",
       "      <td>-3.400000e-01</td>\n",
       "      <td>-0.520000</td>\n",
       "      <td>0.475000</td>\n",
       "      <td>0.230000</td>\n",
       "      <td>0.915019</td>\n",
       "      <td>...</td>\n",
       "      <td>3.000000</td>\n",
       "      <td>2.860000</td>\n",
       "      <td>2.145000</td>\n",
       "      <td>0.869981</td>\n",
       "      <td>0.480000</td>\n",
       "      <td>0.969990</td>\n",
       "      <td>0.290000</td>\n",
       "      <td>-0.150000</td>\n",
       "      <td>1.210000</td>\n",
       "      <td>MELANOMA</td>\n",
       "    </tr>\n",
       "  </tbody>\n",
       "</table>\n",
       "<p>64 rows × 6831 columns</p>\n",
       "</div>"
      ],
      "text/plain": [
       "       data.1    data.2    data.3    data.4    data.5        data.6    data.7  \\\n",
       "V1   0.300000  1.180000  0.550000  1.140000 -0.265000 -7.000000e-02  0.350000   \n",
       "V2   0.679961  1.289961  0.169961  0.379961  0.464961  5.799610e-01  0.699961   \n",
       "V3   0.940000 -0.040000 -0.170000 -0.040000 -0.605000  0.000000e+00  0.090000   \n",
       "V4   0.280000 -0.310000  0.680000 -0.810000  0.625000 -1.387779e-17  0.170000   \n",
       "V5   0.485000 -0.465000  0.395000  0.905000  0.200000 -5.000000e-03  0.085000   \n",
       "..        ...       ...       ...       ...       ...           ...       ...   \n",
       "V60 -0.030000 -0.480000  0.070000 -0.700000 -0.195000  4.100000e-01 -0.240000   \n",
       "V61 -0.270000  0.630000 -0.100000  1.100000  1.045000  8.000000e-02 -0.090000   \n",
       "V62  0.210000 -0.620000 -0.150000 -1.330000  0.045000 -4.000000e-01 -0.390000   \n",
       "V63 -0.050000  0.140000 -0.090000 -1.260000  0.045000 -2.710505e-20  0.420000   \n",
       "V64  0.350000 -0.270000  0.020000 -1.230000 -0.715000 -3.400000e-01 -0.520000   \n",
       "\n",
       "       data.8    data.9   data.10  ...  data.6822  data.6823  data.6824  \\\n",
       "V1  -0.315000 -0.450000 -0.654980  ...   0.000000   0.030000  -0.175000   \n",
       "V2   0.724961 -0.040039 -0.285019  ...  -0.300039  -0.250039  -0.535039   \n",
       "V3   0.645000  0.430000  0.475019  ...   0.120000  -0.740000  -0.595000   \n",
       "V4   0.245000  0.020000  0.095019  ...  -0.110000  -0.160000   0.095000   \n",
       "V5   0.110000  0.235000  1.490019  ...  -0.775000  -0.515000  -0.320000   \n",
       "..        ...       ...       ...  ...        ...        ...        ...   \n",
       "V60  0.105000 -0.410000  0.875019  ...   0.150000  -0.430000   0.145000   \n",
       "V61 -0.675000 -0.310000  0.275019  ...   0.200000   0.290000  -0.035000   \n",
       "V62 -0.675000 -0.360000  0.945020  ...  -0.120000   0.850000  -0.125000   \n",
       "V63 -0.305000  0.310000  0.065019  ...  -0.420000  -0.460000  -0.855000   \n",
       "V64  0.475000  0.230000  0.915019  ...   3.000000   2.860000   2.145000   \n",
       "\n",
       "     data.6825  data.6826  data.6827  data.6828  data.6829  data.6830  \\\n",
       "V1    0.629981  -0.030000   0.000000   0.280000  -0.340000  -1.930000   \n",
       "V2    0.109941  -0.860039  -1.250049  -0.770039  -0.390039  -2.000039   \n",
       "V3   -0.270020  -0.150000   0.000000  -0.120000  -0.410000   0.000000   \n",
       "V4   -0.350019  -0.300000  -1.150010   1.090000  -0.260000  -1.100000   \n",
       "V5    0.634980   0.605000   0.000000   0.745000   0.425000   0.145000   \n",
       "..         ...        ...        ...        ...        ...        ...   \n",
       "V60  -0.090020  -0.020000  -1.390010  -1.150000   0.290000   1.190000   \n",
       "V61   0.279981  -0.160000  -0.020010  -0.640000  -0.370000  -0.430000   \n",
       "V62   0.779980   0.390000   0.000000   0.160000   2.030000   3.940000   \n",
       "V63  -0.160020  -0.350000  -0.360010  -0.490000   0.010000  -1.720000   \n",
       "V64   0.869981   0.480000   0.969990   0.290000  -0.150000   1.210000   \n",
       "\n",
       "         labs  \n",
       "V1        CNS  \n",
       "V2        CNS  \n",
       "V3        CNS  \n",
       "V4      RENAL  \n",
       "V5     BREAST  \n",
       "..        ...  \n",
       "V60  MELANOMA  \n",
       "V61  MELANOMA  \n",
       "V62  MELANOMA  \n",
       "V63  MELANOMA  \n",
       "V64  MELANOMA  \n",
       "\n",
       "[64 rows x 6831 columns]"
      ]
     },
     "execution_count": 1,
     "metadata": {},
     "output_type": "execute_result"
    }
   ],
   "source": [
    "import statsmodels.api as sm\n",
    "\n",
    "nci = sm.datasets.get_rdataset(dataname='NCI60', package='ISLR')\n",
    "nci_df = nci.data\n",
    "nci_df"
   ]
  },
  {
   "cell_type": "code",
   "execution_count": 2,
   "id": "53a7c3ad",
   "metadata": {},
   "outputs": [
    {
     "name": "stdout",
     "output_type": "stream",
     "text": [
      "14\n"
     ]
    },
    {
     "data": {
      "text/plain": [
       "RENAL          9\n",
       "NSCLC          9\n",
       "MELANOMA       8\n",
       "BREAST         7\n",
       "COLON          7\n",
       "OVARIAN        6\n",
       "LEUKEMIA       6\n",
       "CNS            5\n",
       "PROSTATE       2\n",
       "UNKNOWN        1\n",
       "K562B-repro    1\n",
       "K562A-repro    1\n",
       "MCF7A-repro    1\n",
       "MCF7D-repro    1\n",
       "Name: labs, dtype: int64"
      ]
     },
     "execution_count": 2,
     "metadata": {},
     "output_type": "execute_result"
    }
   ],
   "source": [
    "labs_vc = nci_df['labs'].value_counts()\n",
    "print(labs_vc.shape[0])\n",
    "labs_vc"
   ]
  },
  {
   "cell_type": "code",
   "execution_count": 3,
   "id": "423593e5",
   "metadata": {},
   "outputs": [
    {
     "data": {
      "text/plain": [
       "(64, 6830)"
      ]
     },
     "execution_count": 3,
     "metadata": {},
     "output_type": "execute_result"
    }
   ],
   "source": [
    "# Using standard Scaler()\n",
    "from sklearn.preprocessing import StandardScaler\n",
    "\n",
    "scaler = StandardScaler()\n",
    "nci_scaled = scaler.fit_transform(nci_df.iloc[:, :-1])\n",
    "nci_scaled.shape"
   ]
  },
  {
   "cell_type": "code",
   "execution_count": 4,
   "id": "3e0c0a10",
   "metadata": {},
   "outputs": [
    {
     "name": "stdout",
     "output_type": "stream",
     "text": [
      "(64, 64)\n"
     ]
    },
    {
     "data": {
      "text/plain": [
       "array([1.13589419e-01, 6.75620253e-02, 5.75184223e-02, 4.24755448e-02,\n",
       "       3.73497235e-02, 3.61863019e-02, 3.06622240e-02, 2.68590309e-02,\n",
       "       2.52949807e-02, 2.37586884e-02, 2.35655815e-02, 2.16412198e-02,\n",
       "       2.04909747e-02, 1.97881793e-02, 1.91541737e-02, 1.77176082e-02,\n",
       "       1.66272971e-02, 1.61075898e-02, 1.59433320e-02, 1.55991861e-02,\n",
       "       1.50721674e-02, 1.48009892e-02, 1.43576234e-02, 1.36277104e-02,\n",
       "       1.32350200e-02, 1.27519917e-02, 1.25903703e-02, 1.20979413e-02,\n",
       "       1.18098781e-02, 1.12098170e-02, 1.08277440e-02, 1.04477523e-02,\n",
       "       1.02647051e-02, 9.88274535e-03, 9.74257138e-03, 9.31114503e-03,\n",
       "       9.14795316e-03, 8.95640894e-03, 8.72950586e-03, 8.42575751e-03,\n",
       "       8.13979814e-03, 7.89749805e-03, 7.39000998e-03, 7.20101586e-03,\n",
       "       7.08918353e-03, 6.90272334e-03, 6.78495251e-03, 6.47012955e-03,\n",
       "       6.40883777e-03, 6.01193511e-03, 5.66418607e-03, 5.63402788e-03,\n",
       "       5.38935217e-03, 5.12786334e-03, 5.11796180e-03, 4.81620125e-03,\n",
       "       4.38498746e-03, 4.10056057e-03, 3.69138981e-03, 3.21224918e-03,\n",
       "       2.55289125e-03, 2.43978225e-03, 2.39116326e-03, 2.24015629e-32])"
      ]
     },
     "execution_count": 4,
     "metadata": {},
     "output_type": "execute_result"
    }
   ],
   "source": [
    "# PCA\n",
    "from sklearn.decomposition import PCA\n",
    "\n",
    "pca = PCA()\n",
    "X = pca.fit_transform(nci_scaled)\n",
    "print(X.shape)\n",
    "pca.explained_variance_ratio_"
   ]
  },
  {
   "cell_type": "code",
   "execution_count": 5,
   "id": "ead98a47",
   "metadata": {},
   "outputs": [
    {
     "data": {
      "text/plain": [
       "<matplotlib.legend.Legend at 0x1eedcfd4af0>"
      ]
     },
     "execution_count": 5,
     "metadata": {},
     "output_type": "execute_result"
    },
    {
     "data": {
      "image/png": "[encoded data removed]",
      "text/plain": [
       "<Figure size 1080x216 with 3 Axes>"
      ]
     },
     "metadata": {
      "needs_background": "light"
     },
     "output_type": "display_data"
    }
   ],
   "source": [
    "import matplotlib.pyplot as plt\n",
    "import seaborn as sns\n",
    "\n",
    "plt.figure(figsize=(15, 3))\n",
    "plt.subplot(1, 3, 1)\n",
    "sns.scatterplot(x=X[:, 0], y=X[:, 1], hue=nci_df['labs'], \n",
    "                palette=sns.color_palette('gist_rainbow', n_colors=labs_vc.shape[0]))\n",
    "plt.xlabel('PC1')\n",
    "plt.ylabel('PC2')\n",
    "plt.legend('')\n",
    "plt.subplot(1, 3, 2)\n",
    "sns.scatterplot(x=X[:, 0], y=X[:, 2], hue=nci_df['labs'], \n",
    "                palette=sns.color_palette('gist_rainbow', n_colors=labs_vc.shape[0]))\n",
    "plt.xlabel('PC1')\n",
    "plt.ylabel('PC3')\n",
    "plt.legend('')\n",
    "plt.subplot(1, 3, 3)\n",
    "sns.scatterplot(x=X[:, 1], y=X[:, 2], hue=nci_df['labs'], \n",
    "                palette=sns.color_palette('gist_rainbow', n_colors=labs_vc.shape[0]))\n",
    "plt.xlabel('PC2')\n",
    "plt.ylabel('PC3')\n",
    "plt.legend('')"
   ]
  },
  {
   "cell_type": "code",
   "execution_count": 6,
   "id": "7e04e649",
   "metadata": {},
   "outputs": [
    {
     "data": {
      "image/png": "[encoded data removed]",
      "text/plain": [
       "<Figure size 1008x432 with 2 Axes>"
      ]
     },
     "metadata": {
      "needs_background": "light"
     },
     "output_type": "display_data"
    }
   ],
   "source": [
    "import numpy as np\n",
    "\n",
    "plt.figure(figsize=(14, 6))\n",
    "plt.subplot(1, 2, 1)\n",
    "plt.plot(pca.explained_variance_ratio_, marker='o')\n",
    "plt.xlabel('Principal Component')\n",
    "plt.ylabel('PVE')\n",
    "plt.subplot(1, 2, 2)\n",
    "plt.plot(np.cumsum(pca.explained_variance_ratio_), marker='o', color='orange')\n",
    "plt.xlabel('Principal Component')\n",
    "_ = plt.ylabel('Cumulative PVE')"
   ]
  },
  {
   "cell_type": "markdown",
   "id": "cbe80909",
   "metadata": {},
   "source": [
    "For the hierachical clustering we use SciPy\n",
    "\n",
    "- Complete max{d(a,b):a∈A,b∈B}\n",
    "\n"
   ]
  },
  {
   "cell_type": "code",
   "execution_count": 7,
   "id": "9f434b40",
   "metadata": {},
   "outputs": [],
   "source": [
    "from scipy.cluster.hierarchy import dendrogram, linkage\n",
    "\n",
    "cluster_model_complete = linkage(nci_scaled, 'complete')"
   ]
  },
  {
   "cell_type": "code",
   "execution_count": 8,
   "id": "78d3bf7d",
   "metadata": {},
   "outputs": [
    {
     "data": {
      "image/png": "[encoded data removed]",
      "text/plain": [
       "<Figure size 1152x576 with 1 Axes>"
      ]
     },
     "metadata": {
      "needs_background": "light"
     },
     "output_type": "display_data"
    }
   ],
   "source": [
    "# Dendogram\n",
    "plt.figure(figsize=(16, 8))\n",
    "_ = dendrogram(cluster_model_complete, orientation='top', labels=nci_df['labs'], leaf_font_size=12)"
   ]
  },
  {
   "cell_type": "code",
   "execution_count": 10,
   "id": "5e2a2c5f",
   "metadata": {},
   "outputs": [
    {
     "data": {
      "image/png": "[encoded data removed]",
      "text/plain": [
       "<Figure size 1152x576 with 1 Axes>"
      ]
     },
     "metadata": {
      "needs_background": "light"
     },
     "output_type": "display_data"
    }
   ],
   "source": [
    "# Average clustering\n",
    "cluster_model_average = linkage(nci_scaled, method=\"average\")\n",
    "plt.figure(figsize=(16, 8))\n",
    "_ = dendrogram(cluster_model_average, orientation='top', labels=nci_df['labs'], leaf_font_size=12)"
   ]
  },
  {
   "cell_type": "code",
   "execution_count": 11,
   "id": "bb480b70",
   "metadata": {},
   "outputs": [
    {
     "data": {
      "image/png": "[encoded data removed]",
      "text/plain": [
       "<Figure size 1152x576 with 1 Axes>"
      ]
     },
     "metadata": {
      "needs_background": "light"
     },
     "output_type": "display_data"
    }
   ],
   "source": [
    "# Single\n",
    "cluster_model_average = linkage(nci_scaled, method=\"single\")\n",
    "plt.figure(figsize=(16, 8))\n",
    "_ = dendrogram(cluster_model_average, orientation='top', labels=nci_df['labs'], leaf_font_size=12)"
   ]
  },
  {
   "cell_type": "code",
   "execution_count": 12,
   "id": "d0534d86",
   "metadata": {},
   "outputs": [
    {
     "data": {
      "text/plain": [
       "array([2, 2, 2, 2, 1, 1, 1, 1, 2, 2, 2, 2, 2, 2, 2, 2, 2, 1, 1, 1, 2, 2,\n",
       "       2, 2, 2, 2, 2, 2, 2, 2, 2, 2, 2, 4, 4, 4, 4, 4, 4, 4, 4, 2, 3, 2,\n",
       "       3, 3, 3, 3, 3, 3, 3, 3, 2, 2, 2, 2, 2, 2, 2, 2, 2, 2, 2, 2],\n",
       "      dtype=int32)"
      ]
     },
     "execution_count": 12,
     "metadata": {},
     "output_type": "execute_result"
    }
   ],
   "source": [
    "# Using f-cluster\n",
    "from scipy.cluster.hierarchy import fcluster\n",
    "\n",
    "hc_labels = fcluster(cluster_model_complete, 4, criterion='maxclust')\n",
    "hc_labels"
   ]
  },
  {
   "cell_type": "code",
   "execution_count": 13,
   "id": "b630bb0b",
   "metadata": {},
   "outputs": [
    {
     "data": {
      "text/html": [
       "<div>\n",
       "<style scoped>\n",
       "    .dataframe tbody tr th:only-of-type {\n",
       "        vertical-align: middle;\n",
       "    }\n",
       "\n",
       "    .dataframe tbody tr th {\n",
       "        vertical-align: top;\n",
       "    }\n",
       "\n",
       "    .dataframe thead th {\n",
       "        text-align: right;\n",
       "    }\n",
       "</style>\n",
       "<table border=\"1\" class=\"dataframe\">\n",
       "  <thead>\n",
       "    <tr style=\"text-align: right;\">\n",
       "      <th></th>\n",
       "      <th>labs</th>\n",
       "      <th>cluster</th>\n",
       "    </tr>\n",
       "  </thead>\n",
       "  <tbody>\n",
       "    <tr>\n",
       "      <th>V1</th>\n",
       "      <td>CNS</td>\n",
       "      <td>2</td>\n",
       "    </tr>\n",
       "    <tr>\n",
       "      <th>V2</th>\n",
       "      <td>CNS</td>\n",
       "      <td>2</td>\n",
       "    </tr>\n",
       "    <tr>\n",
       "      <th>V3</th>\n",
       "      <td>CNS</td>\n",
       "      <td>2</td>\n",
       "    </tr>\n",
       "    <tr>\n",
       "      <th>V4</th>\n",
       "      <td>RENAL</td>\n",
       "      <td>2</td>\n",
       "    </tr>\n",
       "    <tr>\n",
       "      <th>V5</th>\n",
       "      <td>BREAST</td>\n",
       "      <td>1</td>\n",
       "    </tr>\n",
       "    <tr>\n",
       "      <th>...</th>\n",
       "      <td>...</td>\n",
       "      <td>...</td>\n",
       "    </tr>\n",
       "    <tr>\n",
       "      <th>V60</th>\n",
       "      <td>MELANOMA</td>\n",
       "      <td>2</td>\n",
       "    </tr>\n",
       "    <tr>\n",
       "      <th>V61</th>\n",
       "      <td>MELANOMA</td>\n",
       "      <td>2</td>\n",
       "    </tr>\n",
       "    <tr>\n",
       "      <th>V62</th>\n",
       "      <td>MELANOMA</td>\n",
       "      <td>2</td>\n",
       "    </tr>\n",
       "    <tr>\n",
       "      <th>V63</th>\n",
       "      <td>MELANOMA</td>\n",
       "      <td>2</td>\n",
       "    </tr>\n",
       "    <tr>\n",
       "      <th>V64</th>\n",
       "      <td>MELANOMA</td>\n",
       "      <td>2</td>\n",
       "    </tr>\n",
       "  </tbody>\n",
       "</table>\n",
       "<p>64 rows × 2 columns</p>\n",
       "</div>"
      ],
      "text/plain": [
       "         labs  cluster\n",
       "V1        CNS        2\n",
       "V2        CNS        2\n",
       "V3        CNS        2\n",
       "V4      RENAL        2\n",
       "V5     BREAST        1\n",
       "..        ...      ...\n",
       "V60  MELANOMA        2\n",
       "V61  MELANOMA        2\n",
       "V62  MELANOMA        2\n",
       "V63  MELANOMA        2\n",
       "V64  MELANOMA        2\n",
       "\n",
       "[64 rows x 2 columns]"
      ]
     },
     "execution_count": 13,
     "metadata": {},
     "output_type": "execute_result"
    }
   ],
   "source": [
    "import pandas as pd\n",
    "\n",
    "labs_cluster_df = pd.DataFrame({'labs': nci_df['labs'], 'cluster': hc_labels})\n",
    "labs_cluster_df"
   ]
  },
  {
   "cell_type": "code",
   "execution_count": 14,
   "id": "ca0fcc49",
   "metadata": {},
   "outputs": [
    {
     "data": {
      "text/html": [
       "<div>\n",
       "<style scoped>\n",
       "    .dataframe tbody tr th:only-of-type {\n",
       "        vertical-align: middle;\n",
       "    }\n",
       "\n",
       "    .dataframe tbody tr th {\n",
       "        vertical-align: top;\n",
       "    }\n",
       "\n",
       "    .dataframe thead th {\n",
       "        text-align: right;\n",
       "    }\n",
       "</style>\n",
       "<table border=\"1\" class=\"dataframe\">\n",
       "  <thead>\n",
       "    <tr style=\"text-align: right;\">\n",
       "      <th>labs</th>\n",
       "      <th>BREAST</th>\n",
       "      <th>CNS</th>\n",
       "      <th>COLON</th>\n",
       "      <th>K562A-repro</th>\n",
       "      <th>K562B-repro</th>\n",
       "      <th>LEUKEMIA</th>\n",
       "      <th>MCF7A-repro</th>\n",
       "      <th>MCF7D-repro</th>\n",
       "      <th>MELANOMA</th>\n",
       "      <th>NSCLC</th>\n",
       "      <th>OVARIAN</th>\n",
       "      <th>PROSTATE</th>\n",
       "      <th>RENAL</th>\n",
       "      <th>UNKNOWN</th>\n",
       "    </tr>\n",
       "    <tr>\n",
       "      <th>cluster</th>\n",
       "      <th></th>\n",
       "      <th></th>\n",
       "      <th></th>\n",
       "      <th></th>\n",
       "      <th></th>\n",
       "      <th></th>\n",
       "      <th></th>\n",
       "      <th></th>\n",
       "      <th></th>\n",
       "      <th></th>\n",
       "      <th></th>\n",
       "      <th></th>\n",
       "      <th></th>\n",
       "      <th></th>\n",
       "    </tr>\n",
       "  </thead>\n",
       "  <tbody>\n",
       "    <tr>\n",
       "      <th>1</th>\n",
       "      <td>3.0</td>\n",
       "      <td>2.0</td>\n",
       "      <td>0.0</td>\n",
       "      <td>0.0</td>\n",
       "      <td>0.0</td>\n",
       "      <td>0.0</td>\n",
       "      <td>0.0</td>\n",
       "      <td>0.0</td>\n",
       "      <td>0.0</td>\n",
       "      <td>1.0</td>\n",
       "      <td>0.0</td>\n",
       "      <td>0.0</td>\n",
       "      <td>1.0</td>\n",
       "      <td>0.0</td>\n",
       "    </tr>\n",
       "    <tr>\n",
       "      <th>2</th>\n",
       "      <td>2.0</td>\n",
       "      <td>3.0</td>\n",
       "      <td>2.0</td>\n",
       "      <td>0.0</td>\n",
       "      <td>0.0</td>\n",
       "      <td>0.0</td>\n",
       "      <td>0.0</td>\n",
       "      <td>0.0</td>\n",
       "      <td>8.0</td>\n",
       "      <td>8.0</td>\n",
       "      <td>6.0</td>\n",
       "      <td>2.0</td>\n",
       "      <td>8.0</td>\n",
       "      <td>1.0</td>\n",
       "    </tr>\n",
       "    <tr>\n",
       "      <th>3</th>\n",
       "      <td>2.0</td>\n",
       "      <td>0.0</td>\n",
       "      <td>5.0</td>\n",
       "      <td>0.0</td>\n",
       "      <td>0.0</td>\n",
       "      <td>0.0</td>\n",
       "      <td>1.0</td>\n",
       "      <td>1.0</td>\n",
       "      <td>0.0</td>\n",
       "      <td>0.0</td>\n",
       "      <td>0.0</td>\n",
       "      <td>0.0</td>\n",
       "      <td>0.0</td>\n",
       "      <td>0.0</td>\n",
       "    </tr>\n",
       "    <tr>\n",
       "      <th>4</th>\n",
       "      <td>0.0</td>\n",
       "      <td>0.0</td>\n",
       "      <td>0.0</td>\n",
       "      <td>1.0</td>\n",
       "      <td>1.0</td>\n",
       "      <td>6.0</td>\n",
       "      <td>0.0</td>\n",
       "      <td>0.0</td>\n",
       "      <td>0.0</td>\n",
       "      <td>0.0</td>\n",
       "      <td>0.0</td>\n",
       "      <td>0.0</td>\n",
       "      <td>0.0</td>\n",
       "      <td>0.0</td>\n",
       "    </tr>\n",
       "  </tbody>\n",
       "</table>\n",
       "</div>"
      ],
      "text/plain": [
       "labs     BREAST  CNS  COLON  K562A-repro  K562B-repro  LEUKEMIA  MCF7A-repro  \\\n",
       "cluster                                                                        \n",
       "1           3.0  2.0    0.0          0.0          0.0       0.0          0.0   \n",
       "2           2.0  3.0    2.0          0.0          0.0       0.0          0.0   \n",
       "3           2.0  0.0    5.0          0.0          0.0       0.0          1.0   \n",
       "4           0.0  0.0    0.0          1.0          1.0       6.0          0.0   \n",
       "\n",
       "labs     MCF7D-repro  MELANOMA  NSCLC  OVARIAN  PROSTATE  RENAL  UNKNOWN  \n",
       "cluster                                                                   \n",
       "1                0.0       0.0    1.0      0.0       0.0    1.0      0.0  \n",
       "2                0.0       8.0    8.0      6.0       2.0    8.0      1.0  \n",
       "3                1.0       0.0    0.0      0.0       0.0    0.0      0.0  \n",
       "4                0.0       0.0    0.0      0.0       0.0    0.0      0.0  "
      ]
     },
     "execution_count": 14,
     "metadata": {},
     "output_type": "execute_result"
    }
   ],
   "source": [
    "labs_cluster_df.pivot_table(index='cluster', columns='labs', aggfunc='size').fillna(0)"
   ]
  },
  {
   "cell_type": "code",
   "execution_count": 15,
   "id": "cdd97450",
   "metadata": {},
   "outputs": [
    {
     "data": {
      "text/plain": [
       "<matplotlib.lines.Line2D at 0x1eedec3e280>"
      ]
     },
     "execution_count": 15,
     "metadata": {},
     "output_type": "execute_result"
    },
    {
     "data": {
      "image/png": "[encoded data removed]",
      "text/plain": [
       "<Figure size 1152x576 with 1 Axes>"
      ]
     },
     "metadata": {
      "needs_background": "light"
     },
     "output_type": "display_data"
    }
   ],
   "source": [
    "plt.figure(figsize=(16, 8))\n",
    "_ = dendrogram(cluster_model_complete, orientation='top', labels=nci_df['labs'], leaf_font_size=12)\n",
    "plt.axhline(y=141, color='r', linestyle='dashed')"
   ]
  },
  {
   "cell_type": "code",
   "execution_count": 16,
   "id": "156747dc",
   "metadata": {},
   "outputs": [
    {
     "data": {
      "text/plain": [
       "array([0, 0, 0, 0, 0, 0, 0, 0, 0, 0, 0, 0, 0, 0, 0, 0, 0, 0, 0, 0, 0, 0,\n",
       "       0, 0, 0, 0, 0, 0, 0, 0, 0, 0, 0, 3, 3, 3, 3, 3, 3, 3, 3, 1, 1, 1,\n",
       "       1, 1, 1, 1, 1, 1, 1, 1, 1, 0, 0, 2, 2, 2, 2, 2, 2, 2, 2, 2])"
      ]
     },
     "execution_count": 16,
     "metadata": {},
     "output_type": "execute_result"
    }
   ],
   "source": [
    "# Using k-means\n",
    "from sklearn.cluster import KMeans\n",
    "\n",
    "kmeans = KMeans(n_clusters=4, random_state=0, n_init=20)\n",
    "km_labels = kmeans.fit_predict(nci_scaled)\n",
    "km_labels"
   ]
  },
  {
   "cell_type": "code",
   "execution_count": 18,
   "id": "89310544",
   "metadata": {},
   "outputs": [
    {
     "data": {
      "text/html": [
       "<div>\n",
       "<style scoped>\n",
       "    .dataframe tbody tr th:only-of-type {\n",
       "        vertical-align: middle;\n",
       "    }\n",
       "\n",
       "    .dataframe tbody tr th {\n",
       "        vertical-align: top;\n",
       "    }\n",
       "\n",
       "    .dataframe thead th {\n",
       "        text-align: right;\n",
       "    }\n",
       "</style>\n",
       "<table border=\"1\" class=\"dataframe\">\n",
       "  <thead>\n",
       "    <tr style=\"text-align: right;\">\n",
       "      <th>kmeans</th>\n",
       "      <th>1</th>\n",
       "      <th>2</th>\n",
       "      <th>3</th>\n",
       "      <th>4</th>\n",
       "    </tr>\n",
       "    <tr>\n",
       "      <th>hc</th>\n",
       "      <th></th>\n",
       "      <th></th>\n",
       "      <th></th>\n",
       "      <th></th>\n",
       "    </tr>\n",
       "  </thead>\n",
       "  <tbody>\n",
       "    <tr>\n",
       "      <th>1</th>\n",
       "      <td>7</td>\n",
       "      <td>0</td>\n",
       "      <td>0</td>\n",
       "      <td>0</td>\n",
       "    </tr>\n",
       "    <tr>\n",
       "      <th>2</th>\n",
       "      <td>28</td>\n",
       "      <td>3</td>\n",
       "      <td>9</td>\n",
       "      <td>0</td>\n",
       "    </tr>\n",
       "    <tr>\n",
       "      <th>3</th>\n",
       "      <td>0</td>\n",
       "      <td>9</td>\n",
       "      <td>0</td>\n",
       "      <td>0</td>\n",
       "    </tr>\n",
       "    <tr>\n",
       "      <th>4</th>\n",
       "      <td>0</td>\n",
       "      <td>0</td>\n",
       "      <td>0</td>\n",
       "      <td>8</td>\n",
       "    </tr>\n",
       "  </tbody>\n",
       "</table>\n",
       "</div>"
      ],
      "text/plain": [
       "kmeans   1  2  3  4\n",
       "hc                 \n",
       "1        7  0  0  0\n",
       "2       28  3  9  0\n",
       "3        0  9  0  0\n",
       "4        0  0  0  8"
      ]
     },
     "execution_count": 18,
     "metadata": {},
     "output_type": "execute_result"
    }
   ],
   "source": [
    "pd.crosstab(hc_labels,km_labels,rownames=['hc'],colnames=['kmeans'])"
   ]
  },
  {
   "cell_type": "code",
   "execution_count": 17,
   "id": "4f318881",
   "metadata": {},
   "outputs": [
    {
     "data": {
      "text/plain": [
       "array([1, 1, 1, 1, 1, 1, 1, 1, 1, 1, 1, 1, 1, 1, 1, 1, 1, 1, 1, 1, 1, 1,\n",
       "       1, 1, 1, 1, 1, 1, 1, 1, 1, 1, 1, 4, 4, 4, 4, 4, 4, 4, 4, 2, 2, 2,\n",
       "       2, 2, 2, 2, 2, 2, 2, 2, 2, 1, 1, 3, 3, 3, 3, 3, 3, 3, 3, 3])"
      ]
     },
     "execution_count": 17,
     "metadata": {},
     "output_type": "execute_result"
    }
   ],
   "source": [
    "km_labels += 1\n",
    "km_labels"
   ]
  }
 ],
 "metadata": {
  "kernelspec": {
   "display_name": "Python 3 (ipykernel)",
   "language": "python",
   "name": "python3"
  },
  "language_info": {
   "codemirror_mode": {
    "name": "ipython",
    "version": 3
   },
   "file_extension": ".py",
   "mimetype": "text/x-python",
   "name": "python",
   "nbconvert_exporter": "python",
   "pygments_lexer": "ipython3",
   "version": "3.9.7"
  }
 },
 "nbformat": 4,
 "nbformat_minor": 5
}
