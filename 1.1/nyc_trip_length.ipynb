{
 "cells": [
  {
   "cell_type": "code",
   "execution_count": 6,
   "id": "ecde614f",
   "metadata": {},
   "outputs": [],
   "source": [
    "import numpy as np\n",
    "import pandas as pd\n",
    "import matplotlib.pyplot as plt"
   ]
  },
  {
   "cell_type": "code",
   "execution_count": 7,
   "id": "80a1ec76",
   "metadata": {},
   "outputs": [],
   "source": [
    "data = pd.read_csv(\"nyc_taxi_trip_data_sample.csv.zip\") # read data"
   ]
  },
  {
   "cell_type": "markdown",
   "id": "1e2ad017",
   "metadata": {},
   "source": [
    "We have already seen that we can use describe() to take a general picture of the values present in the DataFrame\n",
    "Series ==> specific values of columns ( eg min,max,median )"
   ]
  },
  {
   "cell_type": "code",
   "execution_count": null,
   "id": "5df1945b",
   "metadata": {},
   "outputs": [],
   "source": [
    "data['trip_distance'].count(), data['trip_distance'].min(), data['trip_distance'].max()"
   ]
  },
  {
   "cell_type": "code",
   "execution_count": 9,
   "id": "7c10fd01",
   "metadata": {},
   "outputs": [
    {
     "data": {
      "text/plain": [
       "0    1.0\n",
       "dtype: float64"
      ]
     },
     "execution_count": 9,
     "metadata": {},
     "output_type": "execute_result"
    }
   ],
   "source": [
    "data['trip_distance'].mode() # Mode: Most frequent distance"
   ]
  },
  {
   "cell_type": "code",
   "execution_count": 11,
   "id": "97aedcf5",
   "metadata": {},
   "outputs": [
    {
     "data": {
      "text/plain": [
       "1.00     43414\n",
       "0.90     38480\n",
       "0.80     37655\n",
       "1.10     37448\n",
       "1.20     36056\n",
       "         ...  \n",
       "31.97        1\n",
       "34.28        1\n",
       "36.00        1\n",
       "41.06        1\n",
       "24.87        1\n",
       "Name: trip_distance, Length: 3004, dtype: int64"
      ]
     },
     "execution_count": 11,
     "metadata": {},
     "output_type": "execute_result"
    }
   ],
   "source": [
    "data['trip_distance'].value_counts() # Descending order of 1 mile most frequent distance"
   ]
  },
  {
   "cell_type": "code",
   "execution_count": 12,
   "id": "7a2899fd",
   "metadata": {},
   "outputs": [
    {
     "data": {
      "text/plain": [
       "1.00     43414\n",
       "0.90     38480\n",
       "0.80     37655\n",
       "1.10     37448\n",
       "1.20     36056\n",
       "         ...  \n",
       "7.20      1357\n",
       "2.64      1337\n",
       "0.42      1331\n",
       "2.61      1320\n",
       "10.00     1313\n",
       "Name: trip_distance, Length: 275, dtype: int64"
      ]
     },
     "execution_count": 12,
     "metadata": {},
     "output_type": "execute_result"
    }
   ],
   "source": [
    "# For example lets say we are interested in only the first 10 values\n",
    "# Hence by using the already known slicing methon in python [:10]\n",
    "data['trip_distance'].value_counts()[:10]"
   ]
  },
  {
   "cell_type": "markdown",
   "id": "7e53f4e6",
   "metadata": {},
   "source": [
    "We can see that the Length: 275 (not what we expected to get) \n",
    "In Pandas, in this case it will go through each row and try to find a label = 10\n",
    "In order to select the first 10 lines we need to use iloc()"
   ]
  },
  {
   "cell_type": "code",
   "execution_count": 13,
   "id": "72373245",
   "metadata": {},
   "outputs": [
    {
     "data": {
      "text/plain": [
       "1.0    43414\n",
       "0.9    38480\n",
       "0.8    37655\n",
       "1.1    37448\n",
       "1.2    36056\n",
       "0.7    34601\n",
       "1.3    33994\n",
       "1.4    32474\n",
       "1.5    31080\n",
       "0.6    30361\n",
       "Name: trip_distance, dtype: int64"
      ]
     },
     "execution_count": 13,
     "metadata": {},
     "output_type": "execute_result"
    }
   ],
   "source": [
    "data['trip_distance'].value_counts().iloc[:10] # returning  the first 10 values"
   ]
  },
  {
   "cell_type": "code",
   "execution_count": 14,
   "id": "63f08662",
   "metadata": {},
   "outputs": [
    {
     "data": {
      "text/plain": [
       "1.00     43414\n",
       "0.90     38480\n",
       "0.80     37655\n",
       "1.10     37448\n",
       "1.20     36056\n",
       "         ...  \n",
       "7.20      1357\n",
       "2.64      1337\n",
       "0.42      1331\n",
       "2.61      1320\n",
       "10.00     1313\n",
       "Name: trip_distance, Length: 275, dtype: int64"
      ]
     },
     "execution_count": 14,
     "metadata": {},
     "output_type": "execute_result"
    }
   ],
   "source": [
    "# Hence by using loc[] the result is based on the labels of value 10\n",
    "data['trip_distance'].value_counts().loc[:10]"
   ]
  },
  {
   "cell_type": "markdown",
   "id": "1cc3ea76",
   "metadata": {},
   "source": [
    "We can now then try to design a histrogram"
   ]
  },
  {
   "cell_type": "code",
   "execution_count": 15,
   "id": "48e0fb7d",
   "metadata": {},
   "outputs": [
    {
     "data": {
      "text/plain": [
       "<AxesSubplot:>"
      ]
     },
     "execution_count": 15,
     "metadata": {},
     "output_type": "execute_result"
    },
    {
     "data": {
      "image/png": "[encoded data removed]",
      "text/plain": [
       "<Figure size 720x576 with 1 Axes>"
      ]
     },
     "metadata": {
      "needs_background": "light"
     },
     "output_type": "display_data"
    }
   ],
   "source": [
    "data.trip_distance.hist(color='blue', edgecolor='black', alpha=0.5, figsize=(10, 8))"
   ]
  },
  {
   "cell_type": "markdown",
   "id": "532d6992",
   "metadata": {},
   "source": [
    "We can see therefore that the result doesn't make sense since we are only getting a single bar.\n",
    "The reason for that is due to the outliers.\n",
    "What Pandas does ; is that it takes all the values and seperates them into small boxes.\n",
    "Each box contains information of some distance in miles\n",
    "In our case Pandas forms 10 different boxes. Since we have distance of upto 950k miles then the first box will contain the values from 0 < value < 95k\n",
    "The next one will > 100k miles and so on\n",
    "Most trips are under 95k miles hence what pandas does is that it concetrated all the data in the first box. And the rest boxes have few values inside"
   ]
  },
  {
   "cell_type": "code",
   "execution_count": 17,
   "id": "4c4c3742",
   "metadata": {},
   "outputs": [
    {
     "data": {
      "text/plain": [
       "array([ 0.        ,  0.1010101 ,  0.2020202 ,  0.3030303 ,  0.4040404 ,\n",
       "        0.50505051,  0.60606061,  0.70707071,  0.80808081,  0.90909091,\n",
       "        1.01010101,  1.11111111,  1.21212121,  1.31313131,  1.41414141,\n",
       "        1.51515152,  1.61616162,  1.71717172,  1.81818182,  1.91919192,\n",
       "        2.02020202,  2.12121212,  2.22222222,  2.32323232,  2.42424242,\n",
       "        2.52525253,  2.62626263,  2.72727273,  2.82828283,  2.92929293,\n",
       "        3.03030303,  3.13131313,  3.23232323,  3.33333333,  3.43434343,\n",
       "        3.53535354,  3.63636364,  3.73737374,  3.83838384,  3.93939394,\n",
       "        4.04040404,  4.14141414,  4.24242424,  4.34343434,  4.44444444,\n",
       "        4.54545455,  4.64646465,  4.74747475,  4.84848485,  4.94949495,\n",
       "        5.05050505,  5.15151515,  5.25252525,  5.35353535,  5.45454545,\n",
       "        5.55555556,  5.65656566,  5.75757576,  5.85858586,  5.95959596,\n",
       "        6.06060606,  6.16161616,  6.26262626,  6.36363636,  6.46464646,\n",
       "        6.56565657,  6.66666667,  6.76767677,  6.86868687,  6.96969697,\n",
       "        7.07070707,  7.17171717,  7.27272727,  7.37373737,  7.47474747,\n",
       "        7.57575758,  7.67676768,  7.77777778,  7.87878788,  7.97979798,\n",
       "        8.08080808,  8.18181818,  8.28282828,  8.38383838,  8.48484848,\n",
       "        8.58585859,  8.68686869,  8.78787879,  8.88888889,  8.98989899,\n",
       "        9.09090909,  9.19191919,  9.29292929,  9.39393939,  9.49494949,\n",
       "        9.5959596 ,  9.6969697 ,  9.7979798 ,  9.8989899 , 10.        ])"
      ]
     },
     "execution_count": 17,
     "metadata": {},
     "output_type": "execute_result"
    }
   ],
   "source": [
    "# Hence what we need to do is to concetrate the histogram for values 0 < value < 10 miles\n",
    "# In order to do that we need to divide the boxes\n",
    "\n",
    "np.linspace(0, 10, 100) # measure distance form 0 < values < 10 and break it into hundreads"
   ]
  },
  {
   "cell_type": "markdown",
   "id": "72f0cb07",
   "metadata": {},
   "source": [
    "We can see that the values are 0.101010 , 0.2020202 and so on\n",
    "This is because of the way that computer calculate things.\n",
    "In binary value of 1/10 cannot be represented accuratly on pc ( similar to 1/3 in decimal which correspnds to 0.333333 cannot be accuratly represented )"
   ]
  },
  {
   "cell_type": "code",
   "execution_count": 18,
   "id": "aa3ec791",
   "metadata": {},
   "outputs": [
    {
     "data": {
      "text/plain": [
       "<AxesSubplot:>"
      ]
     },
     "execution_count": 18,
     "metadata": {},
     "output_type": "execute_result"
    },
    {
     "data": {
      "image/png": "[encoded data removed]",
      "text/plain": [
       "<Figure size 720x576 with 1 Axes>"
      ]
     },
     "metadata": {
      "needs_background": "light"
     },
     "output_type": "display_data"
    }
   ],
   "source": [
    "data.trip_distance.hist(bins=np.linspace(0, 10, 100), # design the histogram depending on our new data\n",
    "                        color='blue', edgecolor='black', \n",
    "                        alpha=0.5, figsize=(10, 8))"
   ]
  },
  {
   "cell_type": "markdown",
   "id": "4420c5c3",
   "metadata": {},
   "source": [
    "We can see that there is a peak apprx distance of 1 mile. ( most popular )\n",
    "We can also see that they are some other smaller peaks.\n",
    "Investigating this case then:"
   ]
  },
  {
   "cell_type": "code",
   "execution_count": 19,
   "id": "280b07a4",
   "metadata": {},
   "outputs": [
    {
     "data": {
      "text/plain": [
       "(0.909, 1.01]     78629\n",
       "(0.808, 0.909]    68974\n",
       "(1.01, 1.111]     68413\n",
       "(0.707, 0.808]    66525\n",
       "(1.111, 1.212]    66112\n",
       "                  ...  \n",
       "(9.697, 9.798]     2022\n",
       "(7.879, 7.98]      2005\n",
       "(8.485, 8.586]     2005\n",
       "(8.283, 8.384]     1990\n",
       "(9.798, 9.899]     1974\n",
       "Name: trip_distance, Length: 99, dtype: int64"
      ]
     },
     "execution_count": 19,
     "metadata": {},
     "output_type": "execute_result"
    }
   ],
   "source": [
    "data['trip_distance'].value_counts(bins=np.linspace(0, 10, 100)) # how many routes have been measured in the boxes"
   ]
  },
  {
   "cell_type": "markdown",
   "id": "d6229c9b",
   "metadata": {},
   "source": [
    "In order to find the smaller peaks , we need to compare the column to the next one (find the greater)\n",
    "But our result from running the previous code ; displays the routes based on descending order of how popular that route is\n",
    "We need though to be in order as the histogram"
   ]
  },
  {
   "cell_type": "code",
   "execution_count": 20,
   "id": "fd1e4c2f",
   "metadata": {},
   "outputs": [
    {
     "data": {
      "text/plain": [
       "(-0.001, 0.101]    16986\n",
       "(0.101, 0.202]      7730\n",
       "(0.202, 0.303]     13104\n",
       "(0.303, 0.404]     24169\n",
       "(0.404, 0.505]     37491\n",
       "                   ...  \n",
       "(9.495, 9.596]      2137\n",
       "(9.596, 9.697]      2030\n",
       "(9.697, 9.798]      2022\n",
       "(9.798, 9.899]      1974\n",
       "(9.899, 10.0]       3214\n",
       "Name: trip_distance, Length: 99, dtype: int64"
      ]
     },
     "execution_count": 20,
     "metadata": {},
     "output_type": "execute_result"
    }
   ],
   "source": [
    "# Hence sort data depending on popularity and then sort data based on their index (sort.index)\n",
    "trip_distance_counts = data['trip_distance'].value_counts(bins=np.linspace(0, 10, 100)).sort_index()\n",
    "trip_distance_counts"
   ]
  },
  {
   "cell_type": "markdown",
   "id": "9f3bf7e4",
   "metadata": {},
   "source": [
    "Hence we need to compare the values found in the second column"
   ]
  },
  {
   "cell_type": "code",
   "execution_count": 21,
   "id": "5dc5c9cb",
   "metadata": {},
   "outputs": [
    {
     "data": {
      "text/plain": [
       "array([ 9, 19, 29, 39, 49, 59, 69, 79, 83, 89, 93], dtype=int64)"
      ]
     },
     "execution_count": 21,
     "metadata": {},
     "output_type": "execute_result"
    }
   ],
   "source": [
    "from scipy.signal import find_peaks # Comparing distances with their neighbours values\n",
    "\n",
    "peaks, _ = find_peaks(trip_distance_counts)\n",
    "peaks\n",
    "\n",
    "# Shows an array of peaks"
   ]
  },
  {
   "cell_type": "code",
   "execution_count": 22,
   "id": "52cb84c0",
   "metadata": {},
   "outputs": [
    {
     "data": {
      "text/plain": [
       "(0.909, 1.01]     78629\n",
       "(1.919, 2.02]     46971\n",
       "(2.929, 3.03]     23081\n",
       "(3.939, 4.04]     12562\n",
       "(4.949, 5.051]     7332\n",
       "(5.96, 6.061]      4756\n",
       "(6.97, 7.071]      3025\n",
       "(7.98, 8.081]      2343\n",
       "(8.384, 8.485]     2025\n",
       "(8.99, 9.091]      2425\n",
       "(9.394, 9.495]     2153\n",
       "Name: trip_distance, dtype: int64"
      ]
     },
     "execution_count": 22,
     "metadata": {},
     "output_type": "execute_result"
    }
   ],
   "source": [
    "# Since we have now the peaks\n",
    "trip_distance_counts.iloc[peaks] # use iloc retrieve the positions of peaks"
   ]
  },
  {
   "cell_type": "code",
   "execution_count": 23,
   "id": "687c9938",
   "metadata": {},
   "outputs": [
    {
     "data": {
      "image/png": "[encoded data removed]",
      "text/plain": [
       "<Figure size 720x576 with 1 Axes>"
      ]
     },
     "metadata": {
      "needs_background": "light"
     },
     "output_type": "display_data"
    }
   ],
   "source": [
    "# We can see that the peaks correspond to routes with approximate values ( 1,2,.....,8 miles)\n",
    "ax = data.trip_distance.hist(bins=np.linspace(0, 10, 100), \n",
    "                             color='blue', edgecolor='black', \n",
    "                             alpha=0.5, figsize=(10, 8))\n",
    "for i in peaks:\n",
    "    ax.patches[i].set_facecolor('darkorange') # patches = peak bars"
   ]
  },
  {
   "cell_type": "markdown",
   "id": "00ab50c5",
   "metadata": {},
   "source": []
  }
 ],
 "metadata": {
  "kernelspec": {
   "display_name": "Python 3 (ipykernel)",
   "language": "python",
   "name": "python3"
  },
  "language_info": {
   "codemirror_mode": {
    "name": "ipython",
    "version": 3
   },
   "file_extension": ".py",
   "mimetype": "text/x-python",
   "name": "python",
   "nbconvert_exporter": "python",
   "pygments_lexer": "ipython3",
   "version": "3.9.7"
  }
 },
 "nbformat": 4,
 "nbformat_minor": 5
}
