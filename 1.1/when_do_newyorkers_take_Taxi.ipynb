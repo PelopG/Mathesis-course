{
 "cells": [
  {
   "cell_type": "code",
   "execution_count": 1,
   "id": "a82e8e39",
   "metadata": {},
   "outputs": [],
   "source": [
    "import numpy as np\n",
    "import pandas as pd\n",
    "import matplotlib.pyplot as plt"
   ]
  },
  {
   "cell_type": "markdown",
   "id": "e7dcf071",
   "metadata": {},
   "source": [
    "Here we are going to use a new command (group by)\n",
    "This command has the ability to use groups in pandas\n",
    "\n",
    "SELECT Column1, Column2, mean(Column3), sum(Column4)\n",
    "FROM SomeTable\n",
    "GROUP BY Column1, Column2"
   ]
  },
  {
   "cell_type": "code",
   "execution_count": 3,
   "id": "ad8deda9",
   "metadata": {},
   "outputs": [
    {
     "data": {
      "text/html": [
       "<div>\n",
       "<style scoped>\n",
       "    .dataframe tbody tr th:only-of-type {\n",
       "        vertical-align: middle;\n",
       "    }\n",
       "\n",
       "    .dataframe tbody tr th {\n",
       "        vertical-align: top;\n",
       "    }\n",
       "\n",
       "    .dataframe thead th {\n",
       "        text-align: right;\n",
       "    }\n",
       "</style>\n",
       "<table border=\"1\" class=\"dataframe\">\n",
       "  <thead>\n",
       "    <tr style=\"text-align: right;\">\n",
       "      <th></th>\n",
       "      <th>key1</th>\n",
       "      <th>key2</th>\n",
       "      <th>data1</th>\n",
       "      <th>data2</th>\n",
       "    </tr>\n",
       "  </thead>\n",
       "  <tbody>\n",
       "    <tr>\n",
       "      <th>0</th>\n",
       "      <td>a</td>\n",
       "      <td>one</td>\n",
       "      <td>-0.905038</td>\n",
       "      <td>1.017951</td>\n",
       "    </tr>\n",
       "    <tr>\n",
       "      <th>1</th>\n",
       "      <td>a</td>\n",
       "      <td>two</td>\n",
       "      <td>-1.874766</td>\n",
       "      <td>1.016747</td>\n",
       "    </tr>\n",
       "    <tr>\n",
       "      <th>2</th>\n",
       "      <td>b</td>\n",
       "      <td>one</td>\n",
       "      <td>-0.155470</td>\n",
       "      <td>-1.153718</td>\n",
       "    </tr>\n",
       "    <tr>\n",
       "      <th>3</th>\n",
       "      <td>b</td>\n",
       "      <td>two</td>\n",
       "      <td>-0.644146</td>\n",
       "      <td>1.259383</td>\n",
       "    </tr>\n",
       "    <tr>\n",
       "      <th>4</th>\n",
       "      <td>a</td>\n",
       "      <td>one</td>\n",
       "      <td>0.206023</td>\n",
       "      <td>0.010246</td>\n",
       "    </tr>\n",
       "  </tbody>\n",
       "</table>\n",
       "</div>"
      ],
      "text/plain": [
       "  key1 key2     data1     data2\n",
       "0    a  one -0.905038  1.017951\n",
       "1    a  two -1.874766  1.016747\n",
       "2    b  one -0.155470 -1.153718\n",
       "3    b  two -0.644146  1.259383\n",
       "4    a  one  0.206023  0.010246"
      ]
     },
     "execution_count": 3,
     "metadata": {},
     "output_type": "execute_result"
    }
   ],
   "source": [
    "df = pd.DataFrame({'key1': ['a', 'a', 'b', 'b', 'a'],\n",
    "                   'key2': ['one', 'two', 'one', 'two', 'one'],\n",
    "                   'data1': np.random.randn(5),\n",
    "                   'data2': np.random.randn(5)})\n",
    "df\n",
    "\n",
    "# key1,2 & data1,2 are the columns"
   ]
  },
  {
   "cell_type": "code",
   "execution_count": 4,
   "id": "52576967",
   "metadata": {},
   "outputs": [
    {
     "name": "stdout",
     "output_type": "stream",
     "text": [
      "a\n",
      "  key1 key2     data1     data2\n",
      "0    a  one -0.905038  1.017951\n",
      "1    a  two -1.874766  1.016747\n",
      "4    a  one  0.206023  0.010246\n",
      "b\n",
      "  key1 key2     data1     data2\n",
      "2    b  one -0.155470 -1.153718\n",
      "3    b  two -0.644146  1.259383\n"
     ]
    }
   ],
   "source": [
    "# Using the group by\n",
    "grouped = df.groupby('key1')\n",
    "\n",
    "for name, group in grouped:\n",
    "    print(name)\n",
    "    print(group)"
   ]
  },
  {
   "cell_type": "markdown",
   "id": "6c8a3d77",
   "metadata": {},
   "source": [
    "We can see that groupby command\n",
    "Has grouped the data into a & b"
   ]
  },
  {
   "cell_type": "code",
   "execution_count": 5,
   "id": "208c0f69",
   "metadata": {},
   "outputs": [
    {
     "data": {
      "text/html": [
       "<div>\n",
       "<style scoped>\n",
       "    .dataframe tbody tr th:only-of-type {\n",
       "        vertical-align: middle;\n",
       "    }\n",
       "\n",
       "    .dataframe tbody tr th {\n",
       "        vertical-align: top;\n",
       "    }\n",
       "\n",
       "    .dataframe thead th {\n",
       "        text-align: right;\n",
       "    }\n",
       "</style>\n",
       "<table border=\"1\" class=\"dataframe\">\n",
       "  <thead>\n",
       "    <tr style=\"text-align: right;\">\n",
       "      <th></th>\n",
       "      <th>data1</th>\n",
       "      <th>data2</th>\n",
       "    </tr>\n",
       "    <tr>\n",
       "      <th>key1</th>\n",
       "      <th></th>\n",
       "      <th></th>\n",
       "    </tr>\n",
       "  </thead>\n",
       "  <tbody>\n",
       "    <tr>\n",
       "      <th>a</th>\n",
       "      <td>-0.857927</td>\n",
       "      <td>0.681648</td>\n",
       "    </tr>\n",
       "    <tr>\n",
       "      <th>b</th>\n",
       "      <td>-0.399808</td>\n",
       "      <td>0.052833</td>\n",
       "    </tr>\n",
       "  </tbody>\n",
       "</table>\n",
       "</div>"
      ],
      "text/plain": [
       "         data1     data2\n",
       "key1                    \n",
       "a    -0.857927  0.681648\n",
       "b    -0.399808  0.052833"
      ]
     },
     "execution_count": 5,
     "metadata": {},
     "output_type": "execute_result"
    }
   ],
   "source": [
    "grouped.mean() # takes the mean os the groups a & b for each column"
   ]
  },
  {
   "cell_type": "code",
   "execution_count": 6,
   "id": "e6892a5a",
   "metadata": {},
   "outputs": [
    {
     "name": "stdout",
     "output_type": "stream",
     "text": [
      "a one\n",
      "  key1 key2     data1     data2\n",
      "0    a  one -0.905038  1.017951\n",
      "4    a  one  0.206023  0.010246\n",
      "a two\n",
      "  key1 key2     data1     data2\n",
      "1    a  two -1.874766  1.016747\n",
      "b one\n",
      "  key1 key2    data1     data2\n",
      "2    b  one -0.15547 -1.153718\n",
      "b two\n",
      "  key1 key2     data1     data2\n",
      "3    b  two -0.644146  1.259383\n"
     ]
    }
   ],
   "source": [
    "grouped = df.groupby(['key1', 'key2'])\n",
    "\n",
    "for (k1, k2), group in grouped:\n",
    "    print(k1, k2)\n",
    "    print(group)"
   ]
  },
  {
   "cell_type": "code",
   "execution_count": 7,
   "id": "149f8b82",
   "metadata": {},
   "outputs": [
    {
     "data": {
      "text/html": [
       "<div>\n",
       "<style scoped>\n",
       "    .dataframe tbody tr th:only-of-type {\n",
       "        vertical-align: middle;\n",
       "    }\n",
       "\n",
       "    .dataframe tbody tr th {\n",
       "        vertical-align: top;\n",
       "    }\n",
       "\n",
       "    .dataframe thead th {\n",
       "        text-align: right;\n",
       "    }\n",
       "</style>\n",
       "<table border=\"1\" class=\"dataframe\">\n",
       "  <thead>\n",
       "    <tr style=\"text-align: right;\">\n",
       "      <th></th>\n",
       "      <th></th>\n",
       "      <th>data1</th>\n",
       "      <th>data2</th>\n",
       "    </tr>\n",
       "    <tr>\n",
       "      <th>key1</th>\n",
       "      <th>key2</th>\n",
       "      <th></th>\n",
       "      <th></th>\n",
       "    </tr>\n",
       "  </thead>\n",
       "  <tbody>\n",
       "    <tr>\n",
       "      <th rowspan=\"2\" valign=\"top\">a</th>\n",
       "      <th>one</th>\n",
       "      <td>-0.349507</td>\n",
       "      <td>0.514098</td>\n",
       "    </tr>\n",
       "    <tr>\n",
       "      <th>two</th>\n",
       "      <td>-1.874766</td>\n",
       "      <td>1.016747</td>\n",
       "    </tr>\n",
       "    <tr>\n",
       "      <th rowspan=\"2\" valign=\"top\">b</th>\n",
       "      <th>one</th>\n",
       "      <td>-0.155470</td>\n",
       "      <td>-1.153718</td>\n",
       "    </tr>\n",
       "    <tr>\n",
       "      <th>two</th>\n",
       "      <td>-0.644146</td>\n",
       "      <td>1.259383</td>\n",
       "    </tr>\n",
       "  </tbody>\n",
       "</table>\n",
       "</div>"
      ],
      "text/plain": [
       "              data1     data2\n",
       "key1 key2                    \n",
       "a    one  -0.349507  0.514098\n",
       "     two  -1.874766  1.016747\n",
       "b    one  -0.155470 -1.153718\n",
       "     two  -0.644146  1.259383"
      ]
     },
     "execution_count": 7,
     "metadata": {},
     "output_type": "execute_result"
    }
   ],
   "source": [
    "grouped.mean()"
   ]
  },
  {
   "cell_type": "markdown",
   "id": "e78cff84",
   "metadata": {},
   "source": [
    "One of the strong sides of using pandas is that it uses a hierarchical approach.\n",
    "Meaning it first groups data into a and b and then into one and two"
   ]
  },
  {
   "cell_type": "markdown",
   "id": "db059b73",
   "metadata": {},
   "source": [
    "We can use the data from the restaraunts visits of New York"
   ]
  },
  {
   "cell_type": "code",
   "execution_count": 8,
   "id": "5427055f",
   "metadata": {},
   "outputs": [
    {
     "data": {
      "text/html": [
       "<div>\n",
       "<style scoped>\n",
       "    .dataframe tbody tr th:only-of-type {\n",
       "        vertical-align: middle;\n",
       "    }\n",
       "\n",
       "    .dataframe tbody tr th {\n",
       "        vertical-align: top;\n",
       "    }\n",
       "\n",
       "    .dataframe thead th {\n",
       "        text-align: right;\n",
       "    }\n",
       "</style>\n",
       "<table border=\"1\" class=\"dataframe\">\n",
       "  <thead>\n",
       "    <tr style=\"text-align: right;\">\n",
       "      <th></th>\n",
       "      <th>total_bill</th>\n",
       "      <th>tip</th>\n",
       "      <th>sex</th>\n",
       "      <th>smoker</th>\n",
       "      <th>day</th>\n",
       "      <th>time</th>\n",
       "      <th>size</th>\n",
       "    </tr>\n",
       "  </thead>\n",
       "  <tbody>\n",
       "    <tr>\n",
       "      <th>0</th>\n",
       "      <td>16.99</td>\n",
       "      <td>1.01</td>\n",
       "      <td>Female</td>\n",
       "      <td>No</td>\n",
       "      <td>Sun</td>\n",
       "      <td>Dinner</td>\n",
       "      <td>2</td>\n",
       "    </tr>\n",
       "    <tr>\n",
       "      <th>1</th>\n",
       "      <td>10.34</td>\n",
       "      <td>1.66</td>\n",
       "      <td>Male</td>\n",
       "      <td>No</td>\n",
       "      <td>Sun</td>\n",
       "      <td>Dinner</td>\n",
       "      <td>3</td>\n",
       "    </tr>\n",
       "    <tr>\n",
       "      <th>2</th>\n",
       "      <td>21.01</td>\n",
       "      <td>3.50</td>\n",
       "      <td>Male</td>\n",
       "      <td>No</td>\n",
       "      <td>Sun</td>\n",
       "      <td>Dinner</td>\n",
       "      <td>3</td>\n",
       "    </tr>\n",
       "    <tr>\n",
       "      <th>3</th>\n",
       "      <td>23.68</td>\n",
       "      <td>3.31</td>\n",
       "      <td>Male</td>\n",
       "      <td>No</td>\n",
       "      <td>Sun</td>\n",
       "      <td>Dinner</td>\n",
       "      <td>2</td>\n",
       "    </tr>\n",
       "    <tr>\n",
       "      <th>4</th>\n",
       "      <td>24.59</td>\n",
       "      <td>3.61</td>\n",
       "      <td>Female</td>\n",
       "      <td>No</td>\n",
       "      <td>Sun</td>\n",
       "      <td>Dinner</td>\n",
       "      <td>4</td>\n",
       "    </tr>\n",
       "    <tr>\n",
       "      <th>...</th>\n",
       "      <td>...</td>\n",
       "      <td>...</td>\n",
       "      <td>...</td>\n",
       "      <td>...</td>\n",
       "      <td>...</td>\n",
       "      <td>...</td>\n",
       "      <td>...</td>\n",
       "    </tr>\n",
       "    <tr>\n",
       "      <th>239</th>\n",
       "      <td>29.03</td>\n",
       "      <td>5.92</td>\n",
       "      <td>Male</td>\n",
       "      <td>No</td>\n",
       "      <td>Sat</td>\n",
       "      <td>Dinner</td>\n",
       "      <td>3</td>\n",
       "    </tr>\n",
       "    <tr>\n",
       "      <th>240</th>\n",
       "      <td>27.18</td>\n",
       "      <td>2.00</td>\n",
       "      <td>Female</td>\n",
       "      <td>Yes</td>\n",
       "      <td>Sat</td>\n",
       "      <td>Dinner</td>\n",
       "      <td>2</td>\n",
       "    </tr>\n",
       "    <tr>\n",
       "      <th>241</th>\n",
       "      <td>22.67</td>\n",
       "      <td>2.00</td>\n",
       "      <td>Male</td>\n",
       "      <td>Yes</td>\n",
       "      <td>Sat</td>\n",
       "      <td>Dinner</td>\n",
       "      <td>2</td>\n",
       "    </tr>\n",
       "    <tr>\n",
       "      <th>242</th>\n",
       "      <td>17.82</td>\n",
       "      <td>1.75</td>\n",
       "      <td>Male</td>\n",
       "      <td>No</td>\n",
       "      <td>Sat</td>\n",
       "      <td>Dinner</td>\n",
       "      <td>2</td>\n",
       "    </tr>\n",
       "    <tr>\n",
       "      <th>243</th>\n",
       "      <td>18.78</td>\n",
       "      <td>3.00</td>\n",
       "      <td>Female</td>\n",
       "      <td>No</td>\n",
       "      <td>Thur</td>\n",
       "      <td>Dinner</td>\n",
       "      <td>2</td>\n",
       "    </tr>\n",
       "  </tbody>\n",
       "</table>\n",
       "<p>244 rows × 7 columns</p>\n",
       "</div>"
      ],
      "text/plain": [
       "     total_bill   tip     sex smoker   day    time  size\n",
       "0         16.99  1.01  Female     No   Sun  Dinner     2\n",
       "1         10.34  1.66    Male     No   Sun  Dinner     3\n",
       "2         21.01  3.50    Male     No   Sun  Dinner     3\n",
       "3         23.68  3.31    Male     No   Sun  Dinner     2\n",
       "4         24.59  3.61  Female     No   Sun  Dinner     4\n",
       "..          ...   ...     ...    ...   ...     ...   ...\n",
       "239       29.03  5.92    Male     No   Sat  Dinner     3\n",
       "240       27.18  2.00  Female    Yes   Sat  Dinner     2\n",
       "241       22.67  2.00    Male    Yes   Sat  Dinner     2\n",
       "242       17.82  1.75    Male     No   Sat  Dinner     2\n",
       "243       18.78  3.00  Female     No  Thur  Dinner     2\n",
       "\n",
       "[244 rows x 7 columns]"
      ]
     },
     "execution_count": 8,
     "metadata": {},
     "output_type": "execute_result"
    }
   ],
   "source": [
    "tips = pd.read_csv(\"tips.csv\")\n",
    "tips"
   ]
  },
  {
   "cell_type": "code",
   "execution_count": 11,
   "id": "6148c555",
   "metadata": {},
   "outputs": [
    {
     "data": {
      "text/html": [
       "<div>\n",
       "<style scoped>\n",
       "    .dataframe tbody tr th:only-of-type {\n",
       "        vertical-align: middle;\n",
       "    }\n",
       "\n",
       "    .dataframe tbody tr th {\n",
       "        vertical-align: top;\n",
       "    }\n",
       "\n",
       "    .dataframe thead th {\n",
       "        text-align: right;\n",
       "    }\n",
       "</style>\n",
       "<table border=\"1\" class=\"dataframe\">\n",
       "  <thead>\n",
       "    <tr style=\"text-align: right;\">\n",
       "      <th></th>\n",
       "      <th>total_bill</th>\n",
       "      <th>tip</th>\n",
       "      <th>sex</th>\n",
       "      <th>smoker</th>\n",
       "      <th>day</th>\n",
       "      <th>time</th>\n",
       "      <th>size</th>\n",
       "      <th>tips_pct</th>\n",
       "    </tr>\n",
       "  </thead>\n",
       "  <tbody>\n",
       "    <tr>\n",
       "      <th>0</th>\n",
       "      <td>16.99</td>\n",
       "      <td>1.01</td>\n",
       "      <td>Female</td>\n",
       "      <td>No</td>\n",
       "      <td>Sun</td>\n",
       "      <td>Dinner</td>\n",
       "      <td>2</td>\n",
       "      <td>0.059447</td>\n",
       "    </tr>\n",
       "    <tr>\n",
       "      <th>1</th>\n",
       "      <td>10.34</td>\n",
       "      <td>1.66</td>\n",
       "      <td>Male</td>\n",
       "      <td>No</td>\n",
       "      <td>Sun</td>\n",
       "      <td>Dinner</td>\n",
       "      <td>3</td>\n",
       "      <td>0.160542</td>\n",
       "    </tr>\n",
       "    <tr>\n",
       "      <th>2</th>\n",
       "      <td>21.01</td>\n",
       "      <td>3.50</td>\n",
       "      <td>Male</td>\n",
       "      <td>No</td>\n",
       "      <td>Sun</td>\n",
       "      <td>Dinner</td>\n",
       "      <td>3</td>\n",
       "      <td>0.166587</td>\n",
       "    </tr>\n",
       "    <tr>\n",
       "      <th>3</th>\n",
       "      <td>23.68</td>\n",
       "      <td>3.31</td>\n",
       "      <td>Male</td>\n",
       "      <td>No</td>\n",
       "      <td>Sun</td>\n",
       "      <td>Dinner</td>\n",
       "      <td>2</td>\n",
       "      <td>0.139780</td>\n",
       "    </tr>\n",
       "    <tr>\n",
       "      <th>4</th>\n",
       "      <td>24.59</td>\n",
       "      <td>3.61</td>\n",
       "      <td>Female</td>\n",
       "      <td>No</td>\n",
       "      <td>Sun</td>\n",
       "      <td>Dinner</td>\n",
       "      <td>4</td>\n",
       "      <td>0.146808</td>\n",
       "    </tr>\n",
       "    <tr>\n",
       "      <th>...</th>\n",
       "      <td>...</td>\n",
       "      <td>...</td>\n",
       "      <td>...</td>\n",
       "      <td>...</td>\n",
       "      <td>...</td>\n",
       "      <td>...</td>\n",
       "      <td>...</td>\n",
       "      <td>...</td>\n",
       "    </tr>\n",
       "    <tr>\n",
       "      <th>239</th>\n",
       "      <td>29.03</td>\n",
       "      <td>5.92</td>\n",
       "      <td>Male</td>\n",
       "      <td>No</td>\n",
       "      <td>Sat</td>\n",
       "      <td>Dinner</td>\n",
       "      <td>3</td>\n",
       "      <td>0.203927</td>\n",
       "    </tr>\n",
       "    <tr>\n",
       "      <th>240</th>\n",
       "      <td>27.18</td>\n",
       "      <td>2.00</td>\n",
       "      <td>Female</td>\n",
       "      <td>Yes</td>\n",
       "      <td>Sat</td>\n",
       "      <td>Dinner</td>\n",
       "      <td>2</td>\n",
       "      <td>0.073584</td>\n",
       "    </tr>\n",
       "    <tr>\n",
       "      <th>241</th>\n",
       "      <td>22.67</td>\n",
       "      <td>2.00</td>\n",
       "      <td>Male</td>\n",
       "      <td>Yes</td>\n",
       "      <td>Sat</td>\n",
       "      <td>Dinner</td>\n",
       "      <td>2</td>\n",
       "      <td>0.088222</td>\n",
       "    </tr>\n",
       "    <tr>\n",
       "      <th>242</th>\n",
       "      <td>17.82</td>\n",
       "      <td>1.75</td>\n",
       "      <td>Male</td>\n",
       "      <td>No</td>\n",
       "      <td>Sat</td>\n",
       "      <td>Dinner</td>\n",
       "      <td>2</td>\n",
       "      <td>0.098204</td>\n",
       "    </tr>\n",
       "    <tr>\n",
       "      <th>243</th>\n",
       "      <td>18.78</td>\n",
       "      <td>3.00</td>\n",
       "      <td>Female</td>\n",
       "      <td>No</td>\n",
       "      <td>Thur</td>\n",
       "      <td>Dinner</td>\n",
       "      <td>2</td>\n",
       "      <td>0.159744</td>\n",
       "    </tr>\n",
       "  </tbody>\n",
       "</table>\n",
       "<p>244 rows × 8 columns</p>\n",
       "</div>"
      ],
      "text/plain": [
       "     total_bill   tip     sex smoker   day    time  size  tips_pct\n",
       "0         16.99  1.01  Female     No   Sun  Dinner     2  0.059447\n",
       "1         10.34  1.66    Male     No   Sun  Dinner     3  0.160542\n",
       "2         21.01  3.50    Male     No   Sun  Dinner     3  0.166587\n",
       "3         23.68  3.31    Male     No   Sun  Dinner     2  0.139780\n",
       "4         24.59  3.61  Female     No   Sun  Dinner     4  0.146808\n",
       "..          ...   ...     ...    ...   ...     ...   ...       ...\n",
       "239       29.03  5.92    Male     No   Sat  Dinner     3  0.203927\n",
       "240       27.18  2.00  Female    Yes   Sat  Dinner     2  0.073584\n",
       "241       22.67  2.00    Male    Yes   Sat  Dinner     2  0.088222\n",
       "242       17.82  1.75    Male     No   Sat  Dinner     2  0.098204\n",
       "243       18.78  3.00  Female     No  Thur  Dinner     2  0.159744\n",
       "\n",
       "[244 rows x 8 columns]"
      ]
     },
     "execution_count": 11,
     "metadata": {},
     "output_type": "execute_result"
    }
   ],
   "source": [
    "# We want to measure the tip depending on the total bil price\n",
    "\n",
    "tips['tips_pct'] = tips['tip'] / tips['total_bill']\n",
    "tips\n",
    "\n",
    "# We can then store the answer of the division into a new columns and dispaly it"
   ]
  },
  {
   "cell_type": "markdown",
   "id": "ccbe80a2",
   "metadata": {},
   "source": [
    "   > We can then group these data depending whether its a male or female and if he/she smokes"
   ]
  },
  {
   "cell_type": "code",
   "execution_count": 12,
   "id": "9dee5a26",
   "metadata": {},
   "outputs": [],
   "source": [
    "grouped = tips.groupby(['sex', 'smoker'])"
   ]
  },
  {
   "cell_type": "code",
   "execution_count": 13,
   "id": "b4dc471d",
   "metadata": {},
   "outputs": [
    {
     "data": {
      "text/html": [
       "<div>\n",
       "<style scoped>\n",
       "    .dataframe tbody tr th:only-of-type {\n",
       "        vertical-align: middle;\n",
       "    }\n",
       "\n",
       "    .dataframe tbody tr th {\n",
       "        vertical-align: top;\n",
       "    }\n",
       "\n",
       "    .dataframe thead tr th {\n",
       "        text-align: left;\n",
       "    }\n",
       "\n",
       "    .dataframe thead tr:last-of-type th {\n",
       "        text-align: right;\n",
       "    }\n",
       "</style>\n",
       "<table border=\"1\" class=\"dataframe\">\n",
       "  <thead>\n",
       "    <tr>\n",
       "      <th></th>\n",
       "      <th></th>\n",
       "      <th colspan=\"2\" halign=\"left\">total_bill</th>\n",
       "      <th colspan=\"2\" halign=\"left\">tip</th>\n",
       "      <th colspan=\"2\" halign=\"left\">size</th>\n",
       "      <th colspan=\"2\" halign=\"left\">tips_pct</th>\n",
       "    </tr>\n",
       "    <tr>\n",
       "      <th></th>\n",
       "      <th></th>\n",
       "      <th>mean</th>\n",
       "      <th>std</th>\n",
       "      <th>mean</th>\n",
       "      <th>std</th>\n",
       "      <th>mean</th>\n",
       "      <th>std</th>\n",
       "      <th>mean</th>\n",
       "      <th>std</th>\n",
       "    </tr>\n",
       "    <tr>\n",
       "      <th>sex</th>\n",
       "      <th>smoker</th>\n",
       "      <th></th>\n",
       "      <th></th>\n",
       "      <th></th>\n",
       "      <th></th>\n",
       "      <th></th>\n",
       "      <th></th>\n",
       "      <th></th>\n",
       "      <th></th>\n",
       "    </tr>\n",
       "  </thead>\n",
       "  <tbody>\n",
       "    <tr>\n",
       "      <th rowspan=\"2\" valign=\"top\">Female</th>\n",
       "      <th>No</th>\n",
       "      <td>18.105185</td>\n",
       "      <td>7.286455</td>\n",
       "      <td>2.773519</td>\n",
       "      <td>1.128425</td>\n",
       "      <td>2.592593</td>\n",
       "      <td>1.073146</td>\n",
       "      <td>0.156921</td>\n",
       "      <td>0.036421</td>\n",
       "    </tr>\n",
       "    <tr>\n",
       "      <th>Yes</th>\n",
       "      <td>17.977879</td>\n",
       "      <td>9.189751</td>\n",
       "      <td>2.931515</td>\n",
       "      <td>1.219916</td>\n",
       "      <td>2.242424</td>\n",
       "      <td>0.613917</td>\n",
       "      <td>0.182150</td>\n",
       "      <td>0.071595</td>\n",
       "    </tr>\n",
       "    <tr>\n",
       "      <th rowspan=\"2\" valign=\"top\">Male</th>\n",
       "      <th>No</th>\n",
       "      <td>19.791237</td>\n",
       "      <td>8.726566</td>\n",
       "      <td>3.113402</td>\n",
       "      <td>1.489559</td>\n",
       "      <td>2.711340</td>\n",
       "      <td>0.989094</td>\n",
       "      <td>0.160669</td>\n",
       "      <td>0.041849</td>\n",
       "    </tr>\n",
       "    <tr>\n",
       "      <th>Yes</th>\n",
       "      <td>22.284500</td>\n",
       "      <td>9.911845</td>\n",
       "      <td>3.051167</td>\n",
       "      <td>1.500120</td>\n",
       "      <td>2.500000</td>\n",
       "      <td>0.892530</td>\n",
       "      <td>0.152771</td>\n",
       "      <td>0.090588</td>\n",
       "    </tr>\n",
       "  </tbody>\n",
       "</table>\n",
       "</div>"
      ],
      "text/plain": [
       "              total_bill                 tip                size            \\\n",
       "                    mean       std      mean       std      mean       std   \n",
       "sex    smoker                                                                \n",
       "Female No      18.105185  7.286455  2.773519  1.128425  2.592593  1.073146   \n",
       "       Yes     17.977879  9.189751  2.931515  1.219916  2.242424  0.613917   \n",
       "Male   No      19.791237  8.726566  3.113402  1.489559  2.711340  0.989094   \n",
       "       Yes     22.284500  9.911845  3.051167  1.500120  2.500000  0.892530   \n",
       "\n",
       "               tips_pct            \n",
       "                   mean       std  \n",
       "sex    smoker                      \n",
       "Female No      0.156921  0.036421  \n",
       "       Yes     0.182150  0.071595  \n",
       "Male   No      0.160669  0.041849  \n",
       "       Yes     0.152771  0.090588  "
      ]
     },
     "execution_count": 13,
     "metadata": {},
     "output_type": "execute_result"
    }
   ],
   "source": [
    "grouped.agg(['mean', 'std']) # this shows as the std and the mean "
   ]
  },
  {
   "cell_type": "markdown",
   "id": "09d901a4",
   "metadata": {},
   "source": [
    "We come back to the taxi problem"
   ]
  },
  {
   "cell_type": "code",
   "execution_count": 15,
   "id": "ec620a5b",
   "metadata": {},
   "outputs": [],
   "source": [
    "taxis = pd.read_csv(\"nyc_taxi_trip_data_sample.csv.zip\")"
   ]
  },
  {
   "cell_type": "markdown",
   "id": "16c72ddf",
   "metadata": {},
   "source": [
    "Columns of interest:\n",
    "1) pickup_datetime\n",
    "2) dropoff_datetime"
   ]
  },
  {
   "cell_type": "code",
   "execution_count": 16,
   "id": "7a4b68f5",
   "metadata": {},
   "outputs": [
    {
     "data": {
      "text/plain": [
       "0          2013-10-04 20:20:00\n",
       "1          2013-09-27 14:16:04\n",
       "2          2013-07-18 13:24:37\n",
       "3          2013-06-25 12:12:00\n",
       "4          2013-04-19 05:28:00\n",
       "                  ...         \n",
       "1731792    2013-08-02 03:34:00\n",
       "1731793    2013-02-21 12:44:00\n",
       "1731794    2013-02-16 17:24:00\n",
       "1731795    2013-05-24 10:29:16\n",
       "1731796    2013-03-15 14:42:10\n",
       "Name: pickup_datetime, Length: 1731797, dtype: object"
      ]
     },
     "execution_count": 16,
     "metadata": {},
     "output_type": "execute_result"
    }
   ],
   "source": [
    "taxis.pickup_datetime # date and time that a person use the taxi"
   ]
  },
  {
   "cell_type": "markdown",
   "id": "777830e5",
   "metadata": {},
   "source": [
    "We can observe here that the (dtype) is object\n",
    "Pandas hasnt figured out that the type of data has to be date and time\n",
    "Hence we need to tell pandas how to read them"
   ]
  },
  {
   "cell_type": "code",
   "execution_count": 17,
   "id": "a88d8cd3",
   "metadata": {},
   "outputs": [
    {
     "data": {
      "text/html": [
       "<div>\n",
       "<style scoped>\n",
       "    .dataframe tbody tr th:only-of-type {\n",
       "        vertical-align: middle;\n",
       "    }\n",
       "\n",
       "    .dataframe tbody tr th {\n",
       "        vertical-align: top;\n",
       "    }\n",
       "\n",
       "    .dataframe thead th {\n",
       "        text-align: right;\n",
       "    }\n",
       "</style>\n",
       "<table border=\"1\" class=\"dataframe\">\n",
       "  <thead>\n",
       "    <tr style=\"text-align: right;\">\n",
       "      <th></th>\n",
       "      <th>medallion</th>\n",
       "      <th>hack_license</th>\n",
       "      <th>vendor_id</th>\n",
       "      <th>rate_code</th>\n",
       "      <th>store_and_fwd_flag</th>\n",
       "      <th>pickup_datetime</th>\n",
       "      <th>dropoff_datetime</th>\n",
       "      <th>passenger_count</th>\n",
       "      <th>trip_time_in_secs</th>\n",
       "      <th>trip_distance</th>\n",
       "      <th>pickup_longitude</th>\n",
       "      <th>pickup_latitude</th>\n",
       "      <th>dropoff_longitude</th>\n",
       "      <th>dropoff_latitude</th>\n",
       "    </tr>\n",
       "  </thead>\n",
       "  <tbody>\n",
       "    <tr>\n",
       "      <th>0</th>\n",
       "      <td>037CB433AB5895649F7A9EF37F767EF1</td>\n",
       "      <td>F57FA13A6A82FE2F40D9DB0193DE0FEE</td>\n",
       "      <td>VTS</td>\n",
       "      <td>1</td>\n",
       "      <td>NaN</td>\n",
       "      <td>2013-10-04 20:20:00</td>\n",
       "      <td>2013-10-04 20:42:00</td>\n",
       "      <td>1</td>\n",
       "      <td>1320</td>\n",
       "      <td>4.05</td>\n",
       "      <td>-73.990089</td>\n",
       "      <td>40.723377</td>\n",
       "      <td>-73.941559</td>\n",
       "      <td>40.707790</td>\n",
       "    </tr>\n",
       "    <tr>\n",
       "      <th>1</th>\n",
       "      <td>E05E952B2DA14C7E9F1D7DEB80667739</td>\n",
       "      <td>11A3989B7BABB288FA3FA233E348C450</td>\n",
       "      <td>CMT</td>\n",
       "      <td>1</td>\n",
       "      <td>N</td>\n",
       "      <td>2013-09-27 14:16:04</td>\n",
       "      <td>2013-09-27 14:37:17</td>\n",
       "      <td>1</td>\n",
       "      <td>1273</td>\n",
       "      <td>2.10</td>\n",
       "      <td>-73.960022</td>\n",
       "      <td>40.710678</td>\n",
       "      <td>-73.994324</td>\n",
       "      <td>40.722858</td>\n",
       "    </tr>\n",
       "    <tr>\n",
       "      <th>2</th>\n",
       "      <td>51B267141807D0261EEB1844D2A78087</td>\n",
       "      <td>9DE60DFD683336F899D5BB448CE7CB09</td>\n",
       "      <td>CMT</td>\n",
       "      <td>1</td>\n",
       "      <td>N</td>\n",
       "      <td>2013-07-18 13:24:37</td>\n",
       "      <td>2013-07-18 13:29:27</td>\n",
       "      <td>3</td>\n",
       "      <td>290</td>\n",
       "      <td>0.90</td>\n",
       "      <td>-73.970634</td>\n",
       "      <td>40.760410</td>\n",
       "      <td>-73.960213</td>\n",
       "      <td>40.770241</td>\n",
       "    </tr>\n",
       "    <tr>\n",
       "      <th>3</th>\n",
       "      <td>76AC5C0F44D07BA5A2291F19E730B0B9</td>\n",
       "      <td>2348E03BB8227595281D9D6B38E45B38</td>\n",
       "      <td>VTS</td>\n",
       "      <td>1</td>\n",
       "      <td>NaN</td>\n",
       "      <td>2013-06-25 12:12:00</td>\n",
       "      <td>2013-06-25 12:28:00</td>\n",
       "      <td>2</td>\n",
       "      <td>960</td>\n",
       "      <td>1.28</td>\n",
       "      <td>-73.992661</td>\n",
       "      <td>40.752766</td>\n",
       "      <td>-73.975952</td>\n",
       "      <td>40.751781</td>\n",
       "    </tr>\n",
       "    <tr>\n",
       "      <th>4</th>\n",
       "      <td>739323AC15DADABE4B54561CB3330C53</td>\n",
       "      <td>9387A0902D7B1B4597802BE63AE7C34F</td>\n",
       "      <td>VTS</td>\n",
       "      <td>1</td>\n",
       "      <td>NaN</td>\n",
       "      <td>2013-04-19 05:28:00</td>\n",
       "      <td>2013-04-19 05:38:00</td>\n",
       "      <td>1</td>\n",
       "      <td>600</td>\n",
       "      <td>2.22</td>\n",
       "      <td>-73.999107</td>\n",
       "      <td>40.727924</td>\n",
       "      <td>-73.974869</td>\n",
       "      <td>40.741886</td>\n",
       "    </tr>\n",
       "    <tr>\n",
       "      <th>...</th>\n",
       "      <td>...</td>\n",
       "      <td>...</td>\n",
       "      <td>...</td>\n",
       "      <td>...</td>\n",
       "      <td>...</td>\n",
       "      <td>...</td>\n",
       "      <td>...</td>\n",
       "      <td>...</td>\n",
       "      <td>...</td>\n",
       "      <td>...</td>\n",
       "      <td>...</td>\n",
       "      <td>...</td>\n",
       "      <td>...</td>\n",
       "      <td>...</td>\n",
       "    </tr>\n",
       "    <tr>\n",
       "      <th>1731792</th>\n",
       "      <td>5DAE4FE51457F5B4D4950D00A0AD4394</td>\n",
       "      <td>B76DC9DC874EB9D71CC04ABC0D9AAC6A</td>\n",
       "      <td>CMT</td>\n",
       "      <td>1</td>\n",
       "      <td>N</td>\n",
       "      <td>2013-08-02 03:34:00</td>\n",
       "      <td>2013-08-02 03:51:47</td>\n",
       "      <td>2</td>\n",
       "      <td>1067</td>\n",
       "      <td>6.00</td>\n",
       "      <td>-73.995766</td>\n",
       "      <td>40.764359</td>\n",
       "      <td>-73.920052</td>\n",
       "      <td>40.775574</td>\n",
       "    </tr>\n",
       "    <tr>\n",
       "      <th>1731793</th>\n",
       "      <td>3C16CFAD2B12F3508F7211C37F8F8B8F</td>\n",
       "      <td>A36B62F2B6D1D6C289519810E66EAAB9</td>\n",
       "      <td>VTS</td>\n",
       "      <td>1</td>\n",
       "      <td>NaN</td>\n",
       "      <td>2013-02-21 12:44:00</td>\n",
       "      <td>2013-02-21 13:11:00</td>\n",
       "      <td>6</td>\n",
       "      <td>1620</td>\n",
       "      <td>3.94</td>\n",
       "      <td>0.000000</td>\n",
       "      <td>0.000000</td>\n",
       "      <td>0.000000</td>\n",
       "      <td>0.000000</td>\n",
       "    </tr>\n",
       "    <tr>\n",
       "      <th>1731794</th>\n",
       "      <td>23E5F1FDC96168E865BF7B4427C0163B</td>\n",
       "      <td>E7D75D6D6F2DBD7D25578F02991193D9</td>\n",
       "      <td>VTS</td>\n",
       "      <td>1</td>\n",
       "      <td>NaN</td>\n",
       "      <td>2013-02-16 17:24:00</td>\n",
       "      <td>2013-02-16 17:30:00</td>\n",
       "      <td>3</td>\n",
       "      <td>360</td>\n",
       "      <td>2.15</td>\n",
       "      <td>-73.991554</td>\n",
       "      <td>40.726940</td>\n",
       "      <td>-73.971642</td>\n",
       "      <td>40.751362</td>\n",
       "    </tr>\n",
       "    <tr>\n",
       "      <th>1731795</th>\n",
       "      <td>FE44D1131D86D515C88D5296598DD35A</td>\n",
       "      <td>015615BB1B66BA269602ED1A867271FA</td>\n",
       "      <td>CMT</td>\n",
       "      <td>1</td>\n",
       "      <td>N</td>\n",
       "      <td>2013-05-24 10:29:16</td>\n",
       "      <td>2013-05-24 10:44:39</td>\n",
       "      <td>1</td>\n",
       "      <td>923</td>\n",
       "      <td>7.20</td>\n",
       "      <td>-73.865715</td>\n",
       "      <td>40.771168</td>\n",
       "      <td>-73.809006</td>\n",
       "      <td>40.700127</td>\n",
       "    </tr>\n",
       "    <tr>\n",
       "      <th>1731796</th>\n",
       "      <td>465FE7E793D67BBB8A7A9869065170E5</td>\n",
       "      <td>E5D211ECD1F6A6164B6CFF1EB9B50499</td>\n",
       "      <td>CMT</td>\n",
       "      <td>1</td>\n",
       "      <td>N</td>\n",
       "      <td>2013-03-15 14:42:10</td>\n",
       "      <td>2013-03-15 14:51:20</td>\n",
       "      <td>1</td>\n",
       "      <td>549</td>\n",
       "      <td>0.70</td>\n",
       "      <td>-74.002968</td>\n",
       "      <td>40.718216</td>\n",
       "      <td>-74.011620</td>\n",
       "      <td>40.708351</td>\n",
       "    </tr>\n",
       "  </tbody>\n",
       "</table>\n",
       "<p>1731797 rows × 14 columns</p>\n",
       "</div>"
      ],
      "text/plain": [
       "                                medallion                      hack_license  \\\n",
       "0        037CB433AB5895649F7A9EF37F767EF1  F57FA13A6A82FE2F40D9DB0193DE0FEE   \n",
       "1        E05E952B2DA14C7E9F1D7DEB80667739  11A3989B7BABB288FA3FA233E348C450   \n",
       "2        51B267141807D0261EEB1844D2A78087  9DE60DFD683336F899D5BB448CE7CB09   \n",
       "3        76AC5C0F44D07BA5A2291F19E730B0B9  2348E03BB8227595281D9D6B38E45B38   \n",
       "4        739323AC15DADABE4B54561CB3330C53  9387A0902D7B1B4597802BE63AE7C34F   \n",
       "...                                   ...                               ...   \n",
       "1731792  5DAE4FE51457F5B4D4950D00A0AD4394  B76DC9DC874EB9D71CC04ABC0D9AAC6A   \n",
       "1731793  3C16CFAD2B12F3508F7211C37F8F8B8F  A36B62F2B6D1D6C289519810E66EAAB9   \n",
       "1731794  23E5F1FDC96168E865BF7B4427C0163B  E7D75D6D6F2DBD7D25578F02991193D9   \n",
       "1731795  FE44D1131D86D515C88D5296598DD35A  015615BB1B66BA269602ED1A867271FA   \n",
       "1731796  465FE7E793D67BBB8A7A9869065170E5  E5D211ECD1F6A6164B6CFF1EB9B50499   \n",
       "\n",
       "        vendor_id  rate_code store_and_fwd_flag     pickup_datetime  \\\n",
       "0             VTS          1                NaN 2013-10-04 20:20:00   \n",
       "1             CMT          1                  N 2013-09-27 14:16:04   \n",
       "2             CMT          1                  N 2013-07-18 13:24:37   \n",
       "3             VTS          1                NaN 2013-06-25 12:12:00   \n",
       "4             VTS          1                NaN 2013-04-19 05:28:00   \n",
       "...           ...        ...                ...                 ...   \n",
       "1731792       CMT          1                  N 2013-08-02 03:34:00   \n",
       "1731793       VTS          1                NaN 2013-02-21 12:44:00   \n",
       "1731794       VTS          1                NaN 2013-02-16 17:24:00   \n",
       "1731795       CMT          1                  N 2013-05-24 10:29:16   \n",
       "1731796       CMT          1                  N 2013-03-15 14:42:10   \n",
       "\n",
       "           dropoff_datetime  passenger_count  trip_time_in_secs  \\\n",
       "0       2013-10-04 20:42:00                1               1320   \n",
       "1       2013-09-27 14:37:17                1               1273   \n",
       "2       2013-07-18 13:29:27                3                290   \n",
       "3       2013-06-25 12:28:00                2                960   \n",
       "4       2013-04-19 05:38:00                1                600   \n",
       "...                     ...              ...                ...   \n",
       "1731792 2013-08-02 03:51:47                2               1067   \n",
       "1731793 2013-02-21 13:11:00                6               1620   \n",
       "1731794 2013-02-16 17:30:00                3                360   \n",
       "1731795 2013-05-24 10:44:39                1                923   \n",
       "1731796 2013-03-15 14:51:20                1                549   \n",
       "\n",
       "         trip_distance  pickup_longitude  pickup_latitude  dropoff_longitude  \\\n",
       "0                 4.05        -73.990089        40.723377         -73.941559   \n",
       "1                 2.10        -73.960022        40.710678         -73.994324   \n",
       "2                 0.90        -73.970634        40.760410         -73.960213   \n",
       "3                 1.28        -73.992661        40.752766         -73.975952   \n",
       "4                 2.22        -73.999107        40.727924         -73.974869   \n",
       "...                ...               ...              ...                ...   \n",
       "1731792           6.00        -73.995766        40.764359         -73.920052   \n",
       "1731793           3.94          0.000000         0.000000           0.000000   \n",
       "1731794           2.15        -73.991554        40.726940         -73.971642   \n",
       "1731795           7.20        -73.865715        40.771168         -73.809006   \n",
       "1731796           0.70        -74.002968        40.718216         -74.011620   \n",
       "\n",
       "         dropoff_latitude  \n",
       "0               40.707790  \n",
       "1               40.722858  \n",
       "2               40.770241  \n",
       "3               40.751781  \n",
       "4               40.741886  \n",
       "...                   ...  \n",
       "1731792         40.775574  \n",
       "1731793          0.000000  \n",
       "1731794         40.751362  \n",
       "1731795         40.700127  \n",
       "1731796         40.708351  \n",
       "\n",
       "[1731797 rows x 14 columns]"
      ]
     },
     "execution_count": 17,
     "metadata": {},
     "output_type": "execute_result"
    }
   ],
   "source": [
    "# We do that by  using (pase_dates) when the data are initially read from the file\n",
    "taxis = pd.read_csv(\"nyc_taxi_trip_data_sample.csv.zip\", \n",
    "                    parse_dates=['pickup_datetime', 'dropoff_datetime'])\n",
    "taxis"
   ]
  },
  {
   "cell_type": "code",
   "execution_count": 18,
   "id": "c94500d6",
   "metadata": {},
   "outputs": [
    {
     "data": {
      "text/plain": [
       "0         2013-10-04 20:20:00\n",
       "1         2013-09-27 14:16:04\n",
       "2         2013-07-18 13:24:37\n",
       "3         2013-06-25 12:12:00\n",
       "4         2013-04-19 05:28:00\n",
       "                  ...        \n",
       "1731792   2013-08-02 03:34:00\n",
       "1731793   2013-02-21 12:44:00\n",
       "1731794   2013-02-16 17:24:00\n",
       "1731795   2013-05-24 10:29:16\n",
       "1731796   2013-03-15 14:42:10\n",
       "Name: pickup_datetime, Length: 1731797, dtype: datetime64[ns]"
      ]
     },
     "execution_count": 18,
     "metadata": {},
     "output_type": "execute_result"
    }
   ],
   "source": [
    "taxis.pickup_datetime"
   ]
  },
  {
   "cell_type": "markdown",
   "id": "a749c733",
   "metadata": {},
   "source": [
    "Hence now we can see that the dtype changed to datatime"
   ]
  },
  {
   "cell_type": "markdown",
   "id": "3f7cc28f",
   "metadata": {},
   "source": [
    "Tip: When we have date and time calculations everything can be done through the use of libaries"
   ]
  },
  {
   "cell_type": "markdown",
   "id": "d47d1f18",
   "metadata": {},
   "source": [
    "To check when do newyorkers take taxis , we can check the most frequent weeks\n"
   ]
  },
  {
   "cell_type": "code",
   "execution_count": 19,
   "id": "27e31dcf",
   "metadata": {},
   "outputs": [
    {
     "data": {
      "text/plain": [
       "52"
      ]
     },
     "execution_count": 19,
     "metadata": {},
     "output_type": "execute_result"
    }
   ],
   "source": [
    "weekly = taxis.groupby(taxis.pickup_datetime.dt.isocalendar().week) # use group by depending on pickup_datetime and output week\n",
    "len(weekly) # hence 52 outcomes"
   ]
  },
  {
   "cell_type": "code",
   "execution_count": 20,
   "id": "4636e3e1",
   "metadata": {},
   "outputs": [
    {
     "data": {
      "text/plain": [
       "week\n",
       "1    35125\n",
       "2    32415\n",
       "3    34478\n",
       "dtype: int64"
      ]
     },
     "execution_count": 20,
     "metadata": {},
     "output_type": "execute_result"
    }
   ],
   "source": [
    "y = weekly.size() # data of each ween\n",
    "y.head(3) # display the first 3 weeks"
   ]
  },
  {
   "cell_type": "code",
   "execution_count": 21,
   "id": "5f8aa4d7",
   "metadata": {},
   "outputs": [
    {
     "data": {
      "text/plain": [
       "<AxesSubplot:>"
      ]
     },
     "execution_count": 21,
     "metadata": {},
     "output_type": "execute_result"
    },
    {
     "data": {
      "image/png": "[encoded data removed]",
      "text/plain": [
       "<Figure size 720x576 with 1 Axes>"
      ]
     },
     "metadata": {
      "needs_background": "light"
     },
     "output_type": "display_data"
    }
   ],
   "source": [
    "pd.Series(y.values).plot(figsize=(10, 8)) # display weeks on a diagram"
   ]
  },
  {
   "cell_type": "markdown",
   "id": "54b2d97f",
   "metadata": {},
   "source": [
    "Eventhough the data and the graph is correct .\n",
    "The way the data are displayed is not very useful, for example what has happend in week 13 , which month does week 13 belong to ?"
   ]
  },
  {
   "cell_type": "code",
   "execution_count": 23,
   "id": "1c20c2d6",
   "metadata": {},
   "outputs": [
    {
     "data": {
      "text/plain": [
       "week\n",
       "1   2013-01-01 00:00:00\n",
       "2   2013-01-07 00:00:29\n",
       "3   2013-01-14 00:00:00\n",
       "Name: pickup_datetime, dtype: datetime64[ns]"
      ]
     },
     "execution_count": 23,
     "metadata": {},
     "output_type": "execute_result"
    }
   ],
   "source": [
    "x = weekly.pickup_datetime.min() # for each weekly group --> take the min date and time --> Hence 1st route\n",
    "x[:3]"
   ]
  },
  {
   "cell_type": "markdown",
   "id": "628c1ebc",
   "metadata": {},
   "source": [
    "We can see from the above data that the 1st week of 2013 had only 6 days instead of 7. Hence 1/01/2013 was a Tuesday"
   ]
  },
  {
   "cell_type": "code",
   "execution_count": 27,
   "id": "ebcf650a",
   "metadata": {},
   "outputs": [
    {
     "data": {
      "text/plain": [
       "'Tuesday'"
      ]
     },
     "execution_count": 27,
     "metadata": {},
     "output_type": "execute_result"
    }
   ],
   "source": [
    "# This can be shown by using loc\n",
    "x.loc[1].day_name()"
   ]
  },
  {
   "cell_type": "code",
   "execution_count": 28,
   "id": "331ed916",
   "metadata": {},
   "outputs": [
    {
     "data": {
      "image/png": "[encoded data removed]",
      "text/plain": [
       "<Figure size 720x576 with 1 Axes>"
      ]
     },
     "metadata": {
      "needs_background": "light"
     },
     "output_type": "display_data"
    }
   ],
   "source": [
    "# Display the new diagram with the new data\n",
    "pd.Series(y.values, index=x).plot(figsize=(10, 8))\n",
    "plt.grid()"
   ]
  },
  {
   "cell_type": "markdown",
   "id": "251b8230",
   "metadata": {},
   "source": [
    " We have seen which month has the most routes\n",
    " Lets find out which day in weeks has the most routes"
   ]
  },
  {
   "cell_type": "code",
   "execution_count": 29,
   "id": "c0228fee",
   "metadata": {},
   "outputs": [
    {
     "data": {
      "text/plain": [
       "7"
      ]
     },
     "execution_count": 29,
     "metadata": {},
     "output_type": "execute_result"
    }
   ],
   "source": [
    "dayofweek_rides = taxis.groupby(taxis.pickup_datetime.dt.dayofweek) # use group by and dt.dayofweek\n",
    "len(dayofweek_rides)"
   ]
  },
  {
   "cell_type": "code",
   "execution_count": 32,
   "id": "94fc4fbe",
   "metadata": {},
   "outputs": [
    {
     "data": {
      "text/plain": [
       "pickup_datetime\n",
       "0    224342\n",
       "1    246768\n",
       "2    249750\n",
       "3    255900\n",
       "4    263773\n",
       "5    262127\n",
       "6    229137\n",
       "dtype: int64"
      ]
     },
     "execution_count": 32,
     "metadata": {},
     "output_type": "execute_result"
    }
   ],
   "source": [
    "day_of_week_rides_num = dayofweek_rides.size()\n",
    "day_of_week_rides_num\n",
    "# 0 --> Monday"
   ]
  },
  {
   "cell_type": "code",
   "execution_count": 33,
   "id": "d73982ed",
   "metadata": {},
   "outputs": [
    {
     "data": {
      "image/png": "[encoded data removed]",
      "text/plain": [
       "<Figure size 720x576 with 1 Axes>"
      ]
     },
     "metadata": {
      "needs_background": "light"
     },
     "output_type": "display_data"
    }
   ],
   "source": [
    "# Display data on a bar plot\n",
    "day_of_week_rides_num.plot(kind='bar', figsize=(10, 8))\n",
    "plt.gca().set_xticklabels(['Monday', 'Tuesday', 'Wednesday', 'Thursday', 'Friday', 'Saturday', 'Sunday']) # set 0,1,.. to Monday,Tuesday..\n",
    "plt.grid()"
   ]
  },
  {
   "cell_type": "code",
   "execution_count": 34,
   "id": "73d1e5a0",
   "metadata": {},
   "outputs": [
    {
     "data": {
      "text/plain": [
       "24"
      ]
     },
     "execution_count": 34,
     "metadata": {},
     "output_type": "execute_result"
    }
   ],
   "source": [
    "# Hour depending\n",
    "hourly_rides = taxis.groupby(taxis.pickup_datetime.dt.hour)\n",
    "len(hourly_rides)"
   ]
  },
  {
   "cell_type": "code",
   "execution_count": 35,
   "id": "cc5cd316",
   "metadata": {},
   "outputs": [
    {
     "data": {
      "text/plain": [
       "pickup_datetime\n",
       "0      69279\n",
       "1      50967\n",
       "2      38098\n",
       "3      27537\n",
       "4      20058\n",
       "5      17475\n",
       "6      35918\n",
       "7      62327\n",
       "8      77968\n",
       "9      80253\n",
       "10     78149\n",
       "11     80642\n",
       "12     85324\n",
       "13     84133\n",
       "14     86588\n",
       "15     83057\n",
       "16     69029\n",
       "17     83954\n",
       "18    104198\n",
       "19    108802\n",
       "20    103391\n",
       "21    100562\n",
       "22     97859\n",
       "23     86229\n",
       "dtype: int64"
      ]
     },
     "execution_count": 35,
     "metadata": {},
     "output_type": "execute_result"
    }
   ],
   "source": [
    "hourly_rides_num = hourly_rides.size()\n",
    "hourly_rides_num"
   ]
  },
  {
   "cell_type": "code",
   "execution_count": 36,
   "id": "ae9bcd19",
   "metadata": {},
   "outputs": [
    {
     "data": {
      "image/png": "[encoded data removed]",
      "text/plain": [
       "<Figure size 720x576 with 1 Axes>"
      ]
     },
     "metadata": {
      "needs_background": "light"
     },
     "output_type": "display_data"
    }
   ],
   "source": [
    "# Plotting a bar plot\n",
    "hourly_rides_num.plot.bar(figsize=(10, 8))\n",
    "plt.grid()"
   ]
  },
  {
   "cell_type": "markdown",
   "id": "16e440bc",
   "metadata": {},
   "source": [
    "Hence in the city that Never Sleeps , we can see from the above data that at 5 the taxi has less the routes\n",
    "Whereas on Monday the routes are at their max"
   ]
  }
 ],
 "metadata": {
  "kernelspec": {
   "display_name": "Python 3 (ipykernel)",
   "language": "python",
   "name": "python3"
  },
  "language_info": {
   "codemirror_mode": {
    "name": "ipython",
    "version": 3
   },
   "file_extension": ".py",
   "mimetype": "text/x-python",
   "name": "python",
   "nbconvert_exporter": "python",
   "pygments_lexer": "ipython3",
   "version": "3.9.7"
  }
 },
 "nbformat": 4,
 "nbformat_minor": 5
}
