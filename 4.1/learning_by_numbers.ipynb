{
 "cells": [
  {
   "cell_type": "markdown",
   "id": "76177ff3",
   "metadata": {},
   "source": [
    "The basic machine learning libray in Python is Scikit-learn\n",
    "\n",
    "In this example we are going to create a sorting algorithm from handwritten digits\n"
   ]
  },
  {
   "cell_type": "code",
   "execution_count": 27,
   "id": "7f5e8c15",
   "metadata": {},
   "outputs": [
    {
     "name": "stdout",
     "output_type": "stream",
     "text": [
      "(1797, 64)\n"
     ]
    },
    {
     "data": {
      "text/plain": [
       "array([[ 0.,  0.,  5., ...,  0.,  0.,  0.],\n",
       "       [ 0.,  0.,  0., ..., 10.,  0.,  0.],\n",
       "       [ 0.,  0.,  0., ..., 16.,  9.,  0.],\n",
       "       ...,\n",
       "       [ 0.,  0.,  1., ...,  6.,  0.,  0.],\n",
       "       [ 0.,  0.,  2., ..., 12.,  0.,  0.],\n",
       "       [ 0.,  0., 10., ..., 12.,  1.,  0.]])"
      ]
     },
     "execution_count": 27,
     "metadata": {},
     "output_type": "execute_result"
    }
   ],
   "source": [
    "# Importing a database already present in scikit-learn\n",
    "from sklearn import datasets\n",
    "\n",
    "digits = datasets.load_digits()\n",
    "\n",
    "print(digits.data.shape)\n",
    "digits.data "
   ]
  },
  {
   "cell_type": "code",
   "execution_count": 28,
   "id": "16521d1d",
   "metadata": {},
   "outputs": [
    {
     "data": {
      "text/plain": [
       "array([0, 1, 2, ..., 8, 9, 8])"
      ]
     },
     "execution_count": 28,
     "metadata": {},
     "output_type": "execute_result"
    }
   ],
   "source": [
    "digits.target # solutions for each observation"
   ]
  },
  {
   "cell_type": "markdown",
   "id": "f249d2dc",
   "metadata": {},
   "source": [
    "Why do we have 64 ?"
   ]
  },
  {
   "cell_type": "code",
   "execution_count": 29,
   "id": "a00fbe3b",
   "metadata": {},
   "outputs": [
    {
     "name": "stdout",
     "output_type": "stream",
     "text": [
      "(1797, 8, 8)\n"
     ]
    },
    {
     "data": {
      "text/plain": [
       "array([[ 0.,  0.,  5., 13.,  9.,  1.,  0.,  0.],\n",
       "       [ 0.,  0., 13., 15., 10., 15.,  5.,  0.],\n",
       "       [ 0.,  3., 15.,  2.,  0., 11.,  8.,  0.],\n",
       "       [ 0.,  4., 12.,  0.,  0.,  8.,  8.,  0.],\n",
       "       [ 0.,  5.,  8.,  0.,  0.,  9.,  8.,  0.],\n",
       "       [ 0.,  4., 11.,  0.,  1., 12.,  7.,  0.],\n",
       "       [ 0.,  2., 14.,  5., 10., 12.,  0.,  0.],\n",
       "       [ 0.,  0.,  6., 13., 10.,  0.,  0.,  0.]])"
      ]
     },
     "execution_count": 29,
     "metadata": {},
     "output_type": "execute_result"
    }
   ],
   "source": [
    "# We have a table 8 rows and 8 columns\n",
    "print(digits.images.shape)\n",
    "digits.images[0]"
   ]
  },
  {
   "cell_type": "code",
   "execution_count": 30,
   "id": "ff601a5b",
   "metadata": {},
   "outputs": [
    {
     "data": {
      "text/plain": [
       "<matplotlib.image.AxesImage at 0x2710bcb24c0>"
      ]
     },
     "execution_count": 30,
     "metadata": {},
     "output_type": "execute_result"
    },
    {
     "data": {
      "image/png": "[encoded data removed]",
      "text/plain": [
       "<Figure size 640x480 with 1 Axes>"
      ]
     },
     "metadata": {},
     "output_type": "display_data"
    }
   ],
   "source": [
    "# Those data correspond to grey color variations\n",
    "# Shown using matplotlib\n",
    "\n",
    "import matplotlib.pyplot as plt\n",
    "\n",
    "plt.style.use('default')\n",
    "plt.grid()\n",
    "plt.imshow(digits.images[0], cmap=plt.cm.gray_r, interpolation='nearest', extent=(0, 8, 0, 8))"
   ]
  },
  {
   "cell_type": "markdown",
   "id": "59ed12d0",
   "metadata": {},
   "source": [
    "For us the above image shows the number 0\n",
    "\n",
    "For the computer this does not mean anything thats why we have a matrix\n",
    "\n",
    "In our case we have 10 diffrent cases - one for each digit ; Hence multiple classes"
   ]
  },
  {
   "cell_type": "markdown",
   "id": "b1afbc7c",
   "metadata": {},
   "source": [
    "2 ways of multi-class classification\n",
    "\n",
    "1) (One-versus-One, OvO)\n",
    "\n",
    "2) (One-versus-All, OvA ή One-versus-Rest, OvR)\n",
    "\n",
    "For oVo --> (K 2)=K(K−1)/2 ( choose in statistics )\n",
    "\n",
    "Each one of them can correspond to 2 classes\n",
    "\n",
    "We measure the outcome of each classification for each class\n",
    "\n",
    "The most frequent class is the correct one\n",
    "\n",
    "see video for example\n",
    "\n",
    "For OvR --> for K classes we create k classifications\n",
    "\n",
    "We select the class that corresponds better \n",
    "\n",
    "see video for example"
   ]
  },
  {
   "cell_type": "code",
   "execution_count": 31,
   "id": "7aa7f93b",
   "metadata": {},
   "outputs": [],
   "source": [
    "# Creating a classifier\n",
    "from sklearn import svm\n",
    "\n",
    "clf = svm.SVC(gamma=0.001, C=100.)"
   ]
  },
  {
   "cell_type": "code",
   "execution_count": 32,
   "id": "69e9be99",
   "metadata": {},
   "outputs": [
    {
     "data": {
      "text/plain": [
       "SVC(C=100.0, gamma=0.001)"
      ]
     },
     "execution_count": 32,
     "metadata": {},
     "output_type": "execute_result"
    }
   ],
   "source": [
    "# Using fit for training\n",
    "clf.fit(digits.data[:-1], digits.target[:-1]) "
   ]
  },
  {
   "cell_type": "code",
   "execution_count": 33,
   "id": "f671b487",
   "metadata": {},
   "outputs": [
    {
     "data": {
      "text/plain": [
       "array([8])"
      ]
     },
     "execution_count": 33,
     "metadata": {},
     "output_type": "execute_result"
    }
   ],
   "source": [
    "# Try the algorithm to check if able to predict digits\n",
    "clf.predict(digits.data[-1:])"
   ]
  },
  {
   "cell_type": "code",
   "execution_count": 34,
   "id": "e1d6b40e",
   "metadata": {},
   "outputs": [
    {
     "data": {
      "image/png": "[encoded data removed]",
      "text/plain": [
       "<Figure size 640x480 with 1 Axes>"
      ]
     },
     "metadata": {},
     "output_type": "display_data"
    }
   ],
   "source": [
    "plt.imshow(digits.images[-1], cmap=plt.cm.gray_r, \n",
    "           interpolation='nearest', extent=(0, 8, 0, 8))\n",
    "plt.grid()\n",
    "_ = plt.title(f'Predicted: {clf.predict(digits.data[-1:])[0]}\\nTarget: {digits.target[-1]}')"
   ]
  },
  {
   "cell_type": "markdown",
   "id": "18560948",
   "metadata": {},
   "source": [
    "In summary\n",
    "\n",
    "S1) CREATE OUR CLASSIFIER\n",
    "\n",
    "S2) FIT\n",
    "\n",
    "S3) PREDICT"
   ]
  },
  {
   "cell_type": "code",
   "execution_count": 35,
   "id": "06412936",
   "metadata": {},
   "outputs": [
    {
     "data": {
      "image/png": "[encoded data removed]",
      "text/plain": [
       "<Figure size 1500x300 with 20 Axes>"
      ]
     },
     "metadata": {},
     "output_type": "display_data"
    }
   ],
   "source": [
    "plt.figure(figsize=(10*1.5, 2*1.5))\n",
    "images_and_labels = list(zip(digits.images, digits.target))\n",
    "nrows, ncols = 2, 10\n",
    "for index, (image, label) in enumerate(images_and_labels[:20]):\n",
    "    plt.subplot(nrows, ncols, index+1)\n",
    "    plt.axis('off')\n",
    "    plt.imshow(image, cmap=plt.cm.gray_r, interpolation='nearest')\n",
    "    plt.title(f'label: {label}')\n",
    "plt.subplots_adjust(hspace=0.5)"
   ]
  },
  {
   "cell_type": "code",
   "execution_count": 36,
   "id": "a225f98c",
   "metadata": {},
   "outputs": [],
   "source": [
    "# Creating a new classifier ( more lineant one)\n",
    "\n",
    "classifier = svm.SVC(gamma=0.001)"
   ]
  },
  {
   "cell_type": "code",
   "execution_count": 37,
   "id": "41f4b3cf",
   "metadata": {},
   "outputs": [
    {
     "data": {
      "text/plain": [
       "SVC(gamma=0.001)"
      ]
     },
     "execution_count": 37,
     "metadata": {},
     "output_type": "execute_result"
    }
   ],
   "source": [
    "# Using half digits for training\n",
    "half_samples = len(digits.images) // 2\n",
    "\n",
    "classifier.fit(digits.data[:half_samples], digits.target[:half_samples])"
   ]
  },
  {
   "cell_type": "code",
   "execution_count": 38,
   "id": "aa6715be",
   "metadata": {},
   "outputs": [],
   "source": [
    "# Other half for learning\n",
    "expected = digits.target[half_samples:]\n",
    "predicted = classifier.predict(digits.data[half_samples:])"
   ]
  },
  {
   "cell_type": "code",
   "execution_count": 39,
   "id": "f615669a",
   "metadata": {},
   "outputs": [
    {
     "data": {
      "image/png": "[encoded data removed]",
      "text/plain": [
       "<Figure size 1500x300 with 20 Axes>"
      ]
     },
     "metadata": {},
     "output_type": "display_data"
    }
   ],
   "source": [
    "plt.figure(figsize=(10*1.5, 2*1.5))\n",
    "images_predictions_targets = list(zip(digits.images[half_samples:], predicted, expected))\n",
    "for index, (image, prediction, target) in enumerate(images_predictions_targets[:20]):\n",
    "    plt.subplot(nrows, ncols, index + 1)\n",
    "    plt.axis('off')\n",
    "    plt.imshow(image, cmap=plt.cm.gray_r, interpolation='nearest')\n",
    "    plt.title(f'Prediction: {prediction}\\nTarget: {target}')\n",
    "plt.subplots_adjust(hspace=1)"
   ]
  },
  {
   "cell_type": "code",
   "execution_count": 40,
   "id": "95b0639a",
   "metadata": {},
   "outputs": [
    {
     "name": "stdout",
     "output_type": "stream",
     "text": [
      "Classification report for classifier SVC(gamma=0.001):\n",
      "              precision    recall  f1-score   support\n",
      "\n",
      "           0       1.00      0.99      0.99        88\n",
      "           1       0.99      0.97      0.98        91\n",
      "           2       0.99      0.99      0.99        86\n",
      "           3       0.98      0.87      0.92        91\n",
      "           4       0.99      0.96      0.97        92\n",
      "           5       0.95      0.97      0.96        91\n",
      "           6       0.99      0.99      0.99        91\n",
      "           7       0.96      0.99      0.97        89\n",
      "           8       0.94      1.00      0.97        88\n",
      "           9       0.93      0.98      0.95        92\n",
      "\n",
      "    accuracy                           0.97       899\n",
      "   macro avg       0.97      0.97      0.97       899\n",
      "weighted avg       0.97      0.97      0.97       899\n",
      "\n",
      "\n"
     ]
    }
   ],
   "source": [
    "# Checking if our predictions are correct\n",
    "\n",
    "from sklearn import metrics\n",
    "\n",
    "print(\"Classification report for classifier %s:\\n%s\\n\"\n",
    "      % (classifier, metrics.classification_report(expected, predicted)))"
   ]
  },
  {
   "cell_type": "markdown",
   "id": "f196d47d",
   "metadata": {},
   "source": [
    "In summary\n",
    "\n",
    "S1) CREATE OUR CLASSIFIER\n",
    "\n",
    "S2) FIT\n",
    "\n",
    "S3) PREDICT\n",
    "\n",
    "S4) CLASSIFICATION REPORT"
   ]
  },
  {
   "cell_type": "markdown",
   "id": "01a9fb4e",
   "metadata": {},
   "source": [
    "Lets us take one by one the data in the table\n",
    "\n",
    "Support is the number of tests in each class"
   ]
  },
  {
   "cell_type": "markdown",
   "id": "18da2c10",
   "metadata": {},
   "source": [
    "\n",
    "    TP, True Positive, Αληθώς Θετικά\n",
    "    TN, True Negative, Αληθώς Αρνητικά\n",
    "    FP, False Positive, Ψευδώς Θετικά\n",
    "    FN, False Negative, Ψευδώς Αρνητικά\n",
    "    P, Positive, όλα τα θετικά στον πληθυσμό\n",
    "    N, Negative, όλα τα αρνητικά τον πληθυσμό\n",
    "    \n",
    "    \n",
    "Accuracy is the percentage of correct observations(test)\n",
    "\n",
    "TP+TN / Sample Size\n",
    "\n",
    "Using accuracy score\n",
    "\n",
    "accuracy_score()"
   ]
  },
  {
   "cell_type": "code",
   "execution_count": 41,
   "id": "77278259",
   "metadata": {},
   "outputs": [
    {
     "data": {
      "text/plain": [
       "0.9688542825361512"
      ]
     },
     "execution_count": 41,
     "metadata": {},
     "output_type": "execute_result"
    }
   ],
   "source": [
    "metrics.accuracy_score(expected, predicted)"
   ]
  },
  {
   "cell_type": "code",
   "execution_count": 42,
   "id": "90507b1b",
   "metadata": {},
   "outputs": [
    {
     "name": "stdout",
     "output_type": "stream",
     "text": [
      "              precision    recall  f1-score   support\n",
      "\n",
      "           0       1.00      0.99      0.99        88\n",
      "           1       0.99      0.97      0.98        91\n",
      "           2       0.99      0.99      0.99        86\n",
      "           3       0.98      0.87      0.92        91\n",
      "           4       0.99      0.96      0.97        92\n",
      "           5       0.95      0.97      0.96        91\n",
      "           6       0.99      0.99      0.99        91\n",
      "           7       0.96      0.99      0.97        89\n",
      "           8       0.94      1.00      0.97        88\n",
      "           9       0.93      0.98      0.95        92\n",
      "\n",
      "    accuracy                           0.97       899\n",
      "   macro avg       0.97      0.97      0.97       899\n",
      "weighted avg       0.97      0.97      0.97       899\n",
      "\n"
     ]
    }
   ],
   "source": [
    "print(metrics.classification_report(expected, predicted))"
   ]
  },
  {
   "cell_type": "markdown",
   "id": "34c67a95",
   "metadata": {},
   "source": [
    " 97% accuracy\n",
    " \n",
    " Having more data will result to more accuracy"
   ]
  },
  {
   "cell_type": "markdown",
   "id": "ef25717f",
   "metadata": {},
   "source": [
    "Precision:\n",
    "\n",
    "This gives us the percentage of true positive with respect to alla positive predictions\n",
    "\n",
    "TP/TP+FP=TP/All Positive Predictions\n",
    "\n",
    "Using precision_score()\n",
    "\n",
    "If we have sorted class we need to define average as None"
   ]
  },
  {
   "cell_type": "code",
   "execution_count": 43,
   "id": "fee4eed2",
   "metadata": {},
   "outputs": [
    {
     "data": {
      "text/plain": [
       "array([1.        , 0.98876404, 0.98837209, 0.97530864, 0.98876404,\n",
       "       0.94623656, 0.98901099, 0.95652174, 0.93617021, 0.92783505])"
      ]
     },
     "execution_count": 43,
     "metadata": {},
     "output_type": "execute_result"
    }
   ],
   "source": [
    "metrics.precision_score(expected, predicted, average=None)"
   ]
  },
  {
   "cell_type": "code",
   "execution_count": 44,
   "id": "20e178d7",
   "metadata": {},
   "outputs": [
    {
     "data": {
      "text/plain": [
       "0.9696983376479764"
      ]
     },
     "execution_count": 44,
     "metadata": {},
     "output_type": "execute_result"
    }
   ],
   "source": [
    "metrics.precision_score(expected, predicted, average='macro') # Average"
   ]
  },
  {
   "cell_type": "code",
   "execution_count": 45,
   "id": "b90be8fb",
   "metadata": {},
   "outputs": [
    {
     "data": {
      "text/plain": [
       "0.9696092010839529"
      ]
     },
     "execution_count": 45,
     "metadata": {},
     "output_type": "execute_result"
    }
   ],
   "source": [
    "metrics.precision_score(expected, predicted, average='weighted') # Weighted Average"
   ]
  },
  {
   "cell_type": "markdown",
   "id": "1f7b1bf2",
   "metadata": {},
   "source": [
    "This can be useful if we our data are imbalanced between classes"
   ]
  },
  {
   "cell_type": "code",
   "execution_count": 46,
   "id": "c4421b20",
   "metadata": {},
   "outputs": [
    {
     "name": "stdout",
     "output_type": "stream",
     "text": [
      "              precision    recall  f1-score   support\n",
      "\n",
      "           0       1.00      0.99      0.99        88\n",
      "           1       0.99      0.97      0.98        91\n",
      "           2       0.99      0.99      0.99        86\n",
      "           3       0.98      0.87      0.92        91\n",
      "           4       0.99      0.96      0.97        92\n",
      "           5       0.95      0.97      0.96        91\n",
      "           6       0.99      0.99      0.99        91\n",
      "           7       0.96      0.99      0.97        89\n",
      "           8       0.94      1.00      0.97        88\n",
      "           9       0.93      0.98      0.95        92\n",
      "\n",
      "    accuracy                           0.97       899\n",
      "   macro avg       0.97      0.97      0.97       899\n",
      "weighted avg       0.97      0.97      0.97       899\n",
      "\n"
     ]
    }
   ],
   "source": [
    "print(metrics.classification_report(expected, predicted))"
   ]
  },
  {
   "cell_type": "markdown",
   "id": "0aac88af",
   "metadata": {},
   "source": [
    "Recall:\n",
    "\n",
    "Gives us the percentage of true positive with respect to all the postive which we should have predicted\n",
    "\n",
    "TP      TP\n",
    "TP+FN = P\n",
    " \n",
    "Using \n",
    "\n",
    "recall_score() with the corresponding precision_score() parameter"
   ]
  },
  {
   "cell_type": "code",
   "execution_count": 47,
   "id": "7795e95f",
   "metadata": {},
   "outputs": [
    {
     "name": "stdout",
     "output_type": "stream",
     "text": [
      "[0.98863636 0.96703297 0.98837209 0.86813187 0.95652174 0.96703297\n",
      " 0.98901099 0.98876404 1.         0.97826087]\n",
      "0.9691763901507882\n",
      "0.9688542825361512\n"
     ]
    }
   ],
   "source": [
    "print(metrics.recall_score(expected, predicted, average=None))\n",
    "print(metrics.recall_score(expected, predicted, average='macro'))\n",
    "print(metrics.recall_score(expected, predicted, average='weighted'))"
   ]
  },
  {
   "cell_type": "code",
   "execution_count": 48,
   "id": "4f6c8db9",
   "metadata": {},
   "outputs": [
    {
     "name": "stdout",
     "output_type": "stream",
     "text": [
      "              precision    recall  f1-score   support\n",
      "\n",
      "           0       1.00      0.99      0.99        88\n",
      "           1       0.99      0.97      0.98        91\n",
      "           2       0.99      0.99      0.99        86\n",
      "           3       0.98      0.87      0.92        91\n",
      "           4       0.99      0.96      0.97        92\n",
      "           5       0.95      0.97      0.96        91\n",
      "           6       0.99      0.99      0.99        91\n",
      "           7       0.96      0.99      0.97        89\n",
      "           8       0.94      1.00      0.97        88\n",
      "           9       0.93      0.98      0.95        92\n",
      "\n",
      "    accuracy                           0.97       899\n",
      "   macro avg       0.97      0.97      0.97       899\n",
      "weighted avg       0.97      0.97      0.97       899\n",
      "\n"
     ]
    }
   ],
   "source": [
    "print(metrics.classification_report(expected, predicted))"
   ]
  },
  {
   "cell_type": "markdown",
   "id": "a05e7f27",
   "metadata": {},
   "source": [
    "Why are those useful\n",
    "\n",
    "For exmaple imagine that our data are seperated into 2 classes (positive and negative) and 99.99% are negative and 0.01% are positive\n",
    "\n",
    "Then the classifier -> does not know any better that not saying all the time no , it will have 99.99% accuracy ==> Hence useless since he will say everytime negative\n",
    "\n",
    "Such a classifier will have a TP = 0 hence accuracy and precison will be 0\n",
    "\n",
    "But accuracy and precision do not measure the same thing\n",
    "\n",
    "Example:\n",
    "\n",
    "Using machine learning to identify potential terorist in airports\n",
    "\n",
    "\"\n",
    "Ένας τέτοιος ταξινομητής όμως θα είχε TP=0\n",
    "\n",
    ", άρα θα είχε ακρίβεια και ανάκληση μηδέν.\n",
    "\n",
    "Από την άλλη, η ακρίβεια και η ανάκληση μετρούν διαφορετικά πράγματα.\n",
    "\n",
    "Αν φτιάξουμε έναν πολύ αυστηρό ταξινομητή που εντοπίζει μόνο ένα ορθώς θετικό δείγμα, η ακρίβεια θα είναι 100% γιατί TP=1\n",
    "και FP=0\n",
    "\n",
    ", αλλά η ανάκληση θα είναι αβυσσαλέα.\n",
    "\n",
    "Αν φτιάξουμε έναν πολύ επιεική ταξινομητή που τα βγάζει όλα θετικά, η ανάκληση θα είναι 100% γιατί FN=0\n",
    ", αλλά η ακρίβεια θα είναι αβυσσαλέα.\n",
    "\""
   ]
  },
  {
   "cell_type": "markdown",
   "id": "eb4a77f5",
   "metadata": {},
   "source": [
    "F-1 in the table:\n",
    "\n",
    "Combines acuracy and precision\n",
    "\n",
    "In mathematics we call int harmonic mean == n / (∑1/x_i)\n",
    "\n",
    "F1=2⋅(1 / 1/precision+ 1/recall)=2⋅precision⋅recall / precision+recall\n",
    "\n",
    "Note:\n",
    "\n",
    "We are using F1 instead of a normal average because F1 takes into account the outliers\n"
   ]
  },
  {
   "cell_type": "code",
   "execution_count": 49,
   "id": "16b78914",
   "metadata": {},
   "outputs": [
    {
     "name": "stdout",
     "output_type": "stream",
     "text": [
      "Confusion matrix:\n",
      "[[87  0  0  0  1  0  0  0  0  0]\n",
      " [ 0 88  1  0  0  0  0  0  1  1]\n",
      " [ 0  0 85  1  0  0  0  0  0  0]\n",
      " [ 0  0  0 79  0  3  0  4  5  0]\n",
      " [ 0  0  0  0 88  0  0  0  0  4]\n",
      " [ 0  0  0  0  0 88  1  0  0  2]\n",
      " [ 0  1  0  0  0  0 90  0  0  0]\n",
      " [ 0  0  0  0  0  1  0 88  0  0]\n",
      " [ 0  0  0  0  0  0  0  0 88  0]\n",
      " [ 0  0  0  1  0  1  0  0  0 90]]\n"
     ]
    }
   ],
   "source": [
    "print(\"Confusion matrix:\\n%s\" % metrics.confusion_matrix(expected, predicted))"
   ]
  },
  {
   "cell_type": "markdown",
   "id": "2c14b3c4",
   "metadata": {},
   "source": [
    "In the first row we can see that from the data given corresponds to the digit 0\n",
    "\n",
    "87 were succesfull but 1 of them was understood as digit 4\n",
    "\n",
    "and so on..."
   ]
  },
  {
   "cell_type": "code",
   "execution_count": 67,
   "id": "d9aa05c9",
   "metadata": {},
   "outputs": [
    {
     "ename": "AttributeError",
     "evalue": "type object 'ConfusionMatrixDisplay' has no attribute 'from_estimator'",
     "output_type": "error",
     "traceback": [
      "\u001b[1;31m---------------------------------------------------------------------------\u001b[0m",
      "\u001b[1;31mAttributeError\u001b[0m                            Traceback (most recent call last)",
      "\u001b[1;32m~\\AppData\\Local\\Temp/ipykernel_21564/926040079.py\u001b[0m in \u001b[0;36m<module>\u001b[1;34m\u001b[0m\n\u001b[1;32m----> 1\u001b[1;33m _ = metrics.ConfusionMatrixDisplay.from_estimator(classifier,\n\u001b[0m\u001b[0;32m      2\u001b[0m                                                   \u001b[0mdigits\u001b[0m\u001b[1;33m.\u001b[0m\u001b[0mdata\u001b[0m\u001b[1;33m[\u001b[0m\u001b[0mhalf_samples\u001b[0m\u001b[1;33m:\u001b[0m\u001b[1;33m]\u001b[0m\u001b[1;33m,\u001b[0m\u001b[1;33m\u001b[0m\u001b[1;33m\u001b[0m\u001b[0m\n\u001b[0;32m      3\u001b[0m                                                   digits.target[half_samples:])\n",
      "\u001b[1;31mAttributeError\u001b[0m: type object 'ConfusionMatrixDisplay' has no attribute 'from_estimator'"
     ]
    }
   ],
   "source": [
    "_ = metrics.ConfusionMatrixDisplay.from_estimator(classifier,\n",
    "                                                  digits.data[half_samples:], \n",
    "                                                  digits.target[half_samples:])"
   ]
  },
  {
   "cell_type": "markdown",
   "id": "94af7e0d",
   "metadata": {},
   "source": [
    "\n",
    "\n",
    "    Προσέξτε κάτι: και στην στατιστική μπορούμε (όπως είδαμε) να προβλέψουμε τιμές με βάση τα δεδομένα μας.\n",
    "\n",
    "    Στην στατιστική ο σκοπός μας όμως είναι άλλος: να εξηγήσουμε τα δεδομένα μας, φτιάχνοντας ένα μοντέλο.\n",
    "\n",
    "    Το μοντέλο το αποτιμούμε χρησιμοποιώντας στατιστικούς ελέγχους.\n",
    "\n",
    "    Στη Μηχανική Μάθηση, ο σκοπός μας δεν είναι να εξηγήσουμε τα δεδομένα μας. Είναι να τα χρησιμοποιήσουμε για να κάνουμε προβλέψεις.\n",
    "\n",
    "    Εξού και οι μετρικές που χρησιμοποιούμε για την αξιολόγηση των αποτελεσμάτων μας.\n",
    "\n"
   ]
  }
 ],
 "metadata": {
  "kernelspec": {
   "display_name": "Python 3 (ipykernel)",
   "language": "python",
   "name": "python3"
  },
  "language_info": {
   "codemirror_mode": {
    "name": "ipython",
    "version": 3
   },
   "file_extension": ".py",
   "mimetype": "text/x-python",
   "name": "python",
   "nbconvert_exporter": "python",
   "pygments_lexer": "ipython3",
   "version": "3.9.7"
  }
 },
 "nbformat": 4,
 "nbformat_minor": 5
}
