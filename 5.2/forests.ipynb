{
 "cells": [
  {
   "cell_type": "markdown",
   "id": "b8da86c8",
   "metadata": {},
   "source": [
    "We can increase the results in the Machine Leanring , by using more models\n",
    "\n",
    "The basic idea is called wisdom of crowds\n",
    "\n",
    "The idea is that the prediction of the crowd is sometimes better than the predicition of a empirognomona\n",
    "\n",
    "Usually we have a collection of data we train fit and predict 1 model\n",
    "\n",
    "How will we be able to create more models?\n",
    "\n",
    "We use a statistical technique called bootstrap\n",
    "\n",
    "Bootstrapping is sampling with replacement from observed data to estimate the variability in a statistic of interest"
   ]
  },
  {
   "cell_type": "code",
   "execution_count": 1,
   "id": "f07e8216",
   "metadata": {},
   "outputs": [
    {
     "data": {
      "text/html": [
       "<div>\n",
       "<style scoped>\n",
       "    .dataframe tbody tr th:only-of-type {\n",
       "        vertical-align: middle;\n",
       "    }\n",
       "\n",
       "    .dataframe tbody tr th {\n",
       "        vertical-align: top;\n",
       "    }\n",
       "\n",
       "    .dataframe thead th {\n",
       "        text-align: right;\n",
       "    }\n",
       "</style>\n",
       "<table border=\"1\" class=\"dataframe\">\n",
       "  <thead>\n",
       "    <tr style=\"text-align: right;\">\n",
       "      <th></th>\n",
       "      <th>MedInc</th>\n",
       "      <th>HouseAge</th>\n",
       "      <th>AveRooms</th>\n",
       "      <th>AveBedrms</th>\n",
       "      <th>Population</th>\n",
       "      <th>AveOccup</th>\n",
       "      <th>Latitude</th>\n",
       "      <th>Longitude</th>\n",
       "    </tr>\n",
       "  </thead>\n",
       "  <tbody>\n",
       "    <tr>\n",
       "      <th>0</th>\n",
       "      <td>8.3252</td>\n",
       "      <td>41.0</td>\n",
       "      <td>6.984127</td>\n",
       "      <td>1.023810</td>\n",
       "      <td>322.0</td>\n",
       "      <td>2.555556</td>\n",
       "      <td>37.88</td>\n",
       "      <td>-122.23</td>\n",
       "    </tr>\n",
       "    <tr>\n",
       "      <th>1</th>\n",
       "      <td>8.3014</td>\n",
       "      <td>21.0</td>\n",
       "      <td>6.238137</td>\n",
       "      <td>0.971880</td>\n",
       "      <td>2401.0</td>\n",
       "      <td>2.109842</td>\n",
       "      <td>37.86</td>\n",
       "      <td>-122.22</td>\n",
       "    </tr>\n",
       "    <tr>\n",
       "      <th>2</th>\n",
       "      <td>7.2574</td>\n",
       "      <td>52.0</td>\n",
       "      <td>8.288136</td>\n",
       "      <td>1.073446</td>\n",
       "      <td>496.0</td>\n",
       "      <td>2.802260</td>\n",
       "      <td>37.85</td>\n",
       "      <td>-122.24</td>\n",
       "    </tr>\n",
       "    <tr>\n",
       "      <th>3</th>\n",
       "      <td>5.6431</td>\n",
       "      <td>52.0</td>\n",
       "      <td>5.817352</td>\n",
       "      <td>1.073059</td>\n",
       "      <td>558.0</td>\n",
       "      <td>2.547945</td>\n",
       "      <td>37.85</td>\n",
       "      <td>-122.25</td>\n",
       "    </tr>\n",
       "    <tr>\n",
       "      <th>4</th>\n",
       "      <td>3.8462</td>\n",
       "      <td>52.0</td>\n",
       "      <td>6.281853</td>\n",
       "      <td>1.081081</td>\n",
       "      <td>565.0</td>\n",
       "      <td>2.181467</td>\n",
       "      <td>37.85</td>\n",
       "      <td>-122.25</td>\n",
       "    </tr>\n",
       "    <tr>\n",
       "      <th>...</th>\n",
       "      <td>...</td>\n",
       "      <td>...</td>\n",
       "      <td>...</td>\n",
       "      <td>...</td>\n",
       "      <td>...</td>\n",
       "      <td>...</td>\n",
       "      <td>...</td>\n",
       "      <td>...</td>\n",
       "    </tr>\n",
       "    <tr>\n",
       "      <th>20635</th>\n",
       "      <td>1.5603</td>\n",
       "      <td>25.0</td>\n",
       "      <td>5.045455</td>\n",
       "      <td>1.133333</td>\n",
       "      <td>845.0</td>\n",
       "      <td>2.560606</td>\n",
       "      <td>39.48</td>\n",
       "      <td>-121.09</td>\n",
       "    </tr>\n",
       "    <tr>\n",
       "      <th>20636</th>\n",
       "      <td>2.5568</td>\n",
       "      <td>18.0</td>\n",
       "      <td>6.114035</td>\n",
       "      <td>1.315789</td>\n",
       "      <td>356.0</td>\n",
       "      <td>3.122807</td>\n",
       "      <td>39.49</td>\n",
       "      <td>-121.21</td>\n",
       "    </tr>\n",
       "    <tr>\n",
       "      <th>20637</th>\n",
       "      <td>1.7000</td>\n",
       "      <td>17.0</td>\n",
       "      <td>5.205543</td>\n",
       "      <td>1.120092</td>\n",
       "      <td>1007.0</td>\n",
       "      <td>2.325635</td>\n",
       "      <td>39.43</td>\n",
       "      <td>-121.22</td>\n",
       "    </tr>\n",
       "    <tr>\n",
       "      <th>20638</th>\n",
       "      <td>1.8672</td>\n",
       "      <td>18.0</td>\n",
       "      <td>5.329513</td>\n",
       "      <td>1.171920</td>\n",
       "      <td>741.0</td>\n",
       "      <td>2.123209</td>\n",
       "      <td>39.43</td>\n",
       "      <td>-121.32</td>\n",
       "    </tr>\n",
       "    <tr>\n",
       "      <th>20639</th>\n",
       "      <td>2.3886</td>\n",
       "      <td>16.0</td>\n",
       "      <td>5.254717</td>\n",
       "      <td>1.162264</td>\n",
       "      <td>1387.0</td>\n",
       "      <td>2.616981</td>\n",
       "      <td>39.37</td>\n",
       "      <td>-121.24</td>\n",
       "    </tr>\n",
       "  </tbody>\n",
       "</table>\n",
       "<p>20640 rows × 8 columns</p>\n",
       "</div>"
      ],
      "text/plain": [
       "       MedInc  HouseAge  AveRooms  AveBedrms  Population  AveOccup  Latitude  \\\n",
       "0      8.3252      41.0  6.984127   1.023810       322.0  2.555556     37.88   \n",
       "1      8.3014      21.0  6.238137   0.971880      2401.0  2.109842     37.86   \n",
       "2      7.2574      52.0  8.288136   1.073446       496.0  2.802260     37.85   \n",
       "3      5.6431      52.0  5.817352   1.073059       558.0  2.547945     37.85   \n",
       "4      3.8462      52.0  6.281853   1.081081       565.0  2.181467     37.85   \n",
       "...       ...       ...       ...        ...         ...       ...       ...   \n",
       "20635  1.5603      25.0  5.045455   1.133333       845.0  2.560606     39.48   \n",
       "20636  2.5568      18.0  6.114035   1.315789       356.0  3.122807     39.49   \n",
       "20637  1.7000      17.0  5.205543   1.120092      1007.0  2.325635     39.43   \n",
       "20638  1.8672      18.0  5.329513   1.171920       741.0  2.123209     39.43   \n",
       "20639  2.3886      16.0  5.254717   1.162264      1387.0  2.616981     39.37   \n",
       "\n",
       "       Longitude  \n",
       "0        -122.23  \n",
       "1        -122.22  \n",
       "2        -122.24  \n",
       "3        -122.25  \n",
       "4        -122.25  \n",
       "...          ...  \n",
       "20635    -121.09  \n",
       "20636    -121.21  \n",
       "20637    -121.22  \n",
       "20638    -121.32  \n",
       "20639    -121.24  \n",
       "\n",
       "[20640 rows x 8 columns]"
      ]
     },
     "execution_count": 1,
     "metadata": {},
     "output_type": "execute_result"
    }
   ],
   "source": [
    "# House prices in California\n",
    "from sklearn.datasets import fetch_california_housing\n",
    "\n",
    "cal_housing = fetch_california_housing(as_frame=True)\n",
    "cal_housing.data"
   ]
  },
  {
   "cell_type": "code",
   "execution_count": 2,
   "id": "2501ffc4",
   "metadata": {},
   "outputs": [
    {
     "data": {
      "text/plain": [
       "0        4.526\n",
       "1        3.585\n",
       "2        3.521\n",
       "3        3.413\n",
       "4        3.422\n",
       "         ...  \n",
       "20635    0.781\n",
       "20636    0.771\n",
       "20637    0.923\n",
       "20638    0.847\n",
       "20639    0.894\n",
       "Name: MedHouseVal, Length: 20640, dtype: float64"
      ]
     },
     "execution_count": 2,
     "metadata": {},
     "output_type": "execute_result"
    }
   ],
   "source": [
    "# Target is to predict the price of house\n",
    "cal_housing.target"
   ]
  },
  {
   "cell_type": "code",
   "execution_count": 3,
   "id": "7be3a459",
   "metadata": {},
   "outputs": [
    {
     "data": {
      "text/plain": [
       "count    20640.000000\n",
       "mean         2.068558\n",
       "std          1.153956\n",
       "min          0.149990\n",
       "25%          1.196000\n",
       "50%          1.797000\n",
       "75%          2.647250\n",
       "max          5.000010\n",
       "Name: MedHouseVal, dtype: float64"
      ]
     },
     "execution_count": 3,
     "metadata": {},
     "output_type": "execute_result"
    }
   ],
   "source": [
    "cal_housing.target.describe()"
   ]
  },
  {
   "cell_type": "markdown",
   "id": "b259c05c",
   "metadata": {},
   "source": [
    "We start using a DecisionTreeRegression ; measuring the Mean Absolute Error"
   ]
  },
  {
   "cell_type": "code",
   "execution_count": 4,
   "id": "977dd236",
   "metadata": {},
   "outputs": [
    {
     "name": "stdout",
     "output_type": "stream",
     "text": [
      "0.46104857800387594 0.005524446023212993\n"
     ]
    }
   ],
   "source": [
    "from sklearn.tree import DecisionTreeRegressor\n",
    "from sklearn.model_selection import cross_val_score\n",
    "from sklearn.model_selection import KFold\n",
    "\n",
    "cal_tree = DecisionTreeRegressor()\n",
    "cv_scores = cross_val_score(cal_tree,\n",
    "                            cal_housing.data, \n",
    "                            cal_housing.target, \n",
    "                            cv=KFold(n_splits=5, shuffle=True),\n",
    "                            scoring=\"neg_mean_absolute_error\",\n",
    "                            n_jobs=-1)\n",
    "print(-cv_scores.mean(), cv_scores.std())"
   ]
  },
  {
   "cell_type": "code",
   "execution_count": 5,
   "id": "dfb48166",
   "metadata": {},
   "outputs": [
    {
     "name": "stdout",
     "output_type": "stream",
     "text": [
      "0.3299864216860465 0.0019555379529227683\n"
     ]
    }
   ],
   "source": [
    "# Population of the data more model\n",
    "from sklearn.ensemble import BaggingRegressor\n",
    "\n",
    "bagging_cal_tree = BaggingRegressor(DecisionTreeRegressor(),\n",
    "                                    n_estimators=50, \n",
    "                                    n_jobs=-1)\n",
    "bagged_cv_scores = cross_val_score(bagging_cal_tree, \n",
    "                                   cal_housing.data,\n",
    "                                   cal_housing.target,\n",
    "                                   cv=KFold(n_splits=5, shuffle=True),\n",
    "                                   scoring=\"neg_mean_absolute_error\",\n",
    "                                   n_jobs=-1)\n",
    "\n",
    "print(-bagged_cv_scores.mean(), bagged_cv_scores.std())"
   ]
  },
  {
   "cell_type": "markdown",
   "id": "af1c3179",
   "metadata": {},
   "source": [
    "We can clearly see that more models have resulted to better predictions"
   ]
  },
  {
   "cell_type": "markdown",
   "id": "1a9e2697",
   "metadata": {},
   "source": [
    "A more advanced approach is using random forests\n",
    "\n",
    "With this technique rather that leaving the algorithm to find the best sample to split into homogenious sets \n",
    "\n",
    "We rather : https://en.wikipedia.org/wiki/Random_forest"
   ]
  },
  {
   "cell_type": "code",
   "execution_count": 6,
   "id": "264de1a5",
   "metadata": {},
   "outputs": [
    {
     "name": "stdout",
     "output_type": "stream",
     "text": [
      "0.3307579294476744 0.004027533124190801\n"
     ]
    }
   ],
   "source": [
    "from sklearn.ensemble import RandomForestRegressor\n",
    "\n",
    "forest = RandomForestRegressor(n_estimators=50, n_jobs=-1)\n",
    "forest_cv_scores = cross_val_score(forest,  \n",
    "                                   cal_housing.data,\n",
    "                                   cal_housing.target,\n",
    "                                   cv=KFold(n_splits=5, shuffle=True),\n",
    "                                   scoring=\"neg_mean_absolute_error\",\n",
    "                                   n_jobs=-1)\n",
    "print(-forest_cv_scores.mean(), forest_cv_scores.std())"
   ]
  },
  {
   "cell_type": "markdown",
   "id": "0a30383d",
   "metadata": {},
   "source": [
    "Στα ακραίως στοχαστικά δένδρα (extremely randomised trees), επιλέγουμε στοχαστικά όχι μόνο το χαρακτηριστικό για το οποίο θα κάνουμε την ερώτηση σε κάθε κόμβο, αλλά και την τιμή της ερώτησης.\n",
    "\n",
    "https://stats.stackexchange.com/questions/175523/difference-between-random-forest-and-extremely-randomized-trees"
   ]
  },
  {
   "cell_type": "code",
   "execution_count": 7,
   "id": "e9ebf30c",
   "metadata": {},
   "outputs": [
    {
     "name": "stdout",
     "output_type": "stream",
     "text": [
      "0.3282644820445736 0.0032705505863594286\n"
     ]
    }
   ],
   "source": [
    "from sklearn.ensemble import ExtraTreesRegressor\n",
    "\n",
    "extremely_rts = ExtraTreesRegressor(n_estimators=50, n_jobs=-1)\n",
    "\n",
    "extremely_cv_scores = cross_val_score(extremely_rts, \n",
    "                                      cal_housing.data,\n",
    "                                      cal_housing.target,\n",
    "                                      cv=KFold(n_splits=5, shuffle=True),\n",
    "                                      scoring=\"neg_mean_absolute_error\",\n",
    "                                      n_jobs=-1)\n",
    "print(-extremely_cv_scores.mean(), extremely_cv_scores.std())"
   ]
  },
  {
   "cell_type": "markdown",
   "id": "ba283a44",
   "metadata": {},
   "source": [
    "Note:\n",
    "\n",
    "It is much easier to explain a single model with a single tree rather than a lot of models with a lot of trees\n",
    "\n",
    "If we want to see how our combined data make decisions we can examine the feature importances , this gives us how important are the characterestics for that model"
   ]
  },
  {
   "cell_type": "code",
   "execution_count": 8,
   "id": "a04a9cfc",
   "metadata": {},
   "outputs": [
    {
     "name": "stdout",
     "output_type": "stream",
     "text": [
      "MedInc 0.4928126343150088\n",
      "Longitude 0.11427355732061081\n",
      "Latitude 0.11182343956547429\n",
      "AveOccup 0.1060889639478101\n",
      "HouseAge 0.07081887868028731\n",
      "AveRooms 0.042382961389745656\n",
      "AveBedrms 0.03434645273467903\n",
      "Population 0.027453112046384023\n"
     ]
    }
   ],
   "source": [
    "import numpy as np\n",
    "\n",
    "extremely_rts = ExtraTreesRegressor(n_estimators=50, n_jobs=-1)\n",
    "extremely_rts.fit(cal_housing.data, cal_housing.target)\n",
    "importances = extremely_rts.feature_importances_\n",
    "\n",
    "std = np.std([tree.feature_importances_ for tree in extremely_rts.estimators_], axis=0)\n",
    "indices = np.argsort(importances)[::-1]\n",
    "\n",
    "for i in indices:\n",
    "    print(cal_housing.feature_names[i], importances[i])"
   ]
  },
  {
   "cell_type": "code",
   "execution_count": 9,
   "id": "232bb566",
   "metadata": {},
   "outputs": [
    {
     "data": {
      "image/png": "[encoded data removed]",
      "text/plain": [
       "<Figure size 576x432 with 1 Axes>"
      ]
     },
     "metadata": {
      "needs_background": "light"
     },
     "output_type": "display_data"
    }
   ],
   "source": [
    "import matplotlib.pyplot as plt\n",
    "\n",
    "plt.figure(figsize=(8, 6))\n",
    "plt.title(\"Feature importances\")\n",
    "plt.bar(range(len(cal_housing.feature_names)), importances[indices],\n",
    "        tick_label=[cal_housing.feature_names[x] for x in indices],\n",
    "        color=\"r\", yerr=std[indices], align=\"center\")\n",
    "_ = plt.xticks(rotation=45)"
   ]
  },
  {
   "cell_type": "markdown",
   "id": "4232e2a2",
   "metadata": {},
   "source": [
    "A different way to approach designing trees is rather than designing independent trees we can design sequaential models\n",
    "\n",
    "The idea is that the second model will predict better the things that the first model didnt and so on\n",
    "\n",
    "Hence for every model we have a better predictions\n",
    "\n",
    "This is called boosting\n"
   ]
  },
  {
   "cell_type": "code",
   "execution_count": 10,
   "id": "e787cd06",
   "metadata": {},
   "outputs": [
    {
     "name": "stdout",
     "output_type": "stream",
     "text": [
      "0.29977949806201554 0.00810372307631671\n"
     ]
    }
   ],
   "source": [
    "from sklearn.ensemble import AdaBoostRegressor\n",
    "\n",
    "clf = DecisionTreeRegressor()\n",
    "ada_boost_rgr = AdaBoostRegressor(clf, n_estimators=50)\n",
    "ada_boost_cv_scores = cross_val_score(ada_boost_rgr, \n",
    "                                      cal_housing.data,\n",
    "                                      cal_housing.target,\n",
    "                                      cv=KFold(n_splits=5, shuffle=True),\n",
    "                                      scoring=\"neg_mean_absolute_error\",\n",
    "                                      n_jobs=-1)\n",
    "print(-ada_boost_cv_scores.mean(), ada_boost_cv_scores.std())"
   ]
  },
  {
   "cell_type": "code",
   "execution_count": 11,
   "id": "0cd4813a",
   "metadata": {},
   "outputs": [
    {
     "name": "stdout",
     "output_type": "stream",
     "text": [
      "MedInc 0.3017109150951777\n",
      "AveOccup 0.15312660664288263\n",
      "Longitude 0.14035684356011488\n",
      "Latitude 0.14000870636426974\n",
      "HouseAge 0.07445201515028288\n",
      "AveRooms 0.0668155361357916\n",
      "Population 0.06565979259773086\n",
      "AveBedrms 0.05786958445374963\n"
     ]
    }
   ],
   "source": [
    "clf = DecisionTreeRegressor()\n",
    "ada_boost_rgr = AdaBoostRegressor(clf, n_estimators=50)\n",
    "ada_boost_rgr.fit(cal_housing.data, cal_housing.target)\n",
    "importances = ada_boost_rgr.feature_importances_\n",
    "\n",
    "std = np.std([tree.feature_importances_ for tree in ada_boost_rgr.estimators_], axis=0)\n",
    "indices = np.argsort(importances)[::-1]\n",
    "\n",
    "for i in indices:\n",
    "    print(cal_housing.feature_names[i], importances[i])"
   ]
  },
  {
   "cell_type": "code",
   "execution_count": 12,
   "id": "9bba049d",
   "metadata": {},
   "outputs": [
    {
     "data": {
      "image/png": "[encoded data removed]",
      "text/plain": [
       "<Figure size 576x432 with 1 Axes>"
      ]
     },
     "metadata": {
      "needs_background": "light"
     },
     "output_type": "display_data"
    }
   ],
   "source": [
    "plt.figure(figsize=(8, 6))\n",
    "plt.title(\"Feature importances\")\n",
    "plt.bar(range(len(cal_housing.feature_names)), importances[indices],\n",
    "        tick_label=[cal_housing.feature_names[x] for x in indices],\n",
    "        color=\"r\", yerr=std[indices], align=\"center\")\n",
    "_ = plt.xticks(rotation=45)"
   ]
  },
  {
   "cell_type": "markdown",
   "id": "1428f2c2",
   "metadata": {},
   "source": [
    "XGBoost is an optimized distributed gradient boosting library designed to be highly efficient.\n",
    "\n",
    "https://xgboost.readthedocs.io/en/latest/"
   ]
  },
  {
   "cell_type": "code",
   "execution_count": 14,
   "id": "bdcfc360",
   "metadata": {},
   "outputs": [],
   "source": [
    "import xgboost as xgb\n",
    "xgb_reg = xgb.XGBRegressor()\n",
    "\n",
    "scores = cross_val_score(xgb_reg, \n",
    "                         cal_housing.data, \n",
    "                         cal_housing.target, \n",
    "                         scoring=\"neg_mean_absolute_error\", \n",
    "                         cv=KFold(n_splits=5, shuffle=True),\n",
    "                         n_jobs=-1)"
   ]
  },
  {
   "cell_type": "code",
   "execution_count": 15,
   "id": "93bd7d48",
   "metadata": {},
   "outputs": [
    {
     "name": "stdout",
     "output_type": "stream",
     "text": [
      "0.3117547299873302 0.0034390650671531227\n"
     ]
    }
   ],
   "source": [
    "print(-scores.mean(), scores.std())"
   ]
  },
  {
   "cell_type": "code",
   "execution_count": 16,
   "id": "72f4177d",
   "metadata": {},
   "outputs": [
    {
     "data": {
      "text/plain": [
       "XGBRegressor(base_score=0.5, booster='gbtree', colsample_bylevel=1,\n",
       "             colsample_bynode=1, colsample_bytree=1, enable_categorical=False,\n",
       "             gamma=0, gpu_id=-1, importance_type=None,\n",
       "             interaction_constraints='', learning_rate=0.300000012,\n",
       "             max_delta_step=0, max_depth=6, min_child_weight=1, missing=nan,\n",
       "             monotone_constraints='()', n_estimators=100, n_jobs=4,\n",
       "             num_parallel_tree=1, predictor='auto', random_state=0, reg_alpha=0,\n",
       "             reg_lambda=1, scale_pos_weight=1, subsample=1, tree_method='exact',\n",
       "             validate_parameters=1, verbosity=None)"
      ]
     },
     "execution_count": 16,
     "metadata": {},
     "output_type": "execute_result"
    }
   ],
   "source": [
    "xgb_reg = xgb.XGBRegressor()\n",
    "xgb_reg.fit(cal_housing.data, cal_housing.target)"
   ]
  },
  {
   "cell_type": "code",
   "execution_count": 17,
   "id": "2958f0ae",
   "metadata": {},
   "outputs": [
    {
     "data": {
      "text/plain": [
       "<AxesSubplot:title={'center':'Feature importance'}, xlabel='F score', ylabel='Features'>"
      ]
     },
     "execution_count": 17,
     "metadata": {},
     "output_type": "execute_result"
    },
    {
     "data": {
      "image/png": "[encoded data removed]",
      "text/plain": [
       "<Figure size 576x432 with 1 Axes>"
      ]
     },
     "metadata": {
      "needs_background": "light"
     },
     "output_type": "display_data"
    }
   ],
   "source": [
    "fig = plt.figure(figsize=(8, 6))\n",
    "xgb_reg.get_booster().feature_names = cal_housing.feature_names\n",
    "xgb.plot_importance(xgb_reg, ax = fig.gca())"
   ]
  },
  {
   "cell_type": "markdown",
   "id": "a9c7ae4e",
   "metadata": {},
   "source": [
    "LightGBM is a gradient boosting framework that uses tree based learning algorithms. It is designed to be distributed and efficient with the following advantages\n",
    "\n",
    "https://lightgbm.readthedocs.io/en/latest/index.html"
   ]
  },
  {
   "cell_type": "code",
   "execution_count": 20,
   "id": "8fe9c400",
   "metadata": {},
   "outputs": [
    {
     "name": "stdout",
     "output_type": "stream",
     "text": [
      "0.3103196453475895 0.003756718605522089\n"
     ]
    }
   ],
   "source": [
    "import lightgbm as lgb\n",
    "\n",
    "lgb_reg = lgb.LGBMRegressor()\n",
    "scores = cross_val_score(lgb_reg, \n",
    "                         cal_housing.data, \n",
    "                         cal_housing.target,\n",
    "                         scoring=\"neg_mean_absolute_error\",\n",
    "                         cv=KFold(n_splits=5, shuffle=True),\n",
    "                         n_jobs=-1)\n",
    "\n",
    "print(-scores.mean(), scores.std())"
   ]
  },
  {
   "cell_type": "code",
   "execution_count": 21,
   "id": "249f7191",
   "metadata": {},
   "outputs": [
    {
     "data": {
      "image/png": "[encoded data removed]",
      "text/plain": [
       "<Figure size 576x432 with 1 Axes>"
      ]
     },
     "metadata": {
      "needs_background": "light"
     },
     "output_type": "display_data"
    }
   ],
   "source": [
    "lgb_reg = lgb.LGBMRegressor()\n",
    "lgb_reg.fit(cal_housing.data, cal_housing.target, \n",
    "            feature_name=cal_housing.feature_names)\n",
    "_ = lgb.plot_importance(lgb_reg, figsize=(8, 6))"
   ]
  },
  {
   "cell_type": "markdown",
   "id": "9f07a40a",
   "metadata": {},
   "source": [
    "We can see that lightcbm algorithm sets first the longitude and latitude rather than MedInc"
   ]
  },
  {
   "cell_type": "markdown",
   "id": "bdd9811e",
   "metadata": {},
   "source": [
    "We might want to combine different classifiers together"
   ]
  },
  {
   "cell_type": "code",
   "execution_count": 22,
   "id": "3baf0ced",
   "metadata": {},
   "outputs": [],
   "source": [
    "from sklearn.ensemble import VotingRegressor\n",
    "\n",
    "xgb_reg = xgb.XGBRegressor()\n",
    "lgb_reg = lgb.LGBMRegressor()\n",
    "vreg = VotingRegressor(estimators=[('xgb', xgb_reg), \n",
    "                                   ('lgb', lgb_reg)],\n",
    "                       n_jobs=-1)\n",
    "                       \n",
    "scores = cross_val_score(vreg, \n",
    "                         cal_housing.data, \n",
    "                         cal_housing.target,\n",
    "                         scoring='neg_mean_absolute_error', \n",
    "                         cv=KFold(n_splits=5, shuffle=True),\n",
    "                         n_jobs=-1)"
   ]
  },
  {
   "cell_type": "code",
   "execution_count": 23,
   "id": "f129c586",
   "metadata": {},
   "outputs": [
    {
     "name": "stdout",
     "output_type": "stream",
     "text": [
      "0.30192112509585217 0.0024880693370002275\n"
     ]
    }
   ],
   "source": [
    "print(-scores.mean(), scores.std())"
   ]
  },
  {
   "cell_type": "markdown",
   "id": "32a1b69a",
   "metadata": {},
   "source": [
    "Another ways is by using StackingRegressor"
   ]
  },
  {
   "cell_type": "code",
   "execution_count": 24,
   "id": "e3de1b20",
   "metadata": {},
   "outputs": [],
   "source": [
    "from sklearn.linear_model import LinearRegression\n",
    "from sklearn.ensemble import StackingRegressor\n",
    "\n",
    "xgb_reg = xgb.XGBRegressor()\n",
    "lgb_reg = lgb.LGBMRegressor()\n",
    "\n",
    "estimators = [('xgb', xgb_reg), ('lgb', lgb_reg)]\n",
    "final_estimator = LinearRegression()\n",
    "\n",
    "sreg = StackingRegressor(estimators=estimators, final_estimator=final_estimator, n_jobs=-1)\n",
    "\n",
    "scores = cross_val_score(sreg, cal_housing.data, cal_housing.target,\n",
    "                         cv=KFold(n_splits=5, shuffle=True), \n",
    "                         scoring='neg_mean_absolute_error', \n",
    "                         n_jobs=-1)"
   ]
  },
  {
   "cell_type": "code",
   "execution_count": 25,
   "id": "aecd1b4f",
   "metadata": {},
   "outputs": [
    {
     "name": "stdout",
     "output_type": "stream",
     "text": [
      "0.30399148534822285 0.005238633842422876\n"
     ]
    }
   ],
   "source": [
    "print(-scores.mean(), scores.std())"
   ]
  },
  {
   "cell_type": "markdown",
   "id": "aab34356",
   "metadata": {},
   "source": [
    "Summary:\n",
    "\n",
    "Combining different models together is one of the best ways to increase the effectiveness of a Machine Learning Sysytem"
   ]
  }
 ],
 "metadata": {
  "kernelspec": {
   "display_name": "Python 3 (ipykernel)",
   "language": "python",
   "name": "python3"
  },
  "language_info": {
   "codemirror_mode": {
    "name": "ipython",
    "version": 3
   },
   "file_extension": ".py",
   "mimetype": "text/x-python",
   "name": "python",
   "nbconvert_exporter": "python",
   "pygments_lexer": "ipython3",
   "version": "3.9.7"
  }
 },
 "nbformat": 4,
 "nbformat_minor": 5
}
