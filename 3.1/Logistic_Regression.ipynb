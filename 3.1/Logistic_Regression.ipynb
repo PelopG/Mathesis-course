{
 "cells": [
  {
   "cell_type": "markdown",
   "id": "910c62e7",
   "metadata": {},
   "source": [
    "We can use logistic regression in the cases where it does not make sense to use multiple regression"
   ]
  },
  {
   "cell_type": "code",
   "execution_count": 1,
   "id": "9bf0cab7",
   "metadata": {},
   "outputs": [],
   "source": [
    "import pandas as pd\n",
    "import statsmodels.api as sm\n",
    "import statsmodels.formula.api as smf\n",
    "import matplotlib.pyplot as plt\n",
    "import numpy as np\n",
    "from plotnine import *"
   ]
  },
  {
   "cell_type": "markdown",
   "id": "1b7f7f74",
   "metadata": {},
   "source": [
    "We can use logistic regression when the dependent variable can only have 2 values (0 or 1).\n",
    "\n",
    "https://en.wikipedia.org/wiki/Logistic_regression#Probability_of_passing_an_exam_versus_hours_of_study\n",
    "\n",
    "In this example we will take a group of students.\n",
    "\n",
    "The independent variable (hours) that the student has taken during a course\n",
    "\n",
    "The dependent variable (passed) will show if the student has passed(1) or failed(0)"
   ]
  },
  {
   "cell_type": "code",
   "execution_count": 2,
   "id": "69c0227a",
   "metadata": {},
   "outputs": [
    {
     "data": {
      "text/html": [
       "<div>\n",
       "<style scoped>\n",
       "    .dataframe tbody tr th:only-of-type {\n",
       "        vertical-align: middle;\n",
       "    }\n",
       "\n",
       "    .dataframe tbody tr th {\n",
       "        vertical-align: top;\n",
       "    }\n",
       "\n",
       "    .dataframe thead th {\n",
       "        text-align: right;\n",
       "    }\n",
       "</style>\n",
       "<table border=\"1\" class=\"dataframe\">\n",
       "  <thead>\n",
       "    <tr style=\"text-align: right;\">\n",
       "      <th></th>\n",
       "      <th>hours</th>\n",
       "      <th>passed</th>\n",
       "    </tr>\n",
       "  </thead>\n",
       "  <tbody>\n",
       "    <tr>\n",
       "      <th>13</th>\n",
       "      <td>3.50</td>\n",
       "      <td>0</td>\n",
       "    </tr>\n",
       "    <tr>\n",
       "      <th>4</th>\n",
       "      <td>1.50</td>\n",
       "      <td>0</td>\n",
       "    </tr>\n",
       "    <tr>\n",
       "      <th>19</th>\n",
       "      <td>5.50</td>\n",
       "      <td>1</td>\n",
       "    </tr>\n",
       "    <tr>\n",
       "      <th>12</th>\n",
       "      <td>3.25</td>\n",
       "      <td>1</td>\n",
       "    </tr>\n",
       "    <tr>\n",
       "      <th>8</th>\n",
       "      <td>2.25</td>\n",
       "      <td>1</td>\n",
       "    </tr>\n",
       "  </tbody>\n",
       "</table>\n",
       "</div>"
      ],
      "text/plain": [
       "    hours  passed\n",
       "13   3.50       0\n",
       "4    1.50       0\n",
       "19   5.50       1\n",
       "12   3.25       1\n",
       "8    2.25       1"
      ]
     },
     "execution_count": 2,
     "metadata": {},
     "output_type": "execute_result"
    }
   ],
   "source": [
    "# Creating our dataframe\n",
    "hours = [\n",
    "    0.5, 0.75, 1.00, 1.25, 1.50, 1.75, 1.75, \n",
    "    2.00, 2.25, 2.50, 2.75, 3.00, 3.25, 3.50,  \n",
    "    4.00, 4.25, 4.50, 4.75, 5.00, 5.50\n",
    "]\n",
    "\n",
    "passed = [0, 0, 0, 0, 0, 0, 1, 0, 1, 0, 1, 0, 1, 0, 1, 1, 1, 1, 1, 1]\n",
    "\n",
    "students = pd.DataFrame({'hours' : hours, 'passed': passed})\n",
    "students.sample(5)"
   ]
  },
  {
   "cell_type": "code",
   "execution_count": 3,
   "id": "a4e6ea92",
   "metadata": {},
   "outputs": [
    {
     "data": {
      "image/png": "[encoded data removed]",
      "text/plain": [
       "<Figure size 640x480 with 1 Axes>"
      ]
     },
     "metadata": {},
     "output_type": "display_data"
    },
    {
     "data": {
      "text/plain": [
       "<ggplot: (126050657750)>"
      ]
     },
     "execution_count": 3,
     "metadata": {},
     "output_type": "execute_result"
    }
   ],
   "source": [
    "# Creating a diagram\n",
    "ggplot(data=students) + geom_point(aes(x='hours', y='passed'))"
   ]
  },
  {
   "cell_type": "markdown",
   "id": "fd7dd27e",
   "metadata": {},
   "source": [
    "It is obvious that we cannot use linear regression"
   ]
  },
  {
   "cell_type": "code",
   "execution_count": 6,
   "id": "63460fd9",
   "metadata": {},
   "outputs": [
    {
     "data": {
      "text/html": [
       "<table class=\"simpletable\">\n",
       "<caption>OLS Regression Results</caption>\n",
       "<tr>\n",
       "  <th>Dep. Variable:</th>         <td>passed</td>      <th>  R-squared:         </th> <td>   0.475</td>\n",
       "</tr>\n",
       "<tr>\n",
       "  <th>Model:</th>                   <td>OLS</td>       <th>  Adj. R-squared:    </th> <td>   0.446</td>\n",
       "</tr>\n",
       "<tr>\n",
       "  <th>Method:</th>             <td>Least Squares</td>  <th>  F-statistic:       </th> <td>   16.29</td>\n",
       "</tr>\n",
       "<tr>\n",
       "  <th>Date:</th>             <td>Wed, 30 Mar 2022</td> <th>  Prob (F-statistic):</th> <td>0.000775</td>\n",
       "</tr>\n",
       "<tr>\n",
       "  <th>Time:</th>                 <td>19:28:28</td>     <th>  Log-Likelihood:    </th> <td> -8.0712</td>\n",
       "</tr>\n",
       "<tr>\n",
       "  <th>No. Observations:</th>      <td>    20</td>      <th>  AIC:               </th> <td>   20.14</td>\n",
       "</tr>\n",
       "<tr>\n",
       "  <th>Df Residuals:</th>          <td>    18</td>      <th>  BIC:               </th> <td>   22.13</td>\n",
       "</tr>\n",
       "<tr>\n",
       "  <th>Df Model:</th>              <td>     1</td>      <th>                     </th>     <td> </td>   \n",
       "</tr>\n",
       "<tr>\n",
       "  <th>Covariance Type:</th>      <td>nonrobust</td>    <th>                     </th>     <td> </td>   \n",
       "</tr>\n",
       "</table>\n",
       "<table class=\"simpletable\">\n",
       "<tr>\n",
       "      <td></td>         <th>coef</th>     <th>std err</th>      <th>t</th>      <th>P>|t|</th>  <th>[0.025</th>    <th>0.975]</th>  \n",
       "</tr>\n",
       "<tr>\n",
       "  <th>Intercept</th> <td>   -0.1539</td> <td>    0.183</td> <td>   -0.840</td> <td> 0.412</td> <td>   -0.539</td> <td>    0.231</td>\n",
       "</tr>\n",
       "<tr>\n",
       "  <th>hours</th>     <td>    0.2346</td> <td>    0.058</td> <td>    4.036</td> <td> 0.001</td> <td>    0.112</td> <td>    0.357</td>\n",
       "</tr>\n",
       "</table>\n",
       "<table class=\"simpletable\">\n",
       "<tr>\n",
       "  <th>Omnibus:</th>       <td> 0.367</td> <th>  Durbin-Watson:     </th> <td>   3.416</td>\n",
       "</tr>\n",
       "<tr>\n",
       "  <th>Prob(Omnibus):</th> <td> 0.832</td> <th>  Jarque-Bera (JB):  </th> <td>   0.381</td>\n",
       "</tr>\n",
       "<tr>\n",
       "  <th>Skew:</th>          <td> 0.270</td> <th>  Prob(JB):          </th> <td>   0.827</td>\n",
       "</tr>\n",
       "<tr>\n",
       "  <th>Kurtosis:</th>      <td> 2.594</td> <th>  Cond. No.          </th> <td>    7.30</td>\n",
       "</tr>\n",
       "</table><br/><br/>Notes:<br/>[1] Standard Errors assume that the covariance matrix of the errors is correctly specified."
      ],
      "text/plain": [
       "<class 'statsmodels.iolib.summary.Summary'>\n",
       "\"\"\"\n",
       "                            OLS Regression Results                            \n",
       "==============================================================================\n",
       "Dep. Variable:                 passed   R-squared:                       0.475\n",
       "Model:                            OLS   Adj. R-squared:                  0.446\n",
       "Method:                 Least Squares   F-statistic:                     16.29\n",
       "Date:                Wed, 30 Mar 2022   Prob (F-statistic):           0.000775\n",
       "Time:                        19:28:28   Log-Likelihood:                -8.0712\n",
       "No. Observations:                  20   AIC:                             20.14\n",
       "Df Residuals:                      18   BIC:                             22.13\n",
       "Df Model:                           1                                         \n",
       "Covariance Type:            nonrobust                                         \n",
       "==============================================================================\n",
       "                 coef    std err          t      P>|t|      [0.025      0.975]\n",
       "------------------------------------------------------------------------------\n",
       "Intercept     -0.1539      0.183     -0.840      0.412      -0.539       0.231\n",
       "hours          0.2346      0.058      4.036      0.001       0.112       0.357\n",
       "==============================================================================\n",
       "Omnibus:                        0.367   Durbin-Watson:                   3.416\n",
       "Prob(Omnibus):                  0.832   Jarque-Bera (JB):                0.381\n",
       "Skew:                           0.270   Prob(JB):                        0.827\n",
       "Kurtosis:                       2.594   Cond. No.                         7.30\n",
       "==============================================================================\n",
       "\n",
       "Notes:\n",
       "[1] Standard Errors assume that the covariance matrix of the errors is correctly specified.\n",
       "\"\"\""
      ]
     },
     "execution_count": 6,
     "metadata": {},
     "output_type": "execute_result"
    }
   ],
   "source": [
    "# Lets check the summary to verify that\n",
    "\n",
    "students_mod = smf.ols(\"passed ~ hours\", data=students)\n",
    "students_res = students_mod.fit()\n",
    "students_res.summary()"
   ]
  },
  {
   "cell_type": "markdown",
   "id": "82dd3ab9",
   "metadata": {},
   "source": [
    "R^2 = 0.475 its okay\n",
    "\n",
    "p-value = 0.412 which is high enough"
   ]
  },
  {
   "cell_type": "code",
   "execution_count": 7,
   "id": "18ebaf3d",
   "metadata": {},
   "outputs": [
    {
     "data": {
      "image/png": "[encoded data removed]",
      "text/plain": [
       "<Figure size 640x480 with 1 Axes>"
      ]
     },
     "metadata": {},
     "output_type": "display_data"
    },
    {
     "data": {
      "text/plain": [
       "<ggplot: (126050639478)>"
      ]
     },
     "execution_count": 7,
     "metadata": {},
     "output_type": "execute_result"
    }
   ],
   "source": [
    "# Lets create a diagrom regarding passed variable\n",
    "ggplot(data=students) +\\\n",
    "    geom_point(aes(x='hours', y='passed')) +\\\n",
    "    geom_abline(intercept=students_res.params['Intercept'],\n",
    "               slope=students_res.params['hours'])"
   ]
  },
  {
   "cell_type": "markdown",
   "id": "d0b2c331",
   "metadata": {},
   "source": [
    "We can easily see that the regression line just cuts thought the middle of the graph rather that trying to contain as many points as it can on a linear line\n",
    "\n",
    "For example we can see that the student who studied 3 hours has passed 0.5 - it does not make any sense"
   ]
  },
  {
   "cell_type": "markdown",
   "id": "a7bc97f9",
   "metadata": {},
   "source": [
    "In order to solve this issue instead of taking the value passed we will take the probability of the student passing \n",
    "\n",
    "Where x is the number of hours\n",
    "\n",
    "p(x)/1−p(x) ==> odd-ratio\n",
    "\n",
    "Hence we use logistic transformation\n",
    "logit(p(x))= lnp(x) / 1−p(x)\n",
    "\n",
    "2 values\n",
    "1) y=α+βx\n",
    "\n",
    "2) y=lnp(x) / 1−p(x)\n",
    "\n",
    "logit(p(x))=lnp(x)/1−p(x)=α+βx\n",
    "\n",
    "Why do we need to do that:\n",
    "\n",
    "If we solve the above equation for p(x)\n",
    "\n",
    "p(x)=1/1+e−(α+βx)"
   ]
  },
  {
   "cell_type": "code",
   "execution_count": 8,
   "id": "89281da4",
   "metadata": {},
   "outputs": [
    {
     "data": {
      "image/png": "[encoded data removed]",
      "text/plain": [
       "<Figure size 576x432 with 1 Axes>"
      ]
     },
     "metadata": {
      "needs_background": "light"
     },
     "output_type": "display_data"
    }
   ],
   "source": [
    "# Plotting the last equation:\n",
    "\n",
    "fig = plt.figure(figsize=(8,6))\n",
    "ax = fig.add_subplot(111)\n",
    "x = np.linspace(-5, 5,100)\n",
    "y = 1 / (1 + np.exp(-x))\n",
    "ax.plot(x, y)\n",
    "ax.grid(True)"
   ]
  },
  {
   "cell_type": "markdown",
   "id": "8b3c1f88",
   "metadata": {},
   "source": [
    "We can see an S figure"
   ]
  },
  {
   "cell_type": "code",
   "execution_count": 10,
   "id": "15e2e2c0",
   "metadata": {},
   "outputs": [
    {
     "name": "stdout",
     "output_type": "stream",
     "text": [
      "Optimization terminated successfully.\n",
      "         Current function value: 0.401494\n",
      "         Iterations 7\n"
     ]
    },
    {
     "data": {
      "text/html": [
       "<table class=\"simpletable\">\n",
       "<caption>Logit Regression Results</caption>\n",
       "<tr>\n",
       "  <th>Dep. Variable:</th>        <td>passed</td>      <th>  No. Observations:  </th>  <td>    20</td>  \n",
       "</tr>\n",
       "<tr>\n",
       "  <th>Model:</th>                 <td>Logit</td>      <th>  Df Residuals:      </th>  <td>    18</td>  \n",
       "</tr>\n",
       "<tr>\n",
       "  <th>Method:</th>                 <td>MLE</td>       <th>  Df Model:          </th>  <td>     1</td>  \n",
       "</tr>\n",
       "<tr>\n",
       "  <th>Date:</th>            <td>Thu, 31 Mar 2022</td> <th>  Pseudo R-squ.:     </th>  <td>0.4208</td>  \n",
       "</tr>\n",
       "<tr>\n",
       "  <th>Time:</th>                <td>20:26:41</td>     <th>  Log-Likelihood:    </th> <td> -8.0299</td> \n",
       "</tr>\n",
       "<tr>\n",
       "  <th>converged:</th>             <td>True</td>       <th>  LL-Null:           </th> <td> -13.863</td> \n",
       "</tr>\n",
       "<tr>\n",
       "  <th>Covariance Type:</th>     <td>nonrobust</td>    <th>  LLR p-value:       </th> <td>0.0006365</td>\n",
       "</tr>\n",
       "</table>\n",
       "<table class=\"simpletable\">\n",
       "<tr>\n",
       "      <td></td>         <th>coef</th>     <th>std err</th>      <th>z</th>      <th>P>|z|</th>  <th>[0.025</th>    <th>0.975]</th>  \n",
       "</tr>\n",
       "<tr>\n",
       "  <th>Intercept</th> <td>   -4.0777</td> <td>    1.761</td> <td>   -2.316</td> <td> 0.021</td> <td>   -7.529</td> <td>   -0.626</td>\n",
       "</tr>\n",
       "<tr>\n",
       "  <th>hours</th>     <td>    1.5046</td> <td>    0.629</td> <td>    2.393</td> <td> 0.017</td> <td>    0.272</td> <td>    2.737</td>\n",
       "</tr>\n",
       "</table>"
      ],
      "text/plain": [
       "<class 'statsmodels.iolib.summary.Summary'>\n",
       "\"\"\"\n",
       "                           Logit Regression Results                           \n",
       "==============================================================================\n",
       "Dep. Variable:                 passed   No. Observations:                   20\n",
       "Model:                          Logit   Df Residuals:                       18\n",
       "Method:                           MLE   Df Model:                            1\n",
       "Date:                Thu, 31 Mar 2022   Pseudo R-squ.:                  0.4208\n",
       "Time:                        20:26:41   Log-Likelihood:                -8.0299\n",
       "converged:                       True   LL-Null:                       -13.863\n",
       "Covariance Type:            nonrobust   LLR p-value:                 0.0006365\n",
       "==============================================================================\n",
       "                 coef    std err          z      P>|z|      [0.025      0.975]\n",
       "------------------------------------------------------------------------------\n",
       "Intercept     -4.0777      1.761     -2.316      0.021      -7.529      -0.626\n",
       "hours          1.5046      0.629      2.393      0.017       0.272       2.737\n",
       "==============================================================================\n",
       "\"\"\""
      ]
     },
     "execution_count": 10,
     "metadata": {},
     "output_type": "execute_result"
    }
   ],
   "source": [
    "# Using statmodels and the function logit() - logistic regression\n",
    "from statsmodels.formula.api import logit\n",
    "students_logit_mod = logit(\"passed ~ hours\", data=students)\n",
    "students_logit_res = students_logit_mod.fit()\n",
    "\n",
    "students_logit_res.summary()"
   ]
  },
  {
   "cell_type": "markdown",
   "id": "0334ca2d",
   "metadata": {},
   "source": [
    "This table is different that the previous tables from regression because logic regression operates differently"
   ]
  },
  {
   "cell_type": "code",
   "execution_count": 11,
   "id": "6fa64ea2",
   "metadata": {},
   "outputs": [
    {
     "data": {
      "text/plain": [
       "0     0.034710\n",
       "1     0.049773\n",
       "2     0.070892\n",
       "3     0.100029\n",
       "4     0.139344\n",
       "5     0.190837\n",
       "6     0.190837\n",
       "7     0.255703\n",
       "8     0.333530\n",
       "9     0.421627\n",
       "10    0.515011\n",
       "11    0.607359\n",
       "12    0.692617\n",
       "13    0.766481\n",
       "14    0.874448\n",
       "15    0.910278\n",
       "16    0.936624\n",
       "17    0.955611\n",
       "18    0.969097\n",
       "19    0.985194\n",
       "dtype: float64"
      ]
     },
     "execution_count": 11,
     "metadata": {},
     "output_type": "execute_result"
    }
   ],
   "source": [
    "# Getting the predicted values\n",
    "passed_predicted = students_logit_res.predict(students['hours'])\n",
    "passed_predicted"
   ]
  },
  {
   "cell_type": "code",
   "execution_count": 12,
   "id": "170832e9",
   "metadata": {},
   "outputs": [
    {
     "data": {
      "image/png": "[encoded data removed]",
      "text/plain": [
       "<Figure size 640x480 with 1 Axes>"
      ]
     },
     "metadata": {},
     "output_type": "display_data"
    },
    {
     "data": {
      "text/plain": [
       "<ggplot: (126051658680)>"
      ]
     },
     "execution_count": 12,
     "metadata": {},
     "output_type": "execute_result"
    }
   ],
   "source": [
    "# Plotting a graph\n",
    "ggplot(data=students) +\\\n",
    "    geom_point(aes(x='hours', y='passed')) +\\\n",
    "    geom_line(aes(x='hours'), y=passed_predicted) +\\\n",
    "    labs(y='probability of passing the exam', x='hours studied')"
   ]
  },
  {
   "cell_type": "markdown",
   "id": "41579392",
   "metadata": {},
   "source": [
    "We can see that we get a more suitable model.\n",
    "\n",
    "Also on the vertical axis we have the probability of passing!\n",
    "\n",
    "hence the data do make sense ( eg at 3 hours you have appr 0.625 passing)"
   ]
  },
  {
   "cell_type": "code",
   "execution_count": 13,
   "id": "a90eb1b9",
   "metadata": {},
   "outputs": [
    {
     "data": {
      "text/html": [
       "<table class=\"simpletable\">\n",
       "<caption>Logit Regression Results</caption>\n",
       "<tr>\n",
       "  <th>Dep. Variable:</th>        <td>passed</td>      <th>  No. Observations:  </th>  <td>    20</td>  \n",
       "</tr>\n",
       "<tr>\n",
       "  <th>Model:</th>                 <td>Logit</td>      <th>  Df Residuals:      </th>  <td>    18</td>  \n",
       "</tr>\n",
       "<tr>\n",
       "  <th>Method:</th>                 <td>MLE</td>       <th>  Df Model:          </th>  <td>     1</td>  \n",
       "</tr>\n",
       "<tr>\n",
       "  <th>Date:</th>            <td>Thu, 31 Mar 2022</td> <th>  Pseudo R-squ.:     </th>  <td>0.4208</td>  \n",
       "</tr>\n",
       "<tr>\n",
       "  <th>Time:</th>                <td>20:29:30</td>     <th>  Log-Likelihood:    </th> <td> -8.0299</td> \n",
       "</tr>\n",
       "<tr>\n",
       "  <th>converged:</th>             <td>True</td>       <th>  LL-Null:           </th> <td> -13.863</td> \n",
       "</tr>\n",
       "<tr>\n",
       "  <th>Covariance Type:</th>     <td>nonrobust</td>    <th>  LLR p-value:       </th> <td>0.0006365</td>\n",
       "</tr>\n",
       "</table>\n",
       "<table class=\"simpletable\">\n",
       "<tr>\n",
       "      <td></td>         <th>coef</th>     <th>std err</th>      <th>z</th>      <th>P>|z|</th>  <th>[0.025</th>    <th>0.975]</th>  \n",
       "</tr>\n",
       "<tr>\n",
       "  <th>Intercept</th> <td>   -4.0777</td> <td>    1.761</td> <td>   -2.316</td> <td> 0.021</td> <td>   -7.529</td> <td>   -0.626</td>\n",
       "</tr>\n",
       "<tr>\n",
       "  <th>hours</th>     <td>    1.5046</td> <td>    0.629</td> <td>    2.393</td> <td> 0.017</td> <td>    0.272</td> <td>    2.737</td>\n",
       "</tr>\n",
       "</table>"
      ],
      "text/plain": [
       "<class 'statsmodels.iolib.summary.Summary'>\n",
       "\"\"\"\n",
       "                           Logit Regression Results                           \n",
       "==============================================================================\n",
       "Dep. Variable:                 passed   No. Observations:                   20\n",
       "Model:                          Logit   Df Residuals:                       18\n",
       "Method:                           MLE   Df Model:                            1\n",
       "Date:                Thu, 31 Mar 2022   Pseudo R-squ.:                  0.4208\n",
       "Time:                        20:29:30   Log-Likelihood:                -8.0299\n",
       "converged:                       True   LL-Null:                       -13.863\n",
       "Covariance Type:            nonrobust   LLR p-value:                 0.0006365\n",
       "==============================================================================\n",
       "                 coef    std err          z      P>|z|      [0.025      0.975]\n",
       "------------------------------------------------------------------------------\n",
       "Intercept     -4.0777      1.761     -2.316      0.021      -7.529      -0.626\n",
       "hours          1.5046      0.629      2.393      0.017       0.272       2.737\n",
       "==============================================================================\n",
       "\"\"\""
      ]
     },
     "execution_count": 13,
     "metadata": {},
     "output_type": "execute_result"
    }
   ],
   "source": [
    "# Summary of the results\n",
    "students_logit_res.summary()"
   ]
  },
  {
   "cell_type": "markdown",
   "id": "f1e46d4c",
   "metadata": {},
   "source": [
    "Logistic regression does not operate the same way as linear regression by using the method of least squares , but it uses maximum likelihood\n",
    "\n",
    "Hence we can see that in the place of R^2 we have a pseudo-R^2 called McFadden pseudo R^2\n",
    "\n",
    "This pseudo-R^2 can have lower limit that normal R^2 from 0.2 -0.4 can fit a very good model\n",
    "\n",
    "The  Log-Likelihood, LL-Null, LLR p-value are useful for the model"
   ]
  },
  {
   "cell_type": "markdown",
   "id": "47cafc50",
   "metadata": {},
   "source": [
    "The result show that the success correlates with studying\n",
    "\n",
    "ln [p(x)][1−p(x)]=−4,0777+1,5046x\n",
    "\n",
    "[p(x)][1−p(x)]=exp(−4,0777+1,5046x)=e(−4,0777+1,5046x)\n",
    "\n",
    "Hence 1 more hour of studying multiples the probability of success increases e^1,5046≈4,5.\n",
    "\n",
    "No studying\n",
    "\n",
    "e^−4,0777≈0,017=1,7%.\n",
    "\n",
    "Solving for p(x)\n",
    "\n",
    "p(x)=1 / 1+e(4,0777−1,5046x)\n",
    "\n",
    "Seems like that more hours you study the better"
   ]
  },
  {
   "cell_type": "code",
   "execution_count": 14,
   "id": "aa87a5c9",
   "metadata": {},
   "outputs": [
    {
     "name": "stdout",
     "output_type": "stream",
     "text": [
      "study hours [1 2 3 4 5]\n",
      "probability of passing [0.07089196 0.25570318 0.60735865 0.8744475  0.96909707]\n"
     ]
    }
   ],
   "source": [
    "study_hours = np.arange(1, 6)\n",
    "intercept = students_logit_res.params['Intercept']\n",
    "hours_coeff = students_logit_res.params['hours']\n",
    "probability_passing = 1 / (1 + np.exp(-(intercept + hours_coeff*study_hours)))\n",
    "print('study hours', study_hours)\n",
    "print('probability of passing', probability_passing)"
   ]
  },
  {
   "cell_type": "markdown",
   "id": "0e1213c9",
   "metadata": {},
   "source": [
    "If we have more than one independent variable we can also use multiple logistic regression\n",
    "\n",
    "Taking another set of data ( USA 1974 regarding Extramarital Affairs ) for females"
   ]
  },
  {
   "cell_type": "code",
   "execution_count": 15,
   "id": "3845cf8f",
   "metadata": {},
   "outputs": [
    {
     "name": "stdout",
     "output_type": "stream",
     "text": [
      "\n",
      "Fair, Ray. 1978. \"A Theory of Extramarital Affairs,\" `Journal of Political\n",
      "Economy`, February, 45-61.\n",
      "\n",
      "The data is available at http://fairmodel.econ.yale.edu/rayfair/pdf/2011b.htm\n",
      "\n"
     ]
    }
   ],
   "source": [
    "print(sm.datasets.fair.SOURCE)"
   ]
  },
  {
   "cell_type": "code",
   "execution_count": 16,
   "id": "29f08396",
   "metadata": {},
   "outputs": [
    {
     "name": "stdout",
     "output_type": "stream",
     "text": [
      "Number of observations: 6366\n",
      "    Number of variables: 9\n",
      "    Variable name definitions:\n",
      "\n",
      "        rate_marriage   : How rate marriage, 1 = very poor, 2 = poor, 3 = fair,\n",
      "                        4 = good, 5 = very good\n",
      "        age             : Age\n",
      "        yrs_married     : No. years married. Interval approximations. See\n",
      "                        original paper for detailed explanation.\n",
      "        children        : No. children\n",
      "        religious       : How relgious, 1 = not, 2 = mildly, 3 = fairly,\n",
      "                        4 = strongly\n",
      "        educ            : Level of education, 9 = grade school, 12 = high\n",
      "                        school, 14 = some college, 16 = college graduate,\n",
      "                        17 = some graduate school, 20 = advanced degree\n",
      "        occupation      : 1 = student, 2 = farming, agriculture; semi-skilled,\n",
      "                        or unskilled worker; 3 = white-colloar; 4 = teacher\n",
      "                        counselor social worker, nurse; artist, writers;\n",
      "                        technician, skilled worker, 5 = managerial,\n",
      "                        administrative, business, 6 = professional with\n",
      "                        advanced degree\n",
      "        occupation_husb : Husband's occupation. Same as occupation.\n",
      "        affairs         : measure of time spent in extramarital affairs\n",
      "\n",
      "    See the original paper for more details.\n",
      "\n"
     ]
    }
   ],
   "source": [
    "print(sm.datasets.fair.NOTE[8:]) # get rid of empty lines"
   ]
  },
  {
   "cell_type": "code",
   "execution_count": 17,
   "id": "020c3fdb",
   "metadata": {},
   "outputs": [
    {
     "data": {
      "text/html": [
       "<div>\n",
       "<style scoped>\n",
       "    .dataframe tbody tr th:only-of-type {\n",
       "        vertical-align: middle;\n",
       "    }\n",
       "\n",
       "    .dataframe tbody tr th {\n",
       "        vertical-align: top;\n",
       "    }\n",
       "\n",
       "    .dataframe thead th {\n",
       "        text-align: right;\n",
       "    }\n",
       "</style>\n",
       "<table border=\"1\" class=\"dataframe\">\n",
       "  <thead>\n",
       "    <tr style=\"text-align: right;\">\n",
       "      <th></th>\n",
       "      <th>rate_marriage</th>\n",
       "      <th>age</th>\n",
       "      <th>yrs_married</th>\n",
       "      <th>children</th>\n",
       "      <th>religious</th>\n",
       "      <th>educ</th>\n",
       "      <th>occupation</th>\n",
       "      <th>occupation_husb</th>\n",
       "      <th>affairs</th>\n",
       "      <th>affair</th>\n",
       "    </tr>\n",
       "  </thead>\n",
       "  <tbody>\n",
       "    <tr>\n",
       "      <th>4102</th>\n",
       "      <td>4.0</td>\n",
       "      <td>27.0</td>\n",
       "      <td>6.0</td>\n",
       "      <td>1.0</td>\n",
       "      <td>1.0</td>\n",
       "      <td>20.0</td>\n",
       "      <td>4.0</td>\n",
       "      <td>4.0</td>\n",
       "      <td>0.000000</td>\n",
       "      <td>0.0</td>\n",
       "    </tr>\n",
       "    <tr>\n",
       "      <th>4162</th>\n",
       "      <td>3.0</td>\n",
       "      <td>22.0</td>\n",
       "      <td>0.5</td>\n",
       "      <td>0.0</td>\n",
       "      <td>2.0</td>\n",
       "      <td>17.0</td>\n",
       "      <td>3.0</td>\n",
       "      <td>5.0</td>\n",
       "      <td>0.000000</td>\n",
       "      <td>0.0</td>\n",
       "    </tr>\n",
       "    <tr>\n",
       "      <th>4935</th>\n",
       "      <td>1.0</td>\n",
       "      <td>42.0</td>\n",
       "      <td>23.0</td>\n",
       "      <td>2.0</td>\n",
       "      <td>3.0</td>\n",
       "      <td>12.0</td>\n",
       "      <td>3.0</td>\n",
       "      <td>5.0</td>\n",
       "      <td>0.521739</td>\n",
       "      <td>1.0</td>\n",
       "    </tr>\n",
       "    <tr>\n",
       "      <th>625</th>\n",
       "      <td>5.0</td>\n",
       "      <td>22.0</td>\n",
       "      <td>2.5</td>\n",
       "      <td>0.0</td>\n",
       "      <td>2.0</td>\n",
       "      <td>14.0</td>\n",
       "      <td>2.0</td>\n",
       "      <td>2.0</td>\n",
       "      <td>0.000000</td>\n",
       "      <td>0.0</td>\n",
       "    </tr>\n",
       "    <tr>\n",
       "      <th>957</th>\n",
       "      <td>4.0</td>\n",
       "      <td>22.0</td>\n",
       "      <td>2.5</td>\n",
       "      <td>0.0</td>\n",
       "      <td>1.0</td>\n",
       "      <td>12.0</td>\n",
       "      <td>4.0</td>\n",
       "      <td>3.0</td>\n",
       "      <td>0.000000</td>\n",
       "      <td>0.0</td>\n",
       "    </tr>\n",
       "    <tr>\n",
       "      <th>1651</th>\n",
       "      <td>3.0</td>\n",
       "      <td>22.0</td>\n",
       "      <td>2.5</td>\n",
       "      <td>1.0</td>\n",
       "      <td>1.0</td>\n",
       "      <td>12.0</td>\n",
       "      <td>3.0</td>\n",
       "      <td>4.0</td>\n",
       "      <td>0.000000</td>\n",
       "      <td>0.0</td>\n",
       "    </tr>\n",
       "    <tr>\n",
       "      <th>5179</th>\n",
       "      <td>5.0</td>\n",
       "      <td>22.0</td>\n",
       "      <td>6.0</td>\n",
       "      <td>2.0</td>\n",
       "      <td>3.0</td>\n",
       "      <td>14.0</td>\n",
       "      <td>2.0</td>\n",
       "      <td>4.0</td>\n",
       "      <td>0.583333</td>\n",
       "      <td>1.0</td>\n",
       "    </tr>\n",
       "    <tr>\n",
       "      <th>2921</th>\n",
       "      <td>5.0</td>\n",
       "      <td>27.0</td>\n",
       "      <td>6.0</td>\n",
       "      <td>1.0</td>\n",
       "      <td>2.0</td>\n",
       "      <td>12.0</td>\n",
       "      <td>5.0</td>\n",
       "      <td>5.0</td>\n",
       "      <td>0.000000</td>\n",
       "      <td>0.0</td>\n",
       "    </tr>\n",
       "    <tr>\n",
       "      <th>1125</th>\n",
       "      <td>4.0</td>\n",
       "      <td>22.0</td>\n",
       "      <td>2.5</td>\n",
       "      <td>1.0</td>\n",
       "      <td>3.0</td>\n",
       "      <td>14.0</td>\n",
       "      <td>4.0</td>\n",
       "      <td>5.0</td>\n",
       "      <td>0.000000</td>\n",
       "      <td>0.0</td>\n",
       "    </tr>\n",
       "    <tr>\n",
       "      <th>5862</th>\n",
       "      <td>4.0</td>\n",
       "      <td>27.0</td>\n",
       "      <td>13.0</td>\n",
       "      <td>2.0</td>\n",
       "      <td>3.0</td>\n",
       "      <td>14.0</td>\n",
       "      <td>5.0</td>\n",
       "      <td>5.0</td>\n",
       "      <td>0.942308</td>\n",
       "      <td>1.0</td>\n",
       "    </tr>\n",
       "  </tbody>\n",
       "</table>\n",
       "</div>"
      ],
      "text/plain": [
       "      rate_marriage   age  yrs_married  children  religious  educ  occupation  \\\n",
       "4102            4.0  27.0          6.0       1.0        1.0  20.0         4.0   \n",
       "4162            3.0  22.0          0.5       0.0        2.0  17.0         3.0   \n",
       "4935            1.0  42.0         23.0       2.0        3.0  12.0         3.0   \n",
       "625             5.0  22.0          2.5       0.0        2.0  14.0         2.0   \n",
       "957             4.0  22.0          2.5       0.0        1.0  12.0         4.0   \n",
       "1651            3.0  22.0          2.5       1.0        1.0  12.0         3.0   \n",
       "5179            5.0  22.0          6.0       2.0        3.0  14.0         2.0   \n",
       "2921            5.0  27.0          6.0       1.0        2.0  12.0         5.0   \n",
       "1125            4.0  22.0          2.5       1.0        3.0  14.0         4.0   \n",
       "5862            4.0  27.0         13.0       2.0        3.0  14.0         5.0   \n",
       "\n",
       "      occupation_husb   affairs  affair  \n",
       "4102              4.0  0.000000     0.0  \n",
       "4162              5.0  0.000000     0.0  \n",
       "4935              5.0  0.521739     1.0  \n",
       "625               2.0  0.000000     0.0  \n",
       "957               3.0  0.000000     0.0  \n",
       "1651              4.0  0.000000     0.0  \n",
       "5179              4.0  0.583333     1.0  \n",
       "2921              5.0  0.000000     0.0  \n",
       "1125              5.0  0.000000     0.0  \n",
       "5862              5.0  0.942308     1.0  "
      ]
     },
     "execution_count": 17,
     "metadata": {},
     "output_type": "execute_result"
    }
   ],
   "source": [
    "#set affair as either 0 or 1\n",
    "\n",
    "affair_df = sm.datasets.fair.load_pandas().data\n",
    "\n",
    "affair_df['affair'] = (affair_df['affairs'] > 0).astype(float)\n",
    "affair_df.sort_values(by='affair', inplace=True)\n",
    "affair_df.reset_index(inplace=True, drop=True)\n",
    "affair_df.sample(10)"
   ]
  },
  {
   "cell_type": "code",
   "execution_count": 19,
   "id": "16f8a841",
   "metadata": {},
   "outputs": [
    {
     "data": {
      "text/plain": [
       "0.3224945020420987"
      ]
     },
     "execution_count": 19,
     "metadata": {},
     "output_type": "execute_result"
    }
   ],
   "source": [
    "# Lets get a general probability of having an affair\n",
    "\n",
    "affair_df['affair'].sum() / affair_df['affair'].count()"
   ]
  },
  {
   "cell_type": "markdown",
   "id": "955078a7",
   "metadata": {},
   "source": [
    "Lets use logistic regression to go deeper to find out what variable affect this"
   ]
  },
  {
   "cell_type": "code",
   "execution_count": 20,
   "id": "34a7d322",
   "metadata": {},
   "outputs": [
    {
     "name": "stdout",
     "output_type": "stream",
     "text": [
      "Optimization terminated successfully.\n",
      "         Current function value: 0.545314\n",
      "         Iterations 6\n"
     ]
    },
    {
     "data": {
      "text/html": [
       "<table class=\"simpletable\">\n",
       "<caption>Logit Regression Results</caption>\n",
       "<tr>\n",
       "  <th>Dep. Variable:</th>        <td>affair</td>      <th>  No. Observations:  </th>   <td>  6366</td>  \n",
       "</tr>\n",
       "<tr>\n",
       "  <th>Model:</th>                 <td>Logit</td>      <th>  Df Residuals:      </th>   <td>  6357</td>  \n",
       "</tr>\n",
       "<tr>\n",
       "  <th>Method:</th>                 <td>MLE</td>       <th>  Df Model:          </th>   <td>     8</td>  \n",
       "</tr>\n",
       "<tr>\n",
       "  <th>Date:</th>            <td>Thu, 31 Mar 2022</td> <th>  Pseudo R-squ.:     </th>   <td>0.1327</td>  \n",
       "</tr>\n",
       "<tr>\n",
       "  <th>Time:</th>                <td>20:40:35</td>     <th>  Log-Likelihood:    </th>  <td> -3471.5</td> \n",
       "</tr>\n",
       "<tr>\n",
       "  <th>converged:</th>             <td>True</td>       <th>  LL-Null:           </th>  <td> -4002.5</td> \n",
       "</tr>\n",
       "<tr>\n",
       "  <th>Covariance Type:</th>     <td>nonrobust</td>    <th>  LLR p-value:       </th> <td>5.807e-224</td>\n",
       "</tr>\n",
       "</table>\n",
       "<table class=\"simpletable\">\n",
       "<tr>\n",
       "         <td></td>            <th>coef</th>     <th>std err</th>      <th>z</th>      <th>P>|z|</th>  <th>[0.025</th>    <th>0.975]</th>  \n",
       "</tr>\n",
       "<tr>\n",
       "  <th>Intercept</th>       <td>    3.7257</td> <td>    0.299</td> <td>   12.470</td> <td> 0.000</td> <td>    3.140</td> <td>    4.311</td>\n",
       "</tr>\n",
       "<tr>\n",
       "  <th>occupation</th>      <td>    0.1602</td> <td>    0.034</td> <td>    4.717</td> <td> 0.000</td> <td>    0.094</td> <td>    0.227</td>\n",
       "</tr>\n",
       "<tr>\n",
       "  <th>educ</th>            <td>   -0.0392</td> <td>    0.015</td> <td>   -2.533</td> <td> 0.011</td> <td>   -0.070</td> <td>   -0.009</td>\n",
       "</tr>\n",
       "<tr>\n",
       "  <th>occupation_husb</th> <td>    0.0124</td> <td>    0.023</td> <td>    0.541</td> <td> 0.589</td> <td>   -0.033</td> <td>    0.057</td>\n",
       "</tr>\n",
       "<tr>\n",
       "  <th>rate_marriage</th>   <td>   -0.7161</td> <td>    0.031</td> <td>  -22.784</td> <td> 0.000</td> <td>   -0.778</td> <td>   -0.655</td>\n",
       "</tr>\n",
       "<tr>\n",
       "  <th>age</th>             <td>   -0.0605</td> <td>    0.010</td> <td>   -5.885</td> <td> 0.000</td> <td>   -0.081</td> <td>   -0.040</td>\n",
       "</tr>\n",
       "<tr>\n",
       "  <th>yrs_married</th>     <td>    0.1100</td> <td>    0.011</td> <td>   10.054</td> <td> 0.000</td> <td>    0.089</td> <td>    0.131</td>\n",
       "</tr>\n",
       "<tr>\n",
       "  <th>children</th>        <td>   -0.0042</td> <td>    0.032</td> <td>   -0.134</td> <td> 0.893</td> <td>   -0.066</td> <td>    0.058</td>\n",
       "</tr>\n",
       "<tr>\n",
       "  <th>religious</th>       <td>   -0.3752</td> <td>    0.035</td> <td>  -10.792</td> <td> 0.000</td> <td>   -0.443</td> <td>   -0.307</td>\n",
       "</tr>\n",
       "</table>"
      ],
      "text/plain": [
       "<class 'statsmodels.iolib.summary.Summary'>\n",
       "\"\"\"\n",
       "                           Logit Regression Results                           \n",
       "==============================================================================\n",
       "Dep. Variable:                 affair   No. Observations:                 6366\n",
       "Model:                          Logit   Df Residuals:                     6357\n",
       "Method:                           MLE   Df Model:                            8\n",
       "Date:                Thu, 31 Mar 2022   Pseudo R-squ.:                  0.1327\n",
       "Time:                        20:40:35   Log-Likelihood:                -3471.5\n",
       "converged:                       True   LL-Null:                       -4002.5\n",
       "Covariance Type:            nonrobust   LLR p-value:                5.807e-224\n",
       "===================================================================================\n",
       "                      coef    std err          z      P>|z|      [0.025      0.975]\n",
       "-----------------------------------------------------------------------------------\n",
       "Intercept           3.7257      0.299     12.470      0.000       3.140       4.311\n",
       "occupation          0.1602      0.034      4.717      0.000       0.094       0.227\n",
       "educ               -0.0392      0.015     -2.533      0.011      -0.070      -0.009\n",
       "occupation_husb     0.0124      0.023      0.541      0.589      -0.033       0.057\n",
       "rate_marriage      -0.7161      0.031    -22.784      0.000      -0.778      -0.655\n",
       "age                -0.0605      0.010     -5.885      0.000      -0.081      -0.040\n",
       "yrs_married         0.1100      0.011     10.054      0.000       0.089       0.131\n",
       "children           -0.0042      0.032     -0.134      0.893      -0.066       0.058\n",
       "religious          -0.3752      0.035    -10.792      0.000      -0.443      -0.307\n",
       "===================================================================================\n",
       "\"\"\""
      ]
     },
     "execution_count": 20,
     "metadata": {},
     "output_type": "execute_result"
    }
   ],
   "source": [
    "affair_mod = logit(\"affair ~ occupation + educ + occupation_husb\"\n",
    "                   \" + rate_marriage + age + yrs_married + children\"\n",
    "                   \" + religious\", affair_df).fit()\n",
    "\n",
    "affair_mod.summary()"
   ]
  },
  {
   "cell_type": "code",
   "execution_count": 21,
   "id": "e538321b",
   "metadata": {},
   "outputs": [
    {
     "data": {
      "text/plain": [
       "0.1602338331908284"
      ]
     },
     "execution_count": 21,
     "metadata": {},
     "output_type": "execute_result"
    }
   ],
   "source": [
    "# Lets take occupation\n",
    "affair_mod.params['occupation']"
   ]
  },
  {
   "cell_type": "markdown",
   "id": "71f626cf",
   "metadata": {},
   "source": [
    "Since logarithmic then the p(x) = e^0,1602≈1,1737 == 17%\n",
    "\n",
    "The better the female partner occupation the more likely to have an affair"
   ]
  },
  {
   "cell_type": "code",
   "execution_count": 22,
   "id": "186cc3eb",
   "metadata": {},
   "outputs": [
    {
     "data": {
      "text/plain": [
       "0.11001794098252722"
      ]
     },
     "execution_count": 22,
     "metadata": {},
     "output_type": "execute_result"
    }
   ],
   "source": [
    "# another variable\n",
    "affair_mod.params['yrs_married']"
   ]
  },
  {
   "cell_type": "markdown",
   "id": "820d8e91",
   "metadata": {},
   "source": [
    "Since logarithmic then the p(x) =  e^0,11≈1,12 == 12%"
   ]
  },
  {
   "cell_type": "code",
   "execution_count": 23,
   "id": "1ef52a68",
   "metadata": {},
   "outputs": [
    {
     "data": {
      "text/plain": [
       "-0.7161071050802287"
      ]
     },
     "execution_count": 23,
     "metadata": {},
     "output_type": "execute_result"
    }
   ],
   "source": [
    "affair_mod.params['rate_marriage']"
   ]
  },
  {
   "cell_type": "markdown",
   "id": "c4a0fd9d",
   "metadata": {},
   "source": [
    "Since logarithmic then the p(x) = e^ −0,7161≈0,4886, getting less by 100−0,4886≈51%."
   ]
  },
  {
   "cell_type": "code",
   "execution_count": 24,
   "id": "f14081b7",
   "metadata": {},
   "outputs": [
    {
     "data": {
      "text/plain": [
       "-0.37515765268395346"
      ]
     },
     "execution_count": 24,
     "metadata": {},
     "output_type": "execute_result"
    }
   ],
   "source": [
    "affair_mod.params['religious']"
   ]
  },
  {
   "cell_type": "markdown",
   "id": "49f81c37",
   "metadata": {},
   "source": [
    "e^−0,3752≈0,6872 ==> 100−68,72≈31%."
   ]
  },
  {
   "cell_type": "markdown",
   "id": "a5faa814",
   "metadata": {},
   "source": [
    "Note:\n",
    "\n",
    "To get a more information regarding logistic regression\n",
    "\n",
    "https://www.ncbi.nlm.nih.gov/pmc/articles/PMC3936971/"
   ]
  }
 ],
 "metadata": {
  "kernelspec": {
   "display_name": "Python 3 (ipykernel)",
   "language": "python",
   "name": "python3"
  },
  "language_info": {
   "codemirror_mode": {
    "name": "ipython",
    "version": 3
   },
   "file_extension": ".py",
   "mimetype": "text/x-python",
   "name": "python",
   "nbconvert_exporter": "python",
   "pygments_lexer": "ipython3",
   "version": "3.9.7"
  }
 },
 "nbformat": 4,
 "nbformat_minor": 5
}
