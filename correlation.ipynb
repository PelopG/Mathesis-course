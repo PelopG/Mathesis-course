{
 "cells": [
  {
   "cell_type": "markdown",
   "id": "e7df9791-a2f6-44d9-be67-eb61a485ddf3",
   "metadata": {},
   "source": [
    "We can investigate how 2 variables are correlated with each other by using for example Pearson correlation coeffiecient\n",
    "\n",
    "Pearson correlation coefficient is indicated with (r) and can have values from -1 to 1\n",
    "\n",
    "+1 Shows that the 2 variables are correlated on a straight positive line , whereas -1 is a straight negative line\n",
    "\n",
    "0 indicates that the variables are not correlated"
   ]
  },
  {
   "cell_type": "code",
   "execution_count": 1,
   "id": "c01ed95f-431e-43a1-97d0-fb2616dbd983",
   "metadata": {},
   "outputs": [],
   "source": [
    "# In order to investigate this correlation\n",
    "import scipy.stats.stats as stats # need to use SciPy library\n",
    "\n",
    "import pandas as pd\n",
    "import numpy as np\n",
    "import seaborn as sns\n",
    "sns.set_style()"
   ]
  },
  {
   "cell_type": "markdown",
   "id": "f2e603e4-cc81-410a-9254-ce4b09f72930",
   "metadata": {},
   "source": [
    "Lets declare 2 variables x & y\n",
    "\n",
    "y = 0.8x+0.36c"
   ]
  },
  {
   "cell_type": "code",
   "execution_count": 2,
   "id": "ddffbd58-4618-4713-b5cb-5dd49b6e2b7c",
   "metadata": {},
   "outputs": [],
   "source": [
    "np.random.seed(42) # random variables\n",
    "r = 0.8\n",
    "x = np.random.normal(size=100)\n",
    "y = r*x + np.sqrt(1-r**2)*np.random.normal(size=100)\n",
    "df_1 = pd.DataFrame({'x': x, 'y': y})"
   ]
  },
  {
   "cell_type": "code",
   "execution_count": 3,
   "id": "52c29f46-f390-43c4-a17e-d494feb5092e",
   "metadata": {},
   "outputs": [
    {
     "data": {
      "text/html": [
       "<div>\n",
       "<style scoped>\n",
       "    .dataframe tbody tr th:only-of-type {\n",
       "        vertical-align: middle;\n",
       "    }\n",
       "\n",
       "    .dataframe tbody tr th {\n",
       "        vertical-align: top;\n",
       "    }\n",
       "\n",
       "    .dataframe thead th {\n",
       "        text-align: right;\n",
       "    }\n",
       "</style>\n",
       "<table border=\"1\" class=\"dataframe\">\n",
       "  <thead>\n",
       "    <tr style=\"text-align: right;\">\n",
       "      <th></th>\n",
       "      <th>x</th>\n",
       "      <th>y</th>\n",
       "    </tr>\n",
       "  </thead>\n",
       "  <tbody>\n",
       "    <tr>\n",
       "      <th>0</th>\n",
       "      <td>0.496714</td>\n",
       "      <td>-0.451851</td>\n",
       "    </tr>\n",
       "    <tr>\n",
       "      <th>1</th>\n",
       "      <td>-0.138264</td>\n",
       "      <td>-0.362999</td>\n",
       "    </tr>\n",
       "    <tr>\n",
       "      <th>2</th>\n",
       "      <td>0.647689</td>\n",
       "      <td>0.312522</td>\n",
       "    </tr>\n",
       "    <tr>\n",
       "      <th>3</th>\n",
       "      <td>1.523030</td>\n",
       "      <td>0.737058</td>\n",
       "    </tr>\n",
       "    <tr>\n",
       "      <th>4</th>\n",
       "      <td>-0.234153</td>\n",
       "      <td>-0.284094</td>\n",
       "    </tr>\n",
       "    <tr>\n",
       "      <th>...</th>\n",
       "      <td>...</td>\n",
       "      <td>...</td>\n",
       "    </tr>\n",
       "    <tr>\n",
       "      <th>95</th>\n",
       "      <td>-1.463515</td>\n",
       "      <td>-0.939622</td>\n",
       "    </tr>\n",
       "    <tr>\n",
       "      <th>96</th>\n",
       "      <td>0.296120</td>\n",
       "      <td>-0.293418</td>\n",
       "    </tr>\n",
       "    <tr>\n",
       "      <th>97</th>\n",
       "      <td>0.261055</td>\n",
       "      <td>0.301079</td>\n",
       "    </tr>\n",
       "    <tr>\n",
       "      <th>98</th>\n",
       "      <td>0.005113</td>\n",
       "      <td>0.039016</td>\n",
       "    </tr>\n",
       "    <tr>\n",
       "      <th>99</th>\n",
       "      <td>-0.234587</td>\n",
       "      <td>-0.873452</td>\n",
       "    </tr>\n",
       "  </tbody>\n",
       "</table>\n",
       "<p>100 rows × 2 columns</p>\n",
       "</div>"
      ],
      "text/plain": [
       "           x         y\n",
       "0   0.496714 -0.451851\n",
       "1  -0.138264 -0.362999\n",
       "2   0.647689  0.312522\n",
       "3   1.523030  0.737058\n",
       "4  -0.234153 -0.284094\n",
       "..       ...       ...\n",
       "95 -1.463515 -0.939622\n",
       "96  0.296120 -0.293418\n",
       "97  0.261055  0.301079\n",
       "98  0.005113  0.039016\n",
       "99 -0.234587 -0.873452\n",
       "\n",
       "[100 rows x 2 columns]"
      ]
     },
     "execution_count": 3,
     "metadata": {},
     "output_type": "execute_result"
    }
   ],
   "source": [
    "df_1"
   ]
  },
  {
   "cell_type": "code",
   "execution_count": 4,
   "id": "0f09c759-c1a0-4a28-afd9-498806b29793",
   "metadata": {},
   "outputs": [
    {
     "data": {
      "image/png": "[encoded data removed]",
      "text/plain": [
       "<Figure size 576x432 with 1 Axes>"
      ]
     },
     "metadata": {},
     "output_type": "display_data"
    }
   ],
   "source": [
    "# Create the plot - scatter plot\n",
    "sns.set(rc={\"figure.figsize\":(8, 6)})\n",
    "_ = sns.scatterplot(x='x', y='y', data=df_1)"
   ]
  },
  {
   "cell_type": "code",
   "execution_count": 5,
   "id": "a4364163-fab8-4b3b-803f-15c94662d379",
   "metadata": {},
   "outputs": [
    {
     "data": {
      "text/plain": [
       "(0.7529004259351295, 1.6598002643730582e-19)"
      ]
     },
     "execution_count": 5,
     "metadata": {},
     "output_type": "execute_result"
    }
   ],
   "source": [
    "# In order to calculate Pearson coefficient\n",
    "stats.pearsonr(df_1.x, df_1.y)"
   ]
  },
  {
   "cell_type": "markdown",
   "id": "6867b5c7-d21c-442c-a947-89997d32af8b",
   "metadata": {},
   "source": [
    "We can see that running this command outputs 2 values\n",
    "1) p-value - how likely the pearson coeffient will be close to the real value at random\n",
    "2) pearson coefficient"
   ]
  },
  {
   "cell_type": "code",
   "execution_count": 6,
   "id": "1a55882d-7684-4eb4-94a5-ff2eb6cff8e5",
   "metadata": {},
   "outputs": [],
   "source": [
    "# y = 0.6x +0.64c\n",
    "np.random.seed(42)\n",
    "r = 0.6\n",
    "x = np.random.normal(size=100)\n",
    "y = r*x + np.sqrt(1-r**2)*np.random.normal(size=100)\n",
    "df_2 = pd.DataFrame({'x': x, 'y': y})"
   ]
  },
  {
   "cell_type": "code",
   "execution_count": 7,
   "id": "0e0aa24d-f75c-4f4c-8abe-05240fd8a32e",
   "metadata": {},
   "outputs": [
    {
     "data": {
      "text/html": [
       "<div>\n",
       "<style scoped>\n",
       "    .dataframe tbody tr th:only-of-type {\n",
       "        vertical-align: middle;\n",
       "    }\n",
       "\n",
       "    .dataframe tbody tr th {\n",
       "        vertical-align: top;\n",
       "    }\n",
       "\n",
       "    .dataframe thead th {\n",
       "        text-align: right;\n",
       "    }\n",
       "</style>\n",
       "<table border=\"1\" class=\"dataframe\">\n",
       "  <thead>\n",
       "    <tr style=\"text-align: right;\">\n",
       "      <th></th>\n",
       "      <th>x</th>\n",
       "      <th>y</th>\n",
       "    </tr>\n",
       "  </thead>\n",
       "  <tbody>\n",
       "    <tr>\n",
       "      <th>0</th>\n",
       "      <td>0.496714</td>\n",
       "      <td>-0.834268</td>\n",
       "    </tr>\n",
       "    <tr>\n",
       "      <th>1</th>\n",
       "      <td>-0.138264</td>\n",
       "      <td>-0.419475</td>\n",
       "    </tr>\n",
       "    <tr>\n",
       "      <th>2</th>\n",
       "      <td>0.647689</td>\n",
       "      <td>0.114442</td>\n",
       "    </tr>\n",
       "    <tr>\n",
       "      <th>3</th>\n",
       "      <td>1.523030</td>\n",
       "      <td>0.271996</td>\n",
       "    </tr>\n",
       "    <tr>\n",
       "      <th>4</th>\n",
       "      <td>-0.234153</td>\n",
       "      <td>-0.269521</td>\n",
       "    </tr>\n",
       "    <tr>\n",
       "      <th>...</th>\n",
       "      <td>...</td>\n",
       "      <td>...</td>\n",
       "    </tr>\n",
       "    <tr>\n",
       "      <th>95</th>\n",
       "      <td>-1.463515</td>\n",
       "      <td>-0.569855</td>\n",
       "    </tr>\n",
       "    <tr>\n",
       "      <th>96</th>\n",
       "      <td>0.296120</td>\n",
       "      <td>-0.529414</td>\n",
       "    </tr>\n",
       "    <tr>\n",
       "      <th>97</th>\n",
       "      <td>0.261055</td>\n",
       "      <td>0.279613</td>\n",
       "    </tr>\n",
       "    <tr>\n",
       "      <th>98</th>\n",
       "      <td>0.005113</td>\n",
       "      <td>0.049635</td>\n",
       "    </tr>\n",
       "    <tr>\n",
       "      <th>99</th>\n",
       "      <td>-0.234587</td>\n",
       "      <td>-1.055129</td>\n",
       "    </tr>\n",
       "  </tbody>\n",
       "</table>\n",
       "<p>100 rows × 2 columns</p>\n",
       "</div>"
      ],
      "text/plain": [
       "           x         y\n",
       "0   0.496714 -0.834268\n",
       "1  -0.138264 -0.419475\n",
       "2   0.647689  0.114442\n",
       "3   1.523030  0.271996\n",
       "4  -0.234153 -0.269521\n",
       "..       ...       ...\n",
       "95 -1.463515 -0.569855\n",
       "96  0.296120 -0.529414\n",
       "97  0.261055  0.279613\n",
       "98  0.005113  0.049635\n",
       "99 -0.234587 -1.055129\n",
       "\n",
       "[100 rows x 2 columns]"
      ]
     },
     "execution_count": 7,
     "metadata": {},
     "output_type": "execute_result"
    }
   ],
   "source": [
    "df_2"
   ]
  },
  {
   "cell_type": "code",
   "execution_count": 8,
   "id": "2a4d4d57-6df7-4325-9a87-d37f063e6b1f",
   "metadata": {},
   "outputs": [
    {
     "data": {
      "image/png": "[encoded data removed]",
      "text/plain": [
       "<Figure size 576x432 with 1 Axes>"
      ]
     },
     "metadata": {},
     "output_type": "display_data"
    }
   ],
   "source": [
    "_ = sns.scatterplot(x='x', y='y', data=df_2)"
   ]
  },
  {
   "cell_type": "code",
   "execution_count": 10,
   "id": "d1f1d72a-27a3-43ce-a8e2-b4c0d8bd0a30",
   "metadata": {},
   "outputs": [
    {
     "data": {
      "text/plain": [
       "(0.5038156484709346, 9.120853831670844e-08)"
      ]
     },
     "execution_count": 10,
     "metadata": {},
     "output_type": "execute_result"
    }
   ],
   "source": [
    "stats.pearsonr(df_2.x, df_2.y)"
   ]
  },
  {
   "cell_type": "markdown",
   "id": "6a90a56b-e1e4-4d58-9fdb-2444e3b2e646",
   "metadata": {},
   "source": [
    "We need to be careful when the data contains outliers"
   ]
  },
  {
   "cell_type": "code",
   "execution_count": 11,
   "id": "ba9d4e45-61e4-4c90-ad98-6503be400644",
   "metadata": {},
   "outputs": [],
   "source": [
    "np.random.seed(42)\n",
    "r = 0.8\n",
    "x = np.random.normal(size=100)\n",
    "y = r*x + np.sqrt(1-r**2)*np.random.normal(size=100)\n",
    "ii = np.argsort(-x) # push some random variables *5 to the left\n",
    "x[ii[0:5]] *= 5\n",
    "df_3 = pd.DataFrame({'x': x, 'y': y})"
   ]
  },
  {
   "cell_type": "code",
   "execution_count": 12,
   "id": "1fe9f8db-27b7-4b06-b0f1-020b0fee4da2",
   "metadata": {},
   "outputs": [
    {
     "data": {
      "text/html": [
       "<div>\n",
       "<style scoped>\n",
       "    .dataframe tbody tr th:only-of-type {\n",
       "        vertical-align: middle;\n",
       "    }\n",
       "\n",
       "    .dataframe tbody tr th {\n",
       "        vertical-align: top;\n",
       "    }\n",
       "\n",
       "    .dataframe thead th {\n",
       "        text-align: right;\n",
       "    }\n",
       "</style>\n",
       "<table border=\"1\" class=\"dataframe\">\n",
       "  <thead>\n",
       "    <tr style=\"text-align: right;\">\n",
       "      <th></th>\n",
       "      <th>x</th>\n",
       "      <th>y</th>\n",
       "    </tr>\n",
       "  </thead>\n",
       "  <tbody>\n",
       "    <tr>\n",
       "      <th>0</th>\n",
       "      <td>0.496714</td>\n",
       "      <td>-0.451851</td>\n",
       "    </tr>\n",
       "    <tr>\n",
       "      <th>1</th>\n",
       "      <td>-0.138264</td>\n",
       "      <td>-0.362999</td>\n",
       "    </tr>\n",
       "    <tr>\n",
       "      <th>2</th>\n",
       "      <td>0.647689</td>\n",
       "      <td>0.312522</td>\n",
       "    </tr>\n",
       "    <tr>\n",
       "      <th>3</th>\n",
       "      <td>7.615149</td>\n",
       "      <td>0.737058</td>\n",
       "    </tr>\n",
       "    <tr>\n",
       "      <th>4</th>\n",
       "      <td>-0.234153</td>\n",
       "      <td>-0.284094</td>\n",
       "    </tr>\n",
       "    <tr>\n",
       "      <th>...</th>\n",
       "      <td>...</td>\n",
       "      <td>...</td>\n",
       "    </tr>\n",
       "    <tr>\n",
       "      <th>95</th>\n",
       "      <td>-1.463515</td>\n",
       "      <td>-0.939622</td>\n",
       "    </tr>\n",
       "    <tr>\n",
       "      <th>96</th>\n",
       "      <td>0.296120</td>\n",
       "      <td>-0.293418</td>\n",
       "    </tr>\n",
       "    <tr>\n",
       "      <th>97</th>\n",
       "      <td>0.261055</td>\n",
       "      <td>0.301079</td>\n",
       "    </tr>\n",
       "    <tr>\n",
       "      <th>98</th>\n",
       "      <td>0.005113</td>\n",
       "      <td>0.039016</td>\n",
       "    </tr>\n",
       "    <tr>\n",
       "      <th>99</th>\n",
       "      <td>-0.234587</td>\n",
       "      <td>-0.873452</td>\n",
       "    </tr>\n",
       "  </tbody>\n",
       "</table>\n",
       "<p>100 rows × 2 columns</p>\n",
       "</div>"
      ],
      "text/plain": [
       "           x         y\n",
       "0   0.496714 -0.451851\n",
       "1  -0.138264 -0.362999\n",
       "2   0.647689  0.312522\n",
       "3   7.615149  0.737058\n",
       "4  -0.234153 -0.284094\n",
       "..       ...       ...\n",
       "95 -1.463515 -0.939622\n",
       "96  0.296120 -0.293418\n",
       "97  0.261055  0.301079\n",
       "98  0.005113  0.039016\n",
       "99 -0.234587 -0.873452\n",
       "\n",
       "[100 rows x 2 columns]"
      ]
     },
     "execution_count": 12,
     "metadata": {},
     "output_type": "execute_result"
    }
   ],
   "source": [
    "df_3"
   ]
  },
  {
   "cell_type": "code",
   "execution_count": 13,
   "id": "b50fce72-2432-44b0-8863-d17890d55362",
   "metadata": {},
   "outputs": [
    {
     "data": {
      "image/png": "[encoded data removed]",
      "text/plain": [
       "<Figure size 576x432 with 1 Axes>"
      ]
     },
     "metadata": {},
     "output_type": "display_data"
    }
   ],
   "source": [
    "_ = sns.scatterplot(x='x', y='y', data=df_3)"
   ]
  },
  {
   "cell_type": "code",
   "execution_count": 14,
   "id": "286d94fd-3876-4d22-833a-15500bc23dda",
   "metadata": {},
   "outputs": [
    {
     "data": {
      "text/plain": [
       "(0.6200894823297652, 5.996001353052201e-12)"
      ]
     },
     "execution_count": 14,
     "metadata": {},
     "output_type": "execute_result"
    }
   ],
   "source": [
    "stats.pearsonr(df_3.x, df_3.y)"
   ]
  },
  {
   "cell_type": "markdown",
   "id": "66e68712-fcb2-4087-994b-b2343048a29f",
   "metadata": {},
   "source": [
    "We can see that pearson coefficient drops"
   ]
  },
  {
   "cell_type": "markdown",
   "id": "87dcc9e3-7086-4ee4-a03d-7f6eabf9900f",
   "metadata": {},
   "source": [
    "Pearson coefficient measure a linear correlation of the data\n",
    "\n",
    "Can see a photograph from the link below\n",
    "\n",
    "https://en.wikipedia.org/wiki/Pearson_correlation_coefficient#/media/File:Correlation_examples2.svg\n",
    "\n",
    "Note: \n",
    "Even if we get a pearson value of 0 , this does not necessarily mean the data are not correlated. It means that the data are NOT LINEARLY correlated"
   ]
  },
  {
   "cell_type": "markdown",
   "id": "306f1920-6990-4752-b2f1-82fa7b616210",
   "metadata": {},
   "source": [
    "If the data are not linearly correlated then we can check for the spearman rank correlation\n",
    "\n",
    "In order to check for (ρ) we need to sort the data in either ascending or descending order\n",
    "\n",
    "To do that using python we need tp use the function spearman() from the libary scipy.stats.stats\n",
    "\n",
    "For Example:\n",
    "https://commons.wikimedia.org/wiki/File:Spearman_fig1.svg"
   ]
  },
  {
   "cell_type": "code",
   "execution_count": 15,
   "id": "e31a423c-b402-4144-8536-8bbda98d2ba1",
   "metadata": {},
   "outputs": [],
   "source": [
    "np.random.seed(42)\n",
    "x = np.random.uniform(size=100)\n",
    "y = np.log(x/(1-x))\n",
    "y = np.sign(y)*(np.abs(y)**1.4)\n",
    "df_4 = pd.DataFrame({'x': x, 'y': y})"
   ]
  },
  {
   "cell_type": "code",
   "execution_count": 16,
   "id": "2416371f-7197-4ae2-a347-d16cd38c8e29",
   "metadata": {},
   "outputs": [
    {
     "data": {
      "text/html": [
       "<div>\n",
       "<style scoped>\n",
       "    .dataframe tbody tr th:only-of-type {\n",
       "        vertical-align: middle;\n",
       "    }\n",
       "\n",
       "    .dataframe tbody tr th {\n",
       "        vertical-align: top;\n",
       "    }\n",
       "\n",
       "    .dataframe thead th {\n",
       "        text-align: right;\n",
       "    }\n",
       "</style>\n",
       "<table border=\"1\" class=\"dataframe\">\n",
       "  <thead>\n",
       "    <tr style=\"text-align: right;\">\n",
       "      <th></th>\n",
       "      <th>x</th>\n",
       "      <th>y</th>\n",
       "    </tr>\n",
       "  </thead>\n",
       "  <tbody>\n",
       "    <tr>\n",
       "      <th>0</th>\n",
       "      <td>0.374540</td>\n",
       "      <td>-0.392567</td>\n",
       "    </tr>\n",
       "    <tr>\n",
       "      <th>1</th>\n",
       "      <td>0.950714</td>\n",
       "      <td>4.567958</td>\n",
       "    </tr>\n",
       "    <tr>\n",
       "      <th>2</th>\n",
       "      <td>0.731994</td>\n",
       "      <td>1.006674</td>\n",
       "    </tr>\n",
       "    <tr>\n",
       "      <th>3</th>\n",
       "      <td>0.598658</td>\n",
       "      <td>0.277140</td>\n",
       "    </tr>\n",
       "    <tr>\n",
       "      <th>4</th>\n",
       "      <td>0.156019</td>\n",
       "      <td>-2.081504</td>\n",
       "    </tr>\n",
       "    <tr>\n",
       "      <th>...</th>\n",
       "      <td>...</td>\n",
       "      <td>...</td>\n",
       "    </tr>\n",
       "    <tr>\n",
       "      <th>95</th>\n",
       "      <td>0.493796</td>\n",
       "      <td>-0.005658</td>\n",
       "    </tr>\n",
       "    <tr>\n",
       "      <th>96</th>\n",
       "      <td>0.522733</td>\n",
       "      <td>0.034883</td>\n",
       "    </tr>\n",
       "    <tr>\n",
       "      <th>97</th>\n",
       "      <td>0.427541</td>\n",
       "      <td>-0.178365</td>\n",
       "    </tr>\n",
       "    <tr>\n",
       "      <th>98</th>\n",
       "      <td>0.025419</td>\n",
       "      <td>-6.118256</td>\n",
       "    </tr>\n",
       "    <tr>\n",
       "      <th>99</th>\n",
       "      <td>0.107891</td>\n",
       "      <td>-2.849080</td>\n",
       "    </tr>\n",
       "  </tbody>\n",
       "</table>\n",
       "<p>100 rows × 2 columns</p>\n",
       "</div>"
      ],
      "text/plain": [
       "           x         y\n",
       "0   0.374540 -0.392567\n",
       "1   0.950714  4.567958\n",
       "2   0.731994  1.006674\n",
       "3   0.598658  0.277140\n",
       "4   0.156019 -2.081504\n",
       "..       ...       ...\n",
       "95  0.493796 -0.005658\n",
       "96  0.522733  0.034883\n",
       "97  0.427541 -0.178365\n",
       "98  0.025419 -6.118256\n",
       "99  0.107891 -2.849080\n",
       "\n",
       "[100 rows x 2 columns]"
      ]
     },
     "execution_count": 16,
     "metadata": {},
     "output_type": "execute_result"
    }
   ],
   "source": [
    "df_4"
   ]
  },
  {
   "cell_type": "code",
   "execution_count": null,
   "id": "564a8b34-f5b1-49ec-a159-b4c0736fe7a0",
   "metadata": {},
   "outputs": [
    {
     "data": {
      "image/png": "[encoded data removed]",
      "text/plain": [
       "<Figure size 576x432 with 1 Axes>"
      ]
     },
     "metadata": {},
     "output_type": "display_data"
    }
   ],
   "source": [
    "_ = sns.scatterplot(x='x', y='y', data=df_4)"
   ]
  },
  {
   "cell_type": "markdown",
   "id": "f3185b96-9848-4591-8d5f-63e640f318c5",
   "metadata": {},
   "source": [
    "We can see that the correlation is not linear but there is a correlation"
   ]
  },
  {
   "cell_type": "code",
   "execution_count": 18,
   "id": "31f6ba06-715b-4540-bce9-d85fd8243a04",
   "metadata": {},
   "outputs": [
    {
     "name": "stdout",
     "output_type": "stream",
     "text": [
      "Pearson (0.9154291577976972, 1.6129079055536346e-40)\n",
      "Spearman SpearmanrResult(correlation=0.9999999999999999, pvalue=0.0)\n"
     ]
    }
   ],
   "source": [
    "# Calculate pearson and spearman\n",
    "print('Pearson', stats.pearsonr(df_4.x, df_4.y))\n",
    "print('Spearman', stats.spearmanr(df_4.x, df_4.y))"
   ]
  },
  {
   "cell_type": "code",
   "execution_count": 19,
   "id": "b473b681-4e91-47f6-ab47-ed956a10a987",
   "metadata": {},
   "outputs": [
    {
     "data": {
      "image/png": "[encoded data removed]",
      "text/plain": [
       "<Figure size 576x432 with 1 Axes>"
      ]
     },
     "metadata": {},
     "output_type": "display_data"
    }
   ],
   "source": [
    "# Spearman coeffiecient is more sensitive to outliers hence for the previous data\n",
    "_ = sns.scatterplot(x='x', y='y', data=df_3)"
   ]
  },
  {
   "cell_type": "code",
   "execution_count": 20,
   "id": "af2c85c5-3785-4f44-913b-2cf6bc7b0d99",
   "metadata": {},
   "outputs": [
    {
     "name": "stdout",
     "output_type": "stream",
     "text": [
      "Pearson (0.6200894823297652, 5.996001353052201e-12)\n",
      "SpearmanrResult(correlation=0.7201200120012, pvalue=3.0751702980521144e-17)\n"
     ]
    }
   ],
   "source": [
    "print('Pearson', stats.pearsonr(df_3.x, df_3.y))\n",
    "print(stats.spearmanr(df_3.x, df_3.y))"
   ]
  },
  {
   "cell_type": "markdown",
   "id": "d82a877e-659a-499f-ae1e-84d56a55935e",
   "metadata": {},
   "source": [
    "Lets now see another example\n",
    "\n",
    "www.thefunctionalart.com/2016/08/download-datasaurus-never-trust-summary.html"
   ]
  },
  {
   "cell_type": "code",
   "execution_count": 21,
   "id": "6743da1d-1f7f-400d-ac24-50abb139117a",
   "metadata": {},
   "outputs": [
    {
     "data": {
      "text/html": [
       "<div>\n",
       "<style scoped>\n",
       "    .dataframe tbody tr th:only-of-type {\n",
       "        vertical-align: middle;\n",
       "    }\n",
       "\n",
       "    .dataframe tbody tr th {\n",
       "        vertical-align: top;\n",
       "    }\n",
       "\n",
       "    .dataframe thead th {\n",
       "        text-align: right;\n",
       "    }\n",
       "</style>\n",
       "<table border=\"1\" class=\"dataframe\">\n",
       "  <thead>\n",
       "    <tr style=\"text-align: right;\">\n",
       "      <th></th>\n",
       "      <th>x</th>\n",
       "      <th>y</th>\n",
       "    </tr>\n",
       "  </thead>\n",
       "  <tbody>\n",
       "    <tr>\n",
       "      <th>0</th>\n",
       "      <td>55.3846</td>\n",
       "      <td>97.1795</td>\n",
       "    </tr>\n",
       "    <tr>\n",
       "      <th>1</th>\n",
       "      <td>51.5385</td>\n",
       "      <td>96.0256</td>\n",
       "    </tr>\n",
       "    <tr>\n",
       "      <th>2</th>\n",
       "      <td>46.1538</td>\n",
       "      <td>94.4872</td>\n",
       "    </tr>\n",
       "    <tr>\n",
       "      <th>3</th>\n",
       "      <td>42.8205</td>\n",
       "      <td>91.4103</td>\n",
       "    </tr>\n",
       "    <tr>\n",
       "      <th>4</th>\n",
       "      <td>40.7692</td>\n",
       "      <td>88.3333</td>\n",
       "    </tr>\n",
       "    <tr>\n",
       "      <th>...</th>\n",
       "      <td>...</td>\n",
       "      <td>...</td>\n",
       "    </tr>\n",
       "    <tr>\n",
       "      <th>137</th>\n",
       "      <td>39.4872</td>\n",
       "      <td>25.3846</td>\n",
       "    </tr>\n",
       "    <tr>\n",
       "      <th>138</th>\n",
       "      <td>91.2821</td>\n",
       "      <td>41.5385</td>\n",
       "    </tr>\n",
       "    <tr>\n",
       "      <th>139</th>\n",
       "      <td>50.0000</td>\n",
       "      <td>95.7692</td>\n",
       "    </tr>\n",
       "    <tr>\n",
       "      <th>140</th>\n",
       "      <td>47.9487</td>\n",
       "      <td>95.0000</td>\n",
       "    </tr>\n",
       "    <tr>\n",
       "      <th>141</th>\n",
       "      <td>44.1026</td>\n",
       "      <td>92.6923</td>\n",
       "    </tr>\n",
       "  </tbody>\n",
       "</table>\n",
       "<p>142 rows × 2 columns</p>\n",
       "</div>"
      ],
      "text/plain": [
       "           x        y\n",
       "0    55.3846  97.1795\n",
       "1    51.5385  96.0256\n",
       "2    46.1538  94.4872\n",
       "3    42.8205  91.4103\n",
       "4    40.7692  88.3333\n",
       "..       ...      ...\n",
       "137  39.4872  25.3846\n",
       "138  91.2821  41.5385\n",
       "139  50.0000  95.7692\n",
       "140  47.9487  95.0000\n",
       "141  44.1026  92.6923\n",
       "\n",
       "[142 rows x 2 columns]"
      ]
     },
     "execution_count": 21,
     "metadata": {},
     "output_type": "execute_result"
    }
   ],
   "source": [
    "import pandas as pd\n",
    "\n",
    "df_ac = pd.read_csv('the_functional_art.csv', header=None, names=['x', 'y'])\n",
    "df_ac"
   ]
  },
  {
   "cell_type": "code",
   "execution_count": 22,
   "id": "9e627631-2d6d-4a4f-acc5-8de3cf2514a8",
   "metadata": {},
   "outputs": [
    {
     "data": {
      "text/html": [
       "<div>\n",
       "<style scoped>\n",
       "    .dataframe tbody tr th:only-of-type {\n",
       "        vertical-align: middle;\n",
       "    }\n",
       "\n",
       "    .dataframe tbody tr th {\n",
       "        vertical-align: top;\n",
       "    }\n",
       "\n",
       "    .dataframe thead th {\n",
       "        text-align: right;\n",
       "    }\n",
       "</style>\n",
       "<table border=\"1\" class=\"dataframe\">\n",
       "  <thead>\n",
       "    <tr style=\"text-align: right;\">\n",
       "      <th></th>\n",
       "      <th>x</th>\n",
       "      <th>y</th>\n",
       "    </tr>\n",
       "  </thead>\n",
       "  <tbody>\n",
       "    <tr>\n",
       "      <th>count</th>\n",
       "      <td>142.000000</td>\n",
       "      <td>142.000000</td>\n",
       "    </tr>\n",
       "    <tr>\n",
       "      <th>mean</th>\n",
       "      <td>54.263273</td>\n",
       "      <td>47.832253</td>\n",
       "    </tr>\n",
       "    <tr>\n",
       "      <th>std</th>\n",
       "      <td>16.765142</td>\n",
       "      <td>26.935403</td>\n",
       "    </tr>\n",
       "    <tr>\n",
       "      <th>min</th>\n",
       "      <td>22.307700</td>\n",
       "      <td>2.948700</td>\n",
       "    </tr>\n",
       "    <tr>\n",
       "      <th>25%</th>\n",
       "      <td>44.102600</td>\n",
       "      <td>25.288450</td>\n",
       "    </tr>\n",
       "    <tr>\n",
       "      <th>50%</th>\n",
       "      <td>53.333300</td>\n",
       "      <td>46.025600</td>\n",
       "    </tr>\n",
       "    <tr>\n",
       "      <th>75%</th>\n",
       "      <td>64.743600</td>\n",
       "      <td>68.525675</td>\n",
       "    </tr>\n",
       "    <tr>\n",
       "      <th>max</th>\n",
       "      <td>98.205100</td>\n",
       "      <td>99.487200</td>\n",
       "    </tr>\n",
       "  </tbody>\n",
       "</table>\n",
       "</div>"
      ],
      "text/plain": [
       "                x           y\n",
       "count  142.000000  142.000000\n",
       "mean    54.263273   47.832253\n",
       "std     16.765142   26.935403\n",
       "min     22.307700    2.948700\n",
       "25%     44.102600   25.288450\n",
       "50%     53.333300   46.025600\n",
       "75%     64.743600   68.525675\n",
       "max     98.205100   99.487200"
      ]
     },
     "execution_count": 22,
     "metadata": {},
     "output_type": "execute_result"
    }
   ],
   "source": [
    "df_ac.describe() # standard statistical calculations"
   ]
  },
  {
   "cell_type": "code",
   "execution_count": 23,
   "id": "79c73d96-ed9a-4835-a2d6-03112d7988be",
   "metadata": {},
   "outputs": [
    {
     "name": "stdout",
     "output_type": "stream",
     "text": [
      "Pearson (-0.06447185270095164, 0.44589659802470616)\n",
      "SpearmanrResult(correlation=-0.06510904080429955, pvalue=0.44140461256177965)\n"
     ]
    }
   ],
   "source": [
    "print('Pearson', stats.pearsonr(df_ac.x, df_ac.y))\n",
    "print(stats.spearmanr(df_ac.x, df_ac.y))"
   ]
  },
  {
   "cell_type": "code",
   "execution_count": null,
   "id": "833c3535-c30e-487e-970b-47805ce981f5",
   "metadata": {},
   "outputs": [
    {
     "data": {
      "image/png": "[encoded data removed]",
      "text/plain": [
       "<Figure size 576x432 with 1 Axes>"
      ]
     },
     "metadata": {},
     "output_type": "display_data"
    }
   ],
   "source": [
    "# Lets now grpah the data\n",
    "_ = sns.scatterplot(x='x', y='y', data=df_ac)"
   ]
  },
  {
   "cell_type": "markdown",
   "id": "0d0e61e6-6b25-4269-ba62-90454ca024b6",
   "metadata": {},
   "source": [
    "We can see that the data are not random but they are either linear or in order\n",
    "\n",
    "Hence either spearman and pearson can identify if there is a correlation\n",
    "\n",
    "TIP:\n",
    "We should just stop when we check the correlation coefficient valus but rather since we have the tools we can create graphs in order to verify the correlation"
   ]
  }
 ],
 "metadata": {
  "kernelspec": {
   "display_name": "Python 3 (ipykernel)",
   "language": "python",
   "name": "python3"
  },
  "language_info": {
   "codemirror_mode": {
    "name": "ipython",
    "version": 3
   },
   "file_extension": ".py",
   "mimetype": "text/x-python",
   "name": "python",
   "nbconvert_exporter": "python",
   "pygments_lexer": "ipython3",
   "version": "3.9.7"
  }
 },
 "nbformat": 4,
 "nbformat_minor": 5
}
